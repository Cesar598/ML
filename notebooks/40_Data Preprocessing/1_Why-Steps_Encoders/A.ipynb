{
 "cells": [
  {
   "attachments": {},
   "cell_type": "markdown",
   "id": "6a777f07",
   "metadata": {
    "papermill": {
     "duration": 0.003052,
     "end_time": "2024-05-10T12:03:18.443620",
     "exception": false,
     "start_time": "2024-05-10T12:03:18.440568",
     "status": "completed"
    },
    "tags": []
   },
   "source": [
    "# Dummy variables"
   ]
  },
  {
   "attachments": {},
   "cell_type": "markdown",
   "id": "4dccdf87",
   "metadata": {
    "papermill": {
     "duration": 0.001715,
     "end_time": "2024-05-10T12:03:18.448944",
     "exception": false,
     "start_time": "2024-05-10T12:03:18.447229",
     "status": "completed"
    },
    "tags": []
   },
   "source": [
    "## Load data"
   ]
  },
  {
   "cell_type": "code",
   "execution_count": 1,
   "id": "42f3ec61",
   "metadata": {
    "execution": {
     "iopub.execute_input": "2024-05-10T12:03:18.454028Z",
     "iopub.status.busy": "2024-05-10T12:03:18.453742Z",
     "iopub.status.idle": "2024-05-10T12:03:18.465925Z",
     "shell.execute_reply": "2024-05-10T12:03:18.465586Z"
    },
    "papermill": {
     "duration": 0.016521,
     "end_time": "2024-05-10T12:03:18.467078",
     "exception": false,
     "start_time": "2024-05-10T12:03:18.450557",
     "status": "completed"
    },
    "tags": [
     "change-false"
    ]
   },
   "outputs": [
    {
     "data": {
      "text/html": [
       "<div>\n",
       "<style scoped>\n",
       "    .dataframe tbody tr th:only-of-type {\n",
       "        vertical-align: middle;\n",
       "    }\n",
       "\n",
       "    .dataframe tbody tr th {\n",
       "        vertical-align: top;\n",
       "    }\n",
       "\n",
       "    .dataframe thead th {\n",
       "        text-align: right;\n",
       "    }\n",
       "</style>\n",
       "<table border=\"1\" class=\"dataframe\">\n",
       "  <thead>\n",
       "    <tr style=\"text-align: right;\">\n",
       "      <th></th>\n",
       "      <th>Gender</th>\n",
       "      <th>Age</th>\n",
       "      <th>Debt</th>\n",
       "      <th>Married</th>\n",
       "      <th>BankCustomer</th>\n",
       "      <th>Industry</th>\n",
       "      <th>Ethnicity</th>\n",
       "      <th>YearsEmployed</th>\n",
       "      <th>PriorDefault</th>\n",
       "      <th>Employed</th>\n",
       "      <th>CreditScore</th>\n",
       "      <th>DriversLicense</th>\n",
       "      <th>Citizen</th>\n",
       "      <th>ZipCode</th>\n",
       "      <th>Income</th>\n",
       "      <th>Approved</th>\n",
       "    </tr>\n",
       "  </thead>\n",
       "  <tbody>\n",
       "    <tr>\n",
       "      <th>0</th>\n",
       "      <td>1</td>\n",
       "      <td>30.83</td>\n",
       "      <td>0.000</td>\n",
       "      <td>1</td>\n",
       "      <td>1</td>\n",
       "      <td>Industrials</td>\n",
       "      <td>White</td>\n",
       "      <td>1.25</td>\n",
       "      <td>1</td>\n",
       "      <td>1</td>\n",
       "      <td>1</td>\n",
       "      <td>0</td>\n",
       "      <td>ByBirth</td>\n",
       "      <td>202</td>\n",
       "      <td>0</td>\n",
       "      <td>1</td>\n",
       "    </tr>\n",
       "    <tr>\n",
       "      <th>1</th>\n",
       "      <td>0</td>\n",
       "      <td>58.67</td>\n",
       "      <td>4.460</td>\n",
       "      <td>1</td>\n",
       "      <td>1</td>\n",
       "      <td>Materials</td>\n",
       "      <td>Black</td>\n",
       "      <td>3.04</td>\n",
       "      <td>1</td>\n",
       "      <td>1</td>\n",
       "      <td>6</td>\n",
       "      <td>0</td>\n",
       "      <td>ByBirth</td>\n",
       "      <td>43</td>\n",
       "      <td>560</td>\n",
       "      <td>1</td>\n",
       "    </tr>\n",
       "    <tr>\n",
       "      <th>...</th>\n",
       "      <td>...</td>\n",
       "      <td>...</td>\n",
       "      <td>...</td>\n",
       "      <td>...</td>\n",
       "      <td>...</td>\n",
       "      <td>...</td>\n",
       "      <td>...</td>\n",
       "      <td>...</td>\n",
       "      <td>...</td>\n",
       "      <td>...</td>\n",
       "      <td>...</td>\n",
       "      <td>...</td>\n",
       "      <td>...</td>\n",
       "      <td>...</td>\n",
       "      <td>...</td>\n",
       "      <td>...</td>\n",
       "    </tr>\n",
       "    <tr>\n",
       "      <th>688</th>\n",
       "      <td>1</td>\n",
       "      <td>17.92</td>\n",
       "      <td>0.205</td>\n",
       "      <td>1</td>\n",
       "      <td>1</td>\n",
       "      <td>ConsumerStaples</td>\n",
       "      <td>White</td>\n",
       "      <td>0.04</td>\n",
       "      <td>0</td>\n",
       "      <td>0</td>\n",
       "      <td>0</td>\n",
       "      <td>0</td>\n",
       "      <td>ByBirth</td>\n",
       "      <td>280</td>\n",
       "      <td>750</td>\n",
       "      <td>0</td>\n",
       "    </tr>\n",
       "    <tr>\n",
       "      <th>689</th>\n",
       "      <td>1</td>\n",
       "      <td>35.00</td>\n",
       "      <td>3.375</td>\n",
       "      <td>1</td>\n",
       "      <td>1</td>\n",
       "      <td>Energy</td>\n",
       "      <td>Black</td>\n",
       "      <td>8.29</td>\n",
       "      <td>0</td>\n",
       "      <td>0</td>\n",
       "      <td>0</td>\n",
       "      <td>1</td>\n",
       "      <td>ByBirth</td>\n",
       "      <td>0</td>\n",
       "      <td>0</td>\n",
       "      <td>0</td>\n",
       "    </tr>\n",
       "  </tbody>\n",
       "</table>\n",
       "<p>690 rows × 16 columns</p>\n",
       "</div>"
      ],
      "text/plain": [
       "     Gender    Age   Debt  Married  BankCustomer         Industry Ethnicity  \\\n",
       "0         1  30.83  0.000        1             1      Industrials     White   \n",
       "1         0  58.67  4.460        1             1        Materials     Black   \n",
       "..      ...    ...    ...      ...           ...              ...       ...   \n",
       "688       1  17.92  0.205        1             1  ConsumerStaples     White   \n",
       "689       1  35.00  3.375        1             1           Energy     Black   \n",
       "\n",
       "     YearsEmployed  PriorDefault  Employed  CreditScore  DriversLicense  \\\n",
       "0             1.25             1         1            1               0   \n",
       "1             3.04             1         1            6               0   \n",
       "..             ...           ...       ...          ...             ...   \n",
       "688           0.04             0         0            0               0   \n",
       "689           8.29             0         0            0               1   \n",
       "\n",
       "     Citizen  ZipCode  Income  Approved  \n",
       "0    ByBirth      202       0         1  \n",
       "1    ByBirth       43     560         1  \n",
       "..       ...      ...     ...       ...  \n",
       "688  ByBirth      280     750         0  \n",
       "689  ByBirth        0       0         0  \n",
       "\n",
       "[690 rows x 16 columns]"
      ]
     },
     "execution_count": 1,
     "metadata": {},
     "output_type": "execute_result"
    }
   ],
   "source": [
    "import pandas as pd\n",
    "\n",
    "path = '../../../data/default_credit_card/input/clean_dataset.csv'\n",
    "df = pd.read_csv(path)\n",
    "df"
   ]
  },
  {
   "attachments": {},
   "cell_type": "markdown",
   "id": "4119218c",
   "metadata": {
    "papermill": {
     "duration": 0.001481,
     "end_time": "2024-05-10T12:03:18.470454",
     "exception": false,
     "start_time": "2024-05-10T12:03:18.468973",
     "status": "completed"
    },
    "tags": []
   },
   "source": [
    "## Feature selection"
   ]
  },
  {
   "cell_type": "code",
   "execution_count": 2,
   "id": "462d403a",
   "metadata": {
    "execution": {
     "iopub.execute_input": "2024-05-10T12:03:18.473747Z",
     "iopub.status.busy": "2024-05-10T12:03:18.473580Z",
     "iopub.status.idle": "2024-05-10T12:03:18.476334Z",
     "shell.execute_reply": "2024-05-10T12:03:18.476089Z"
    },
    "papermill": {
     "duration": 0.005468,
     "end_time": "2024-05-10T12:03:18.477149",
     "exception": false,
     "start_time": "2024-05-10T12:03:18.471681",
     "status": "completed"
    },
    "tags": [
     "change-false"
    ]
   },
   "outputs": [],
   "source": [
    "target = 'Approved'\n",
    "\n",
    "y = df[target]\n",
    "X = df.drop(columns=target)"
   ]
  },
  {
   "attachments": {},
   "cell_type": "markdown",
   "id": "403ed068",
   "metadata": {
    "papermill": {
     "duration": 0.00127,
     "end_time": "2024-05-10T12:03:18.479973",
     "exception": false,
     "start_time": "2024-05-10T12:03:18.478703",
     "status": "completed"
    },
    "tags": []
   },
   "source": [
    "## Train test split"
   ]
  },
  {
   "cell_type": "code",
   "execution_count": 3,
   "id": "ec51868d",
   "metadata": {
    "execution": {
     "iopub.execute_input": "2024-05-10T12:03:18.484116Z",
     "iopub.status.busy": "2024-05-10T12:03:18.483967Z",
     "iopub.status.idle": "2024-05-10T12:03:18.769530Z",
     "shell.execute_reply": "2024-05-10T12:03:18.769210Z"
    },
    "papermill": {
     "duration": 0.289311,
     "end_time": "2024-05-10T12:03:18.770643",
     "exception": false,
     "start_time": "2024-05-10T12:03:18.481332",
     "status": "completed"
    },
    "tags": [
     "change-false"
    ]
   },
   "outputs": [],
   "source": [
    "from sklearn.model_selection import train_test_split\n",
    "\n",
    "X_train, X_test, y_train, y_test = train_test_split(\n",
    "    X, y, test_size=0.3, random_state=42)"
   ]
  },
  {
   "attachments": {},
   "cell_type": "markdown",
   "id": "caabd8f3",
   "metadata": {
    "papermill": {
     "duration": 0.001091,
     "end_time": "2024-05-10T12:03:18.872576",
     "exception": false,
     "start_time": "2024-05-10T12:03:18.871485",
     "status": "completed"
    },
    "tags": []
   },
   "source": [
    "## Data preprocessing\n",
    "\n",
    "**One hot encoding (dummy variables)**"
   ]
  },
  {
   "attachments": {},
   "cell_type": "markdown",
   "id": "3c3c1e5a",
   "metadata": {},
   "source": [
    "<table>\n",
    "    <tr>\n",
    "        <!-- Table headers -->\n",
    "        <th>Original</th>\n",
    "        <th>Dummy</th>\n",
    "    </tr>\n",
    "    <tr>\n",
    "        <!-- Table data cells containing images -->\n",
    "        <td>\n",
    "            <img src=\"src/dummy-1.png\" height=\"150\"/>\n",
    "        </td>\n",
    "        <td>\n",
    "            <img src=\"src/dummy-2.png\" height=\"150\"/>\n",
    "        </td>\n",
    "    </tr>\n",
    "</table>\n"
   ]
  },
  {
   "cell_type": "code",
   "execution_count": null,
   "id": "67358a8b",
   "metadata": {},
   "outputs": [],
   "source": []
  },
  {
   "cell_type": "code",
   "execution_count": null,
   "id": "caefba3a",
   "metadata": {},
   "outputs": [
    {
     "data": {
      "text/plain": [
       "Index(['Industry', 'Ethnicity', 'Citizen'], dtype='object')"
      ]
     },
     "execution_count": null,
     "metadata": {},
     "output_type": "execute_result"
    }
   ],
   "source": []
  },
  {
   "cell_type": "code",
   "execution_count": null,
   "id": "015e008e",
   "metadata": {},
   "outputs": [],
   "source": []
  },
  {
   "cell_type": "code",
   "execution_count": null,
   "id": "95d7be1e",
   "metadata": {},
   "outputs": [],
   "source": []
  },
  {
   "attachments": {},
   "cell_type": "markdown",
   "id": "f936e57a",
   "metadata": {},
   "source": [
    "## Modelling"
   ]
  },
  {
   "cell_type": "code",
   "execution_count": null,
   "id": "b8907fce",
   "metadata": {
    "execution": {
     "iopub.execute_input": "2024-05-10T12:03:18.893325Z",
     "iopub.status.busy": "2024-05-10T12:03:18.893152Z",
     "iopub.status.idle": "2024-05-10T12:03:18.967186Z",
     "shell.execute_reply": "2024-05-10T12:03:18.966923Z"
    },
    "papermill": {
     "duration": 0.076748,
     "end_time": "2024-05-10T12:03:18.967966",
     "exception": false,
     "start_time": "2024-05-10T12:03:18.891218",
     "status": "completed"
    },
    "tags": []
   },
   "outputs": [
    {
     "data": {
      "text/html": [
       "<style>#sk-container-id-1 {color: black;}#sk-container-id-1 pre{padding: 0;}#sk-container-id-1 div.sk-toggleable {background-color: white;}#sk-container-id-1 label.sk-toggleable__label {cursor: pointer;display: block;width: 100%;margin-bottom: 0;padding: 0.3em;box-sizing: border-box;text-align: center;}#sk-container-id-1 label.sk-toggleable__label-arrow:before {content: \"▸\";float: left;margin-right: 0.25em;color: #696969;}#sk-container-id-1 label.sk-toggleable__label-arrow:hover:before {color: black;}#sk-container-id-1 div.sk-estimator:hover label.sk-toggleable__label-arrow:before {color: black;}#sk-container-id-1 div.sk-toggleable__content {max-height: 0;max-width: 0;overflow: hidden;text-align: left;background-color: #f0f8ff;}#sk-container-id-1 div.sk-toggleable__content pre {margin: 0.2em;color: black;border-radius: 0.25em;background-color: #f0f8ff;}#sk-container-id-1 input.sk-toggleable__control:checked~div.sk-toggleable__content {max-height: 200px;max-width: 100%;overflow: auto;}#sk-container-id-1 input.sk-toggleable__control:checked~label.sk-toggleable__label-arrow:before {content: \"▾\";}#sk-container-id-1 div.sk-estimator input.sk-toggleable__control:checked~label.sk-toggleable__label {background-color: #d4ebff;}#sk-container-id-1 div.sk-label input.sk-toggleable__control:checked~label.sk-toggleable__label {background-color: #d4ebff;}#sk-container-id-1 input.sk-hidden--visually {border: 0;clip: rect(1px 1px 1px 1px);clip: rect(1px, 1px, 1px, 1px);height: 1px;margin: -1px;overflow: hidden;padding: 0;position: absolute;width: 1px;}#sk-container-id-1 div.sk-estimator {font-family: monospace;background-color: #f0f8ff;border: 1px dotted black;border-radius: 0.25em;box-sizing: border-box;margin-bottom: 0.5em;}#sk-container-id-1 div.sk-estimator:hover {background-color: #d4ebff;}#sk-container-id-1 div.sk-parallel-item::after {content: \"\";width: 100%;border-bottom: 1px solid gray;flex-grow: 1;}#sk-container-id-1 div.sk-label:hover label.sk-toggleable__label {background-color: #d4ebff;}#sk-container-id-1 div.sk-serial::before {content: \"\";position: absolute;border-left: 1px solid gray;box-sizing: border-box;top: 0;bottom: 0;left: 50%;z-index: 0;}#sk-container-id-1 div.sk-serial {display: flex;flex-direction: column;align-items: center;background-color: white;padding-right: 0.2em;padding-left: 0.2em;position: relative;}#sk-container-id-1 div.sk-item {position: relative;z-index: 1;}#sk-container-id-1 div.sk-parallel {display: flex;align-items: stretch;justify-content: center;background-color: white;position: relative;}#sk-container-id-1 div.sk-item::before, #sk-container-id-1 div.sk-parallel-item::before {content: \"\";position: absolute;border-left: 1px solid gray;box-sizing: border-box;top: 0;bottom: 0;left: 50%;z-index: -1;}#sk-container-id-1 div.sk-parallel-item {display: flex;flex-direction: column;z-index: 1;position: relative;background-color: white;}#sk-container-id-1 div.sk-parallel-item:first-child::after {align-self: flex-end;width: 50%;}#sk-container-id-1 div.sk-parallel-item:last-child::after {align-self: flex-start;width: 50%;}#sk-container-id-1 div.sk-parallel-item:only-child::after {width: 0;}#sk-container-id-1 div.sk-dashed-wrapped {border: 1px dashed gray;margin: 0 0.4em 0.5em 0.4em;box-sizing: border-box;padding-bottom: 0.4em;background-color: white;}#sk-container-id-1 div.sk-label label {font-family: monospace;font-weight: bold;display: inline-block;line-height: 1.2em;}#sk-container-id-1 div.sk-label-container {text-align: center;}#sk-container-id-1 div.sk-container {/* jupyter's `normalize.less` sets `[hidden] { display: none; }` but bootstrap.min.css set `[hidden] { display: none !important; }` so we also need the `!important` here to be able to override the default hidden behavior on the sphinx rendered scikit-learn.org. See: https://github.com/scikit-learn/scikit-learn/issues/21755 */display: inline-block !important;position: relative;}#sk-container-id-1 div.sk-text-repr-fallback {display: none;}</style><div id=\"sk-container-id-1\" class=\"sk-top-container\"><div class=\"sk-text-repr-fallback\"><pre>GradientBoostingClassifier()</pre><b>In a Jupyter environment, please rerun this cell to show the HTML representation or trust the notebook. <br />On GitHub, the HTML representation is unable to render, please try loading this page with nbviewer.org.</b></div><div class=\"sk-container\" hidden><div class=\"sk-item\"><div class=\"sk-estimator sk-toggleable\"><input class=\"sk-toggleable__control sk-hidden--visually\" id=\"sk-estimator-id-1\" type=\"checkbox\" checked><label for=\"sk-estimator-id-1\" class=\"sk-toggleable__label sk-toggleable__label-arrow\">GradientBoostingClassifier</label><div class=\"sk-toggleable__content\"><pre>GradientBoostingClassifier()</pre></div></div></div></div></div>"
      ],
      "text/plain": [
       "GradientBoostingClassifier()"
      ]
     },
     "execution_count": null,
     "metadata": {},
     "output_type": "execute_result"
    }
   ],
   "source": []
  },
  {
   "cell_type": "code",
   "execution_count": null,
   "id": "129f2ba2",
   "metadata": {
    "execution": {
     "iopub.execute_input": "2024-05-10T12:03:18.970998Z",
     "iopub.status.busy": "2024-05-10T12:03:18.970903Z",
     "iopub.status.idle": "2024-05-10T12:03:18.974707Z",
     "shell.execute_reply": "2024-05-10T12:03:18.974474Z"
    },
    "papermill": {
     "duration": 0.006117,
     "end_time": "2024-05-10T12:03:18.975457",
     "exception": false,
     "start_time": "2024-05-10T12:03:18.969340",
     "status": "completed"
    },
    "tags": []
   },
   "outputs": [],
   "source": []
  },
  {
   "cell_type": "code",
   "execution_count": null,
   "id": "47f646bc",
   "metadata": {
    "execution": {
     "iopub.execute_input": "2024-05-10T12:03:18.979323Z",
     "iopub.status.busy": "2024-05-10T12:03:18.979206Z",
     "iopub.status.idle": "2024-05-10T12:03:18.982883Z",
     "shell.execute_reply": "2024-05-10T12:03:18.982665Z"
    },
    "papermill": {
     "duration": 0.006264,
     "end_time": "2024-05-10T12:03:18.983538",
     "exception": false,
     "start_time": "2024-05-10T12:03:18.977274",
     "status": "completed"
    },
    "tags": []
   },
   "outputs": [
    {
     "data": {
      "text/plain": [
       "0.8405797101449275"
      ]
     },
     "execution_count": null,
     "metadata": {},
     "output_type": "execute_result"
    }
   ],
   "source": []
  },
  {
   "cell_type": "code",
   "execution_count": null,
   "id": "d4f6eeab",
   "metadata": {},
   "outputs": [
    {
     "data": {
      "text/plain": [
       "0.9834368530020704"
      ]
     },
     "execution_count": null,
     "metadata": {},
     "output_type": "execute_result"
    }
   ],
   "source": []
  }
 ],
 "metadata": {
  "kernelspec": {
   "display_name": "work",
   "language": "python",
   "name": "python3"
  },
  "language_info": {
   "codemirror_mode": {
    "name": "ipython",
    "version": 3
   },
   "file_extension": ".py",
   "mimetype": "text/x-python",
   "name": "python",
   "nbconvert_exporter": "python",
   "pygments_lexer": "ipython3",
   "version": "3.10.12"
  },
  "papermill": {
   "default_parameters": {},
   "duration": 1.718753,
   "end_time": "2024-05-10T12:03:19.200607",
   "environment_variables": {},
   "exception": null,
   "input_path": "/Users/sota/Dropbox/2 Business/1 Datons/2 Areas/Courses/03 ML/materials/notebooks/40_Data Preprocessing/01_Dummy/B.ipynb",
   "output_path": "/Users/sota/Dropbox/2 Business/1 Datons/2 Areas/Courses/03 ML/materials/notebooks/40_Data Preprocessing/01_Dummy/B.ipynb",
   "parameters": {},
   "start_time": "2024-05-10T12:03:17.481854",
   "version": "2.5.0"
  }
 },
 "nbformat": 4,
 "nbformat_minor": 5
}
