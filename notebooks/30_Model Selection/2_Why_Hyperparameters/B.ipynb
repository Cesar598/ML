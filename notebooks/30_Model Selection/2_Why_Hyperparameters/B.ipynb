{
 "cells": [
  {
   "attachments": {},
   "cell_type": "markdown",
   "id": "afd57b82",
   "metadata": {
    "papermill": {
     "duration": 0.002327,
     "end_time": "2024-05-10T12:01:05.685890",
     "exception": false,
     "start_time": "2024-05-10T12:01:05.683563",
     "status": "completed"
    },
    "tags": []
   },
   "source": [
    "# Hyperparameter tuning to avoid overfitting"
   ]
  },
  {
   "attachments": {},
   "cell_type": "markdown",
   "id": "a935bb14",
   "metadata": {
    "papermill": {
     "duration": 0.002088,
     "end_time": "2024-05-10T12:01:05.690488",
     "exception": false,
     "start_time": "2024-05-10T12:01:05.688400",
     "status": "completed"
    },
    "tags": []
   },
   "source": [
    "## Load data"
   ]
  },
  {
   "cell_type": "code",
   "execution_count": 1,
   "id": "38dfc647",
   "metadata": {
    "execution": {
     "iopub.execute_input": "2024-05-10T12:01:05.694916Z",
     "iopub.status.busy": "2024-05-10T12:01:05.694784Z",
     "iopub.status.idle": "2024-05-10T12:01:05.702279Z",
     "shell.execute_reply": "2024-05-10T12:01:05.701996Z"
    },
    "papermill": {
     "duration": 0.010996,
     "end_time": "2024-05-10T12:01:05.703419",
     "exception": false,
     "start_time": "2024-05-10T12:01:05.692423",
     "status": "completed"
    },
    "tags": [
     "change-false"
    ]
   },
   "outputs": [
    {
     "data": {
      "text/html": [
       "<div>\n",
       "<style scoped>\n",
       "    .dataframe tbody tr th:only-of-type {\n",
       "        vertical-align: middle;\n",
       "    }\n",
       "\n",
       "    .dataframe tbody tr th {\n",
       "        vertical-align: top;\n",
       "    }\n",
       "\n",
       "    .dataframe thead th {\n",
       "        text-align: right;\n",
       "    }\n",
       "</style>\n",
       "<table border=\"1\" class=\"dataframe\">\n",
       "  <thead>\n",
       "    <tr style=\"text-align: right;\">\n",
       "      <th></th>\n",
       "      <th>Gender</th>\n",
       "      <th>Age</th>\n",
       "      <th>Married</th>\n",
       "      <th>YearsEmployed</th>\n",
       "      <th>Income</th>\n",
       "      <th>Approved</th>\n",
       "    </tr>\n",
       "  </thead>\n",
       "  <tbody>\n",
       "    <tr>\n",
       "      <th>0</th>\n",
       "      <td>1</td>\n",
       "      <td>30</td>\n",
       "      <td>1</td>\n",
       "      <td>1.25</td>\n",
       "      <td>0</td>\n",
       "      <td>1</td>\n",
       "    </tr>\n",
       "    <tr>\n",
       "      <th>1</th>\n",
       "      <td>0</td>\n",
       "      <td>58</td>\n",
       "      <td>1</td>\n",
       "      <td>3.04</td>\n",
       "      <td>560</td>\n",
       "      <td>1</td>\n",
       "    </tr>\n",
       "    <tr>\n",
       "      <th>...</th>\n",
       "      <td>...</td>\n",
       "      <td>...</td>\n",
       "      <td>...</td>\n",
       "      <td>...</td>\n",
       "      <td>...</td>\n",
       "      <td>...</td>\n",
       "    </tr>\n",
       "    <tr>\n",
       "      <th>688</th>\n",
       "      <td>1</td>\n",
       "      <td>17</td>\n",
       "      <td>1</td>\n",
       "      <td>0.04</td>\n",
       "      <td>750</td>\n",
       "      <td>0</td>\n",
       "    </tr>\n",
       "    <tr>\n",
       "      <th>689</th>\n",
       "      <td>1</td>\n",
       "      <td>35</td>\n",
       "      <td>1</td>\n",
       "      <td>8.29</td>\n",
       "      <td>0</td>\n",
       "      <td>0</td>\n",
       "    </tr>\n",
       "  </tbody>\n",
       "</table>\n",
       "<p>690 rows × 6 columns</p>\n",
       "</div>"
      ],
      "text/plain": [
       "     Gender  Age  Married  YearsEmployed  Income  Approved\n",
       "0         1   30        1           1.25       0         1\n",
       "1         0   58        1           3.04     560         1\n",
       "..      ...  ...      ...            ...     ...       ...\n",
       "688       1   17        1           0.04     750         0\n",
       "689       1   35        1           8.29       0         0\n",
       "\n",
       "[690 rows x 6 columns]"
      ]
     },
     "execution_count": 1,
     "metadata": {},
     "output_type": "execute_result"
    }
   ],
   "source": [
    "import pandas as pd\n",
    "\n",
    "path = '../../../data/default_credit_card/output/simplified_features.csv'\n",
    "df = pd.read_csv(path)\n",
    "df"
   ]
  },
  {
   "attachments": {},
   "cell_type": "markdown",
   "id": "dc1b50f7",
   "metadata": {
    "papermill": {
     "duration": 0.002106,
     "end_time": "2024-05-10T12:01:05.707475",
     "exception": false,
     "start_time": "2024-05-10T12:01:05.705369",
     "status": "completed"
    },
    "tags": []
   },
   "source": [
    "## Feature selection"
   ]
  },
  {
   "cell_type": "code",
   "execution_count": 2,
   "id": "bf708db8",
   "metadata": {
    "execution": {
     "iopub.execute_input": "2024-05-10T12:01:05.711745Z",
     "iopub.status.busy": "2024-05-10T12:01:05.711616Z",
     "iopub.status.idle": "2024-05-10T12:01:05.713829Z",
     "shell.execute_reply": "2024-05-10T12:01:05.713497Z"
    },
    "papermill": {
     "duration": 0.005427,
     "end_time": "2024-05-10T12:01:05.714619",
     "exception": false,
     "start_time": "2024-05-10T12:01:05.709192",
     "status": "completed"
    },
    "tags": [
     "change-false"
    ]
   },
   "outputs": [],
   "source": [
    "target = 'Approved'\n",
    "\n",
    "y = df[target]\n",
    "X = df.drop(columns=target)"
   ]
  },
  {
   "attachments": {},
   "cell_type": "markdown",
   "id": "9970eed7",
   "metadata": {
    "papermill": {
     "duration": 0.001958,
     "end_time": "2024-05-10T12:01:05.718459",
     "exception": false,
     "start_time": "2024-05-10T12:01:05.716501",
     "status": "completed"
    },
    "tags": []
   },
   "source": [
    "## Train test split"
   ]
  },
  {
   "cell_type": "code",
   "execution_count": 3,
   "id": "c1f47675",
   "metadata": {
    "execution": {
     "iopub.execute_input": "2024-05-10T12:01:05.722542Z",
     "iopub.status.busy": "2024-05-10T12:01:05.722417Z",
     "iopub.status.idle": "2024-05-10T12:01:06.093281Z",
     "shell.execute_reply": "2024-05-10T12:01:06.092845Z"
    },
    "papermill": {
     "duration": 0.374217,
     "end_time": "2024-05-10T12:01:06.094405",
     "exception": false,
     "start_time": "2024-05-10T12:01:05.720188",
     "status": "completed"
    },
    "tags": [
     "change-false"
    ]
   },
   "outputs": [],
   "source": [
    "from sklearn.model_selection import train_test_split\n",
    "\n",
    "X_train, X_test, y_train, y_test = train_test_split(\n",
    "    X, y, test_size=0.3, random_state=42)"
   ]
  },
  {
   "attachments": {},
   "cell_type": "markdown",
   "id": "dc2d4255",
   "metadata": {
    "papermill": {
     "duration": 0.002056,
     "end_time": "2024-05-10T12:01:06.098856",
     "exception": false,
     "start_time": "2024-05-10T12:01:06.096800",
     "status": "completed"
    },
    "tags": []
   },
   "source": [
    "## Modelling with default hyperparameters"
   ]
  },
  {
   "cell_type": "code",
   "execution_count": 4,
   "id": "aa1088e6",
   "metadata": {
    "execution": {
     "iopub.execute_input": "2024-05-10T12:01:06.103342Z",
     "iopub.status.busy": "2024-05-10T12:01:06.103129Z",
     "iopub.status.idle": "2024-05-10T12:01:06.192148Z",
     "shell.execute_reply": "2024-05-10T12:01:06.191924Z"
    },
    "papermill": {
     "duration": 0.092138,
     "end_time": "2024-05-10T12:01:06.192940",
     "exception": false,
     "start_time": "2024-05-10T12:01:06.100802",
     "status": "completed"
    },
    "tags": []
   },
   "outputs": [
    {
     "data": {
      "text/html": [
       "<style>#sk-container-id-1 {color: black;}#sk-container-id-1 pre{padding: 0;}#sk-container-id-1 div.sk-toggleable {background-color: white;}#sk-container-id-1 label.sk-toggleable__label {cursor: pointer;display: block;width: 100%;margin-bottom: 0;padding: 0.3em;box-sizing: border-box;text-align: center;}#sk-container-id-1 label.sk-toggleable__label-arrow:before {content: \"▸\";float: left;margin-right: 0.25em;color: #696969;}#sk-container-id-1 label.sk-toggleable__label-arrow:hover:before {color: black;}#sk-container-id-1 div.sk-estimator:hover label.sk-toggleable__label-arrow:before {color: black;}#sk-container-id-1 div.sk-toggleable__content {max-height: 0;max-width: 0;overflow: hidden;text-align: left;background-color: #f0f8ff;}#sk-container-id-1 div.sk-toggleable__content pre {margin: 0.2em;color: black;border-radius: 0.25em;background-color: #f0f8ff;}#sk-container-id-1 input.sk-toggleable__control:checked~div.sk-toggleable__content {max-height: 200px;max-width: 100%;overflow: auto;}#sk-container-id-1 input.sk-toggleable__control:checked~label.sk-toggleable__label-arrow:before {content: \"▾\";}#sk-container-id-1 div.sk-estimator input.sk-toggleable__control:checked~label.sk-toggleable__label {background-color: #d4ebff;}#sk-container-id-1 div.sk-label input.sk-toggleable__control:checked~label.sk-toggleable__label {background-color: #d4ebff;}#sk-container-id-1 input.sk-hidden--visually {border: 0;clip: rect(1px 1px 1px 1px);clip: rect(1px, 1px, 1px, 1px);height: 1px;margin: -1px;overflow: hidden;padding: 0;position: absolute;width: 1px;}#sk-container-id-1 div.sk-estimator {font-family: monospace;background-color: #f0f8ff;border: 1px dotted black;border-radius: 0.25em;box-sizing: border-box;margin-bottom: 0.5em;}#sk-container-id-1 div.sk-estimator:hover {background-color: #d4ebff;}#sk-container-id-1 div.sk-parallel-item::after {content: \"\";width: 100%;border-bottom: 1px solid gray;flex-grow: 1;}#sk-container-id-1 div.sk-label:hover label.sk-toggleable__label {background-color: #d4ebff;}#sk-container-id-1 div.sk-serial::before {content: \"\";position: absolute;border-left: 1px solid gray;box-sizing: border-box;top: 0;bottom: 0;left: 50%;z-index: 0;}#sk-container-id-1 div.sk-serial {display: flex;flex-direction: column;align-items: center;background-color: white;padding-right: 0.2em;padding-left: 0.2em;position: relative;}#sk-container-id-1 div.sk-item {position: relative;z-index: 1;}#sk-container-id-1 div.sk-parallel {display: flex;align-items: stretch;justify-content: center;background-color: white;position: relative;}#sk-container-id-1 div.sk-item::before, #sk-container-id-1 div.sk-parallel-item::before {content: \"\";position: absolute;border-left: 1px solid gray;box-sizing: border-box;top: 0;bottom: 0;left: 50%;z-index: -1;}#sk-container-id-1 div.sk-parallel-item {display: flex;flex-direction: column;z-index: 1;position: relative;background-color: white;}#sk-container-id-1 div.sk-parallel-item:first-child::after {align-self: flex-end;width: 50%;}#sk-container-id-1 div.sk-parallel-item:last-child::after {align-self: flex-start;width: 50%;}#sk-container-id-1 div.sk-parallel-item:only-child::after {width: 0;}#sk-container-id-1 div.sk-dashed-wrapped {border: 1px dashed gray;margin: 0 0.4em 0.5em 0.4em;box-sizing: border-box;padding-bottom: 0.4em;background-color: white;}#sk-container-id-1 div.sk-label label {font-family: monospace;font-weight: bold;display: inline-block;line-height: 1.2em;}#sk-container-id-1 div.sk-label-container {text-align: center;}#sk-container-id-1 div.sk-container {/* jupyter's `normalize.less` sets `[hidden] { display: none; }` but bootstrap.min.css set `[hidden] { display: none !important; }` so we also need the `!important` here to be able to override the default hidden behavior on the sphinx rendered scikit-learn.org. See: https://github.com/scikit-learn/scikit-learn/issues/21755 */display: inline-block !important;position: relative;}#sk-container-id-1 div.sk-text-repr-fallback {display: none;}</style><div id=\"sk-container-id-1\" class=\"sk-top-container\"><div class=\"sk-text-repr-fallback\"><pre>DecisionTreeClassifier()</pre><b>In a Jupyter environment, please rerun this cell to show the HTML representation or trust the notebook. <br />On GitHub, the HTML representation is unable to render, please try loading this page with nbviewer.org.</b></div><div class=\"sk-container\" hidden><div class=\"sk-item\"><div class=\"sk-estimator sk-toggleable\"><input class=\"sk-toggleable__control sk-hidden--visually\" id=\"sk-estimator-id-1\" type=\"checkbox\" checked><label for=\"sk-estimator-id-1\" class=\"sk-toggleable__label sk-toggleable__label-arrow\">DecisionTreeClassifier</label><div class=\"sk-toggleable__content\"><pre>DecisionTreeClassifier()</pre></div></div></div></div></div>"
      ],
      "text/plain": [
       "DecisionTreeClassifier()"
      ]
     },
     "execution_count": 4,
     "metadata": {},
     "output_type": "execute_result"
    }
   ],
   "source": [
    "from sklearn.tree import DecisionTreeClassifier\n",
    "\n",
    "model = DecisionTreeClassifier()\n",
    "model.fit(X_train, y_train)"
   ]
  },
  {
   "cell_type": "code",
   "execution_count": 5,
   "id": "5682f993",
   "metadata": {
    "execution": {
     "iopub.execute_input": "2024-05-10T12:01:06.197613Z",
     "iopub.status.busy": "2024-05-10T12:01:06.197462Z",
     "iopub.status.idle": "2024-05-10T12:01:06.200765Z",
     "shell.execute_reply": "2024-05-10T12:01:06.200543Z"
    },
    "papermill": {
     "duration": 0.006377,
     "end_time": "2024-05-10T12:01:06.201447",
     "exception": false,
     "start_time": "2024-05-10T12:01:06.195070",
     "status": "completed"
    },
    "tags": []
   },
   "outputs": [
    {
     "data": {
      "text/plain": [
       "0.9958592132505176"
      ]
     },
     "execution_count": 5,
     "metadata": {},
     "output_type": "execute_result"
    }
   ],
   "source": [
    "model.score(X_train, y_train)"
   ]
  },
  {
   "cell_type": "code",
   "execution_count": 6,
   "id": "60216996",
   "metadata": {
    "execution": {
     "iopub.execute_input": "2024-05-10T12:01:06.206515Z",
     "iopub.status.busy": "2024-05-10T12:01:06.206395Z",
     "iopub.status.idle": "2024-05-10T12:01:06.209582Z",
     "shell.execute_reply": "2024-05-10T12:01:06.209360Z"
    },
    "papermill": {
     "duration": 0.006388,
     "end_time": "2024-05-10T12:01:06.210260",
     "exception": false,
     "start_time": "2024-05-10T12:01:06.203872",
     "status": "completed"
    },
    "tags": []
   },
   "outputs": [
    {
     "data": {
      "text/plain": [
       "0.6473429951690821"
      ]
     },
     "execution_count": 6,
     "metadata": {},
     "output_type": "execute_result"
    }
   ],
   "source": [
    "model.score(X_test, y_test)"
   ]
  },
  {
   "attachments": {},
   "cell_type": "markdown",
   "id": "716deb8d",
   "metadata": {
    "papermill": {
     "duration": 0.00199,
     "end_time": "2024-05-10T12:01:06.214737",
     "exception": false,
     "start_time": "2024-05-10T12:01:06.212747",
     "status": "completed"
    },
    "tags": []
   },
   "source": [
    "## Modelling with custom hyperparameters"
   ]
  },
  {
   "cell_type": "code",
   "execution_count": 7,
   "id": "61e4e714",
   "metadata": {
    "execution": {
     "iopub.execute_input": "2024-05-10T12:01:06.219136Z",
     "iopub.status.busy": "2024-05-10T12:01:06.219024Z",
     "iopub.status.idle": "2024-05-10T12:01:06.222347Z",
     "shell.execute_reply": "2024-05-10T12:01:06.222131Z"
    },
    "papermill": {
     "duration": 0.006418,
     "end_time": "2024-05-10T12:01:06.223056",
     "exception": false,
     "start_time": "2024-05-10T12:01:06.216638",
     "status": "completed"
    },
    "tags": []
   },
   "outputs": [
    {
     "data": {
      "text/html": [
       "<style>#sk-container-id-2 {color: black;}#sk-container-id-2 pre{padding: 0;}#sk-container-id-2 div.sk-toggleable {background-color: white;}#sk-container-id-2 label.sk-toggleable__label {cursor: pointer;display: block;width: 100%;margin-bottom: 0;padding: 0.3em;box-sizing: border-box;text-align: center;}#sk-container-id-2 label.sk-toggleable__label-arrow:before {content: \"▸\";float: left;margin-right: 0.25em;color: #696969;}#sk-container-id-2 label.sk-toggleable__label-arrow:hover:before {color: black;}#sk-container-id-2 div.sk-estimator:hover label.sk-toggleable__label-arrow:before {color: black;}#sk-container-id-2 div.sk-toggleable__content {max-height: 0;max-width: 0;overflow: hidden;text-align: left;background-color: #f0f8ff;}#sk-container-id-2 div.sk-toggleable__content pre {margin: 0.2em;color: black;border-radius: 0.25em;background-color: #f0f8ff;}#sk-container-id-2 input.sk-toggleable__control:checked~div.sk-toggleable__content {max-height: 200px;max-width: 100%;overflow: auto;}#sk-container-id-2 input.sk-toggleable__control:checked~label.sk-toggleable__label-arrow:before {content: \"▾\";}#sk-container-id-2 div.sk-estimator input.sk-toggleable__control:checked~label.sk-toggleable__label {background-color: #d4ebff;}#sk-container-id-2 div.sk-label input.sk-toggleable__control:checked~label.sk-toggleable__label {background-color: #d4ebff;}#sk-container-id-2 input.sk-hidden--visually {border: 0;clip: rect(1px 1px 1px 1px);clip: rect(1px, 1px, 1px, 1px);height: 1px;margin: -1px;overflow: hidden;padding: 0;position: absolute;width: 1px;}#sk-container-id-2 div.sk-estimator {font-family: monospace;background-color: #f0f8ff;border: 1px dotted black;border-radius: 0.25em;box-sizing: border-box;margin-bottom: 0.5em;}#sk-container-id-2 div.sk-estimator:hover {background-color: #d4ebff;}#sk-container-id-2 div.sk-parallel-item::after {content: \"\";width: 100%;border-bottom: 1px solid gray;flex-grow: 1;}#sk-container-id-2 div.sk-label:hover label.sk-toggleable__label {background-color: #d4ebff;}#sk-container-id-2 div.sk-serial::before {content: \"\";position: absolute;border-left: 1px solid gray;box-sizing: border-box;top: 0;bottom: 0;left: 50%;z-index: 0;}#sk-container-id-2 div.sk-serial {display: flex;flex-direction: column;align-items: center;background-color: white;padding-right: 0.2em;padding-left: 0.2em;position: relative;}#sk-container-id-2 div.sk-item {position: relative;z-index: 1;}#sk-container-id-2 div.sk-parallel {display: flex;align-items: stretch;justify-content: center;background-color: white;position: relative;}#sk-container-id-2 div.sk-item::before, #sk-container-id-2 div.sk-parallel-item::before {content: \"\";position: absolute;border-left: 1px solid gray;box-sizing: border-box;top: 0;bottom: 0;left: 50%;z-index: -1;}#sk-container-id-2 div.sk-parallel-item {display: flex;flex-direction: column;z-index: 1;position: relative;background-color: white;}#sk-container-id-2 div.sk-parallel-item:first-child::after {align-self: flex-end;width: 50%;}#sk-container-id-2 div.sk-parallel-item:last-child::after {align-self: flex-start;width: 50%;}#sk-container-id-2 div.sk-parallel-item:only-child::after {width: 0;}#sk-container-id-2 div.sk-dashed-wrapped {border: 1px dashed gray;margin: 0 0.4em 0.5em 0.4em;box-sizing: border-box;padding-bottom: 0.4em;background-color: white;}#sk-container-id-2 div.sk-label label {font-family: monospace;font-weight: bold;display: inline-block;line-height: 1.2em;}#sk-container-id-2 div.sk-label-container {text-align: center;}#sk-container-id-2 div.sk-container {/* jupyter's `normalize.less` sets `[hidden] { display: none; }` but bootstrap.min.css set `[hidden] { display: none !important; }` so we also need the `!important` here to be able to override the default hidden behavior on the sphinx rendered scikit-learn.org. See: https://github.com/scikit-learn/scikit-learn/issues/21755 */display: inline-block !important;position: relative;}#sk-container-id-2 div.sk-text-repr-fallback {display: none;}</style><div id=\"sk-container-id-2\" class=\"sk-top-container\"><div class=\"sk-text-repr-fallback\"><pre>DecisionTreeClassifier(max_depth=3)</pre><b>In a Jupyter environment, please rerun this cell to show the HTML representation or trust the notebook. <br />On GitHub, the HTML representation is unable to render, please try loading this page with nbviewer.org.</b></div><div class=\"sk-container\" hidden><div class=\"sk-item\"><div class=\"sk-estimator sk-toggleable\"><input class=\"sk-toggleable__control sk-hidden--visually\" id=\"sk-estimator-id-2\" type=\"checkbox\" checked><label for=\"sk-estimator-id-2\" class=\"sk-toggleable__label sk-toggleable__label-arrow\">DecisionTreeClassifier</label><div class=\"sk-toggleable__content\"><pre>DecisionTreeClassifier(max_depth=3)</pre></div></div></div></div></div>"
      ],
      "text/plain": [
       "DecisionTreeClassifier(max_depth=3)"
      ]
     },
     "execution_count": 7,
     "metadata": {},
     "output_type": "execute_result"
    }
   ],
   "source": [
    "model = DecisionTreeClassifier(max_depth=3)\n",
    "model.fit(X_train, y_train)"
   ]
  },
  {
   "cell_type": "code",
   "execution_count": 8,
   "id": "c0442008",
   "metadata": {
    "execution": {
     "iopub.execute_input": "2024-05-10T12:01:06.227971Z",
     "iopub.status.busy": "2024-05-10T12:01:06.227872Z",
     "iopub.status.idle": "2024-05-10T12:01:06.230795Z",
     "shell.execute_reply": "2024-05-10T12:01:06.230582Z"
    },
    "papermill": {
     "duration": 0.00626,
     "end_time": "2024-05-10T12:01:06.231494",
     "exception": false,
     "start_time": "2024-05-10T12:01:06.225234",
     "status": "completed"
    },
    "tags": []
   },
   "outputs": [
    {
     "data": {
      "text/plain": [
       "0.7701863354037267"
      ]
     },
     "execution_count": 8,
     "metadata": {},
     "output_type": "execute_result"
    }
   ],
   "source": [
    "model.score(X_train, y_train)"
   ]
  },
  {
   "cell_type": "code",
   "execution_count": 9,
   "id": "ca4cb5dc",
   "metadata": {
    "execution": {
     "iopub.execute_input": "2024-05-10T12:01:06.236456Z",
     "iopub.status.busy": "2024-05-10T12:01:06.236360Z",
     "iopub.status.idle": "2024-05-10T12:01:06.239299Z",
     "shell.execute_reply": "2024-05-10T12:01:06.239120Z"
    },
    "papermill": {
     "duration": 0.006209,
     "end_time": "2024-05-10T12:01:06.240029",
     "exception": false,
     "start_time": "2024-05-10T12:01:06.233820",
     "status": "completed"
    },
    "tags": []
   },
   "outputs": [
    {
     "data": {
      "text/plain": [
       "0.714975845410628"
      ]
     },
     "execution_count": 9,
     "metadata": {},
     "output_type": "execute_result"
    }
   ],
   "source": [
    "model.score(X_test, y_test)"
   ]
  },
  {
   "cell_type": "code",
   "execution_count": 10,
   "id": "d8540ae5",
   "metadata": {
    "execution": {
     "iopub.execute_input": "2024-05-10T12:01:06.247906Z",
     "iopub.status.busy": "2024-05-10T12:01:06.247750Z",
     "iopub.status.idle": "2024-05-10T12:01:06.606739Z",
     "shell.execute_reply": "2024-05-10T12:01:06.605889Z"
    },
    "papermill": {
     "duration": 0.367722,
     "end_time": "2024-05-10T12:01:06.610242",
     "exception": false,
     "start_time": "2024-05-10T12:01:06.242520",
     "status": "completed"
    },
    "tags": []
   },
   "outputs": [
    {
     "data": {
      "image/png": "[encoded data removed]",
      "text/plain": [
       "<Figure size 1000x600 with 1 Axes>"
      ]
     },
     "metadata": {},
     "output_type": "display_data"
    }
   ],
   "source": [
    "from sklearn.tree import plot_tree\n",
    "import matplotlib.pyplot as plt\n",
    "\n",
    "plt.figure(figsize=(10,6))\n",
    "\n",
    "feature_names = X.columns.tolist()\n",
    "plot_tree(model, feature_names=feature_names, filled=True, fontsize=8);"
   ]
  },
  {
   "attachments": {},
   "cell_type": "markdown",
   "id": "9e3df71b",
   "metadata": {
    "papermill": {
     "duration": 0.003938,
     "end_time": "2024-05-10T12:01:06.618437",
     "exception": false,
     "start_time": "2024-05-10T12:01:06.614499",
     "status": "completed"
    },
    "tags": []
   },
   "source": [
    "## Modelling with other custom hyperparameters"
   ]
  },
  {
   "cell_type": "code",
   "execution_count": 11,
   "id": "4a1ecd35",
   "metadata": {
    "execution": {
     "iopub.execute_input": "2024-05-10T12:01:06.625135Z",
     "iopub.status.busy": "2024-05-10T12:01:06.624734Z",
     "iopub.status.idle": "2024-05-10T12:01:06.632758Z",
     "shell.execute_reply": "2024-05-10T12:01:06.632200Z"
    },
    "papermill": {
     "duration": 0.013481,
     "end_time": "2024-05-10T12:01:06.634663",
     "exception": false,
     "start_time": "2024-05-10T12:01:06.621182",
     "status": "completed"
    },
    "tags": []
   },
   "outputs": [
    {
     "data": {
      "text/html": [
       "<style>#sk-container-id-3 {color: black;}#sk-container-id-3 pre{padding: 0;}#sk-container-id-3 div.sk-toggleable {background-color: white;}#sk-container-id-3 label.sk-toggleable__label {cursor: pointer;display: block;width: 100%;margin-bottom: 0;padding: 0.3em;box-sizing: border-box;text-align: center;}#sk-container-id-3 label.sk-toggleable__label-arrow:before {content: \"▸\";float: left;margin-right: 0.25em;color: #696969;}#sk-container-id-3 label.sk-toggleable__label-arrow:hover:before {color: black;}#sk-container-id-3 div.sk-estimator:hover label.sk-toggleable__label-arrow:before {color: black;}#sk-container-id-3 div.sk-toggleable__content {max-height: 0;max-width: 0;overflow: hidden;text-align: left;background-color: #f0f8ff;}#sk-container-id-3 div.sk-toggleable__content pre {margin: 0.2em;color: black;border-radius: 0.25em;background-color: #f0f8ff;}#sk-container-id-3 input.sk-toggleable__control:checked~div.sk-toggleable__content {max-height: 200px;max-width: 100%;overflow: auto;}#sk-container-id-3 input.sk-toggleable__control:checked~label.sk-toggleable__label-arrow:before {content: \"▾\";}#sk-container-id-3 div.sk-estimator input.sk-toggleable__control:checked~label.sk-toggleable__label {background-color: #d4ebff;}#sk-container-id-3 div.sk-label input.sk-toggleable__control:checked~label.sk-toggleable__label {background-color: #d4ebff;}#sk-container-id-3 input.sk-hidden--visually {border: 0;clip: rect(1px 1px 1px 1px);clip: rect(1px, 1px, 1px, 1px);height: 1px;margin: -1px;overflow: hidden;padding: 0;position: absolute;width: 1px;}#sk-container-id-3 div.sk-estimator {font-family: monospace;background-color: #f0f8ff;border: 1px dotted black;border-radius: 0.25em;box-sizing: border-box;margin-bottom: 0.5em;}#sk-container-id-3 div.sk-estimator:hover {background-color: #d4ebff;}#sk-container-id-3 div.sk-parallel-item::after {content: \"\";width: 100%;border-bottom: 1px solid gray;flex-grow: 1;}#sk-container-id-3 div.sk-label:hover label.sk-toggleable__label {background-color: #d4ebff;}#sk-container-id-3 div.sk-serial::before {content: \"\";position: absolute;border-left: 1px solid gray;box-sizing: border-box;top: 0;bottom: 0;left: 50%;z-index: 0;}#sk-container-id-3 div.sk-serial {display: flex;flex-direction: column;align-items: center;background-color: white;padding-right: 0.2em;padding-left: 0.2em;position: relative;}#sk-container-id-3 div.sk-item {position: relative;z-index: 1;}#sk-container-id-3 div.sk-parallel {display: flex;align-items: stretch;justify-content: center;background-color: white;position: relative;}#sk-container-id-3 div.sk-item::before, #sk-container-id-3 div.sk-parallel-item::before {content: \"\";position: absolute;border-left: 1px solid gray;box-sizing: border-box;top: 0;bottom: 0;left: 50%;z-index: -1;}#sk-container-id-3 div.sk-parallel-item {display: flex;flex-direction: column;z-index: 1;position: relative;background-color: white;}#sk-container-id-3 div.sk-parallel-item:first-child::after {align-self: flex-end;width: 50%;}#sk-container-id-3 div.sk-parallel-item:last-child::after {align-self: flex-start;width: 50%;}#sk-container-id-3 div.sk-parallel-item:only-child::after {width: 0;}#sk-container-id-3 div.sk-dashed-wrapped {border: 1px dashed gray;margin: 0 0.4em 0.5em 0.4em;box-sizing: border-box;padding-bottom: 0.4em;background-color: white;}#sk-container-id-3 div.sk-label label {font-family: monospace;font-weight: bold;display: inline-block;line-height: 1.2em;}#sk-container-id-3 div.sk-label-container {text-align: center;}#sk-container-id-3 div.sk-container {/* jupyter's `normalize.less` sets `[hidden] { display: none; }` but bootstrap.min.css set `[hidden] { display: none !important; }` so we also need the `!important` here to be able to override the default hidden behavior on the sphinx rendered scikit-learn.org. See: https://github.com/scikit-learn/scikit-learn/issues/21755 */display: inline-block !important;position: relative;}#sk-container-id-3 div.sk-text-repr-fallback {display: none;}</style><div id=\"sk-container-id-3\" class=\"sk-top-container\"><div class=\"sk-text-repr-fallback\"><pre>DecisionTreeClassifier(min_samples_leaf=50)</pre><b>In a Jupyter environment, please rerun this cell to show the HTML representation or trust the notebook. <br />On GitHub, the HTML representation is unable to render, please try loading this page with nbviewer.org.</b></div><div class=\"sk-container\" hidden><div class=\"sk-item\"><div class=\"sk-estimator sk-toggleable\"><input class=\"sk-toggleable__control sk-hidden--visually\" id=\"sk-estimator-id-3\" type=\"checkbox\" checked><label for=\"sk-estimator-id-3\" class=\"sk-toggleable__label sk-toggleable__label-arrow\">DecisionTreeClassifier</label><div class=\"sk-toggleable__content\"><pre>DecisionTreeClassifier(min_samples_leaf=50)</pre></div></div></div></div></div>"
      ],
      "text/plain": [
       "DecisionTreeClassifier(min_samples_leaf=50)"
      ]
     },
     "execution_count": 11,
     "metadata": {},
     "output_type": "execute_result"
    }
   ],
   "source": [
    "model = DecisionTreeClassifier(min_samples_leaf=50)\n",
    "model.fit(X_train, y_train)"
   ]
  },
  {
   "cell_type": "code",
   "execution_count": 12,
   "id": "65d1771a",
   "metadata": {
    "execution": {
     "iopub.execute_input": "2024-05-10T12:01:06.648161Z",
     "iopub.status.busy": "2024-05-10T12:01:06.647654Z",
     "iopub.status.idle": "2024-05-10T12:01:06.654881Z",
     "shell.execute_reply": "2024-05-10T12:01:06.654063Z"
    },
    "papermill": {
     "duration": 0.015386,
     "end_time": "2024-05-10T12:01:06.658291",
     "exception": false,
     "start_time": "2024-05-10T12:01:06.642905",
     "status": "completed"
    },
    "tags": []
   },
   "outputs": [
    {
     "data": {
      "text/plain": [
       "0.7494824016563147"
      ]
     },
     "execution_count": 12,
     "metadata": {},
     "output_type": "execute_result"
    }
   ],
   "source": [
    "model.score(X_train, y_train)"
   ]
  },
  {
   "cell_type": "code",
   "execution_count": 13,
   "id": "4af1040b",
   "metadata": {
    "execution": {
     "iopub.execute_input": "2024-05-10T12:01:06.672685Z",
     "iopub.status.busy": "2024-05-10T12:01:06.672446Z",
     "iopub.status.idle": "2024-05-10T12:01:06.679558Z",
     "shell.execute_reply": "2024-05-10T12:01:06.678542Z"
    },
    "papermill": {
     "duration": 0.01562,
     "end_time": "2024-05-10T12:01:06.681777",
     "exception": false,
     "start_time": "2024-05-10T12:01:06.666157",
     "status": "completed"
    },
    "tags": []
   },
   "outputs": [
    {
     "data": {
      "text/plain": [
       "0.7053140096618358"
      ]
     },
     "execution_count": 13,
     "metadata": {},
     "output_type": "execute_result"
    }
   ],
   "source": [
    "model.score(X_test, y_test)"
   ]
  },
  {
   "cell_type": "code",
   "execution_count": 14,
   "id": "11eae224",
   "metadata": {
    "execution": {
     "iopub.execute_input": "2024-05-10T12:01:06.697256Z",
     "iopub.status.busy": "2024-05-10T12:01:06.695852Z",
     "iopub.status.idle": "2024-05-10T12:01:06.833451Z",
     "shell.execute_reply": "2024-05-10T12:01:06.833166Z"
    },
    "papermill": {
     "duration": 0.143433,
     "end_time": "2024-05-10T12:01:06.834250",
     "exception": false,
     "start_time": "2024-05-10T12:01:06.690817",
     "status": "completed"
    },
    "tags": []
   },
   "outputs": [
    {
     "data": {
      "image/png": "[encoded data removed]",
      "text/plain": [
       "<Figure size 1000x600 with 1 Axes>"
      ]
     },
     "metadata": {},
     "output_type": "display_data"
    }
   ],
   "source": [
    "from sklearn.tree import plot_tree\n",
    "import matplotlib.pyplot as plt\n",
    "\n",
    "plt.figure(figsize=(10,6))\n",
    "\n",
    "feature_names = X.columns.tolist()\n",
    "plot_tree(model, feature_names=feature_names, filled=True, fontsize=8);"
   ]
  },
  {
   "attachments": {},
   "cell_type": "markdown",
   "id": "6671a53d",
   "metadata": {
    "papermill": {
     "duration": 0.003657,
     "end_time": "2024-05-10T12:01:06.841696",
     "exception": false,
     "start_time": "2024-05-10T12:01:06.838039",
     "status": "completed"
    },
    "tags": []
   },
   "source": [
    "## Grid search to find the best hyperparameters"
   ]
  },
  {
   "cell_type": "code",
   "execution_count": 15,
   "id": "95370409",
   "metadata": {
    "execution": {
     "iopub.execute_input": "2024-05-10T12:01:06.849604Z",
     "iopub.status.busy": "2024-05-10T12:01:06.849471Z",
     "iopub.status.idle": "2024-05-10T12:01:06.851723Z",
     "shell.execute_reply": "2024-05-10T12:01:06.851380Z"
    },
    "papermill": {
     "duration": 0.007404,
     "end_time": "2024-05-10T12:01:06.852612",
     "exception": false,
     "start_time": "2024-05-10T12:01:06.845208",
     "status": "completed"
    },
    "tags": []
   },
   "outputs": [
    {
     "name": "stdout",
     "output_type": "stream",
     "text": [
      "\u001b[0;31mInit signature:\u001b[0m\n",
      "\u001b[0mGridSearchCV\u001b[0m\u001b[0;34m(\u001b[0m\u001b[0;34m\u001b[0m\n",
      "\u001b[0;34m\u001b[0m    \u001b[0mestimator\u001b[0m\u001b[0;34m,\u001b[0m\u001b[0;34m\u001b[0m\n",
      "\u001b[0;34m\u001b[0m    \u001b[0mparam_grid\u001b[0m\u001b[0;34m,\u001b[0m\u001b[0;34m\u001b[0m\n",
      "\u001b[0;34m\u001b[0m    \u001b[0;34m*\u001b[0m\u001b[0;34m,\u001b[0m\u001b[0;34m\u001b[0m\n",
      "\u001b[0;34m\u001b[0m    \u001b[0mscoring\u001b[0m\u001b[0;34m=\u001b[0m\u001b[0;32mNone\u001b[0m\u001b[0;34m,\u001b[0m\u001b[0;34m\u001b[0m\n",
      "\u001b[0;34m\u001b[0m    \u001b[0mn_jobs\u001b[0m\u001b[0;34m=\u001b[0m\u001b[0;32mNone\u001b[0m\u001b[0;34m,\u001b[0m\u001b[0;34m\u001b[0m\n",
      "\u001b[0;34m\u001b[0m    \u001b[0mrefit\u001b[0m\u001b[0;34m=\u001b[0m\u001b[0;32mTrue\u001b[0m\u001b[0;34m,\u001b[0m\u001b[0;34m\u001b[0m\n",
      "\u001b[0;34m\u001b[0m    \u001b[0mcv\u001b[0m\u001b[0;34m=\u001b[0m\u001b[0;32mNone\u001b[0m\u001b[0;34m,\u001b[0m\u001b[0;34m\u001b[0m\n",
      "\u001b[0;34m\u001b[0m    \u001b[0mverbose\u001b[0m\u001b[0;34m=\u001b[0m\u001b[0;36m0\u001b[0m\u001b[0;34m,\u001b[0m\u001b[0;34m\u001b[0m\n",
      "\u001b[0;34m\u001b[0m    \u001b[0mpre_dispatch\u001b[0m\u001b[0;34m=\u001b[0m\u001b[0;34m'2*n_jobs'\u001b[0m\u001b[0;34m,\u001b[0m\u001b[0;34m\u001b[0m\n",
      "\u001b[0;34m\u001b[0m    \u001b[0merror_score\u001b[0m\u001b[0;34m=\u001b[0m\u001b[0mnan\u001b[0m\u001b[0;34m,\u001b[0m\u001b[0;34m\u001b[0m\n",
      "\u001b[0;34m\u001b[0m    \u001b[0mreturn_train_score\u001b[0m\u001b[0;34m=\u001b[0m\u001b[0;32mFalse\u001b[0m\u001b[0;34m,\u001b[0m\u001b[0;34m\u001b[0m\n",
      "\u001b[0;34m\u001b[0m\u001b[0;34m)\u001b[0m\u001b[0;34m\u001b[0m\u001b[0;34m\u001b[0m\u001b[0m\n",
      "\u001b[0;31mDocstring:\u001b[0m     \n",
      "Exhaustive search over specified parameter values for an estimator.\n",
      "\n",
      "Important members are fit, predict.\n",
      "\n",
      "GridSearchCV implements a \"fit\" and a \"score\" method.\n",
      "It also implements \"score_samples\", \"predict\", \"predict_proba\",\n",
      "\"decision_function\", \"transform\" and \"inverse_transform\" if they are\n",
      "implemented in the estimator used.\n",
      "\n",
      "The parameters of the estimator used to apply these methods are optimized\n",
      "by cross-validated grid-search over a parameter grid.\n",
      "\n",
      "Read more in the :ref:`User Guide <grid_search>`.\n",
      "\n",
      "Parameters\n",
      "----------\n",
      "estimator : estimator object\n",
      "    This is assumed to implement the scikit-learn estimator interface.\n",
      "    Either estimator needs to provide a ``score`` function,\n",
      "    or ``scoring`` must be passed.\n",
      "\n",
      "param_grid : dict or list of dictionaries\n",
      "    Dictionary with parameters names (`str`) as keys and lists of\n",
      "    parameter settings to try as values, or a list of such\n",
      "    dictionaries, in which case the grids spanned by each dictionary\n",
      "    in the list are explored. This enables searching over any sequence\n",
      "    of parameter settings.\n",
      "\n",
      "scoring : str, callable, list, tuple or dict, default=None\n",
      "    Strategy to evaluate the performance of the cross-validated model on\n",
      "    the test set.\n",
      "\n",
      "    If `scoring` represents a single score, one can use:\n",
      "\n",
      "    - a single string (see :ref:`scoring_parameter`);\n",
      "    - a callable (see :ref:`scoring`) that returns a single value.\n",
      "\n",
      "    If `scoring` represents multiple scores, one can use:\n",
      "\n",
      "    - a list or tuple of unique strings;\n",
      "    - a callable returning a dictionary where the keys are the metric\n",
      "      names and the values are the metric scores;\n",
      "    - a dictionary with metric names as keys and callables a values.\n",
      "\n",
      "    See :ref:`multimetric_grid_search` for an example.\n",
      "\n",
      "n_jobs : int, default=None\n",
      "    Number of jobs to run in parallel.\n",
      "    ``None`` means 1 unless in a :obj:`joblib.parallel_backend` context.\n",
      "    ``-1`` means using all processors. See :term:`Glossary <n_jobs>`\n",
      "    for more details.\n",
      "\n",
      "    .. versionchanged:: v0.20\n",
      "       `n_jobs` default changed from 1 to None\n",
      "\n",
      "refit : bool, str, or callable, default=True\n",
      "    Refit an estimator using the best found parameters on the whole\n",
      "    dataset.\n",
      "\n",
      "    For multiple metric evaluation, this needs to be a `str` denoting the\n",
      "    scorer that would be used to find the best parameters for refitting\n",
      "    the estimator at the end.\n",
      "\n",
      "    Where there are considerations other than maximum score in\n",
      "    choosing a best estimator, ``refit`` can be set to a function which\n",
      "    returns the selected ``best_index_`` given ``cv_results_``. In that\n",
      "    case, the ``best_estimator_`` and ``best_params_`` will be set\n",
      "    according to the returned ``best_index_`` while the ``best_score_``\n",
      "    attribute will not be available.\n",
      "\n",
      "    The refitted estimator is made available at the ``best_estimator_``\n",
      "    attribute and permits using ``predict`` directly on this\n",
      "    ``GridSearchCV`` instance.\n",
      "\n",
      "    Also for multiple metric evaluation, the attributes ``best_index_``,\n",
      "    ``best_score_`` and ``best_params_`` will only be available if\n",
      "    ``refit`` is set and all of them will be determined w.r.t this specific\n",
      "    scorer.\n",
      "\n",
      "    See ``scoring`` parameter to know more about multiple metric\n",
      "    evaluation.\n",
      "\n",
      "    See :ref:`sphx_glr_auto_examples_model_selection_plot_grid_search_digits.py`\n",
      "    to see how to design a custom selection strategy using a callable\n",
      "    via `refit`.\n",
      "\n",
      "    .. versionchanged:: 0.20\n",
      "        Support for callable added.\n",
      "\n",
      "cv : int, cross-validation generator or an iterable, default=None\n",
      "    Determines the cross-validation splitting strategy.\n",
      "    Possible inputs for cv are:\n",
      "\n",
      "    - None, to use the default 5-fold cross validation,\n",
      "    - integer, to specify the number of folds in a `(Stratified)KFold`,\n",
      "    - :term:`CV splitter`,\n",
      "    - An iterable yielding (train, test) splits as arrays of indices.\n",
      "\n",
      "    For integer/None inputs, if the estimator is a classifier and ``y`` is\n",
      "    either binary or multiclass, :class:`StratifiedKFold` is used. In all\n",
      "    other cases, :class:`KFold` is used. These splitters are instantiated\n",
      "    with `shuffle=False` so the splits will be the same across calls.\n",
      "\n",
      "    Refer :ref:`User Guide <cross_validation>` for the various\n",
      "    cross-validation strategies that can be used here.\n",
      "\n",
      "    .. versionchanged:: 0.22\n",
      "        ``cv`` default value if None changed from 3-fold to 5-fold.\n",
      "\n",
      "verbose : int\n",
      "    Controls the verbosity: the higher, the more messages.\n",
      "\n",
      "    - >1 : the computation time for each fold and parameter candidate is\n",
      "      displayed;\n",
      "    - >2 : the score is also displayed;\n",
      "    - >3 : the fold and candidate parameter indexes are also displayed\n",
      "      together with the starting time of the computation.\n",
      "\n",
      "pre_dispatch : int, or str, default='2*n_jobs'\n",
      "    Controls the number of jobs that get dispatched during parallel\n",
      "    execution. Reducing this number can be useful to avoid an\n",
      "    explosion of memory consumption when more jobs get dispatched\n",
      "    than CPUs can process. This parameter can be:\n",
      "\n",
      "        - None, in which case all the jobs are immediately\n",
      "          created and spawned. Use this for lightweight and\n",
      "          fast-running jobs, to avoid delays due to on-demand\n",
      "          spawning of the jobs\n",
      "\n",
      "        - An int, giving the exact number of total jobs that are\n",
      "          spawned\n",
      "\n",
      "        - A str, giving an expression as a function of n_jobs,\n",
      "          as in '2*n_jobs'\n",
      "\n",
      "error_score : 'raise' or numeric, default=np.nan\n",
      "    Value to assign to the score if an error occurs in estimator fitting.\n",
      "    If set to 'raise', the error is raised. If a numeric value is given,\n",
      "    FitFailedWarning is raised. This parameter does not affect the refit\n",
      "    step, which will always raise the error.\n",
      "\n",
      "return_train_score : bool, default=False\n",
      "    If ``False``, the ``cv_results_`` attribute will not include training\n",
      "    scores.\n",
      "    Computing training scores is used to get insights on how different\n",
      "    parameter settings impact the overfitting/underfitting trade-off.\n",
      "    However computing the scores on the training set can be computationally\n",
      "    expensive and is not strictly required to select the parameters that\n",
      "    yield the best generalization performance.\n",
      "\n",
      "    .. versionadded:: 0.19\n",
      "\n",
      "    .. versionchanged:: 0.21\n",
      "        Default value was changed from ``True`` to ``False``\n",
      "\n",
      "Attributes\n",
      "----------\n",
      "cv_results_ : dict of numpy (masked) ndarrays\n",
      "    A dict with keys as column headers and values as columns, that can be\n",
      "    imported into a pandas ``DataFrame``.\n",
      "\n",
      "    For instance the below given table\n",
      "\n",
      "    +------------+-----------+------------+-----------------+---+---------+\n",
      "    |param_kernel|param_gamma|param_degree|split0_test_score|...|rank_t...|\n",
      "    +============+===========+============+=================+===+=========+\n",
      "    |  'poly'    |     --    |      2     |       0.80      |...|    2    |\n",
      "    +------------+-----------+------------+-----------------+---+---------+\n",
      "    |  'poly'    |     --    |      3     |       0.70      |...|    4    |\n",
      "    +------------+-----------+------------+-----------------+---+---------+\n",
      "    |  'rbf'     |     0.1   |     --     |       0.80      |...|    3    |\n",
      "    +------------+-----------+------------+-----------------+---+---------+\n",
      "    |  'rbf'     |     0.2   |     --     |       0.93      |...|    1    |\n",
      "    +------------+-----------+------------+-----------------+---+---------+\n",
      "\n",
      "    will be represented by a ``cv_results_`` dict of::\n",
      "\n",
      "        {\n",
      "        'param_kernel': masked_array(data = ['poly', 'poly', 'rbf', 'rbf'],\n",
      "                                     mask = [False False False False]...)\n",
      "        'param_gamma': masked_array(data = [-- -- 0.1 0.2],\n",
      "                                    mask = [ True  True False False]...),\n",
      "        'param_degree': masked_array(data = [2.0 3.0 -- --],\n",
      "                                     mask = [False False  True  True]...),\n",
      "        'split0_test_score'  : [0.80, 0.70, 0.80, 0.93],\n",
      "        'split1_test_score'  : [0.82, 0.50, 0.70, 0.78],\n",
      "        'mean_test_score'    : [0.81, 0.60, 0.75, 0.85],\n",
      "        'std_test_score'     : [0.01, 0.10, 0.05, 0.08],\n",
      "        'rank_test_score'    : [2, 4, 3, 1],\n",
      "        'split0_train_score' : [0.80, 0.92, 0.70, 0.93],\n",
      "        'split1_train_score' : [0.82, 0.55, 0.70, 0.87],\n",
      "        'mean_train_score'   : [0.81, 0.74, 0.70, 0.90],\n",
      "        'std_train_score'    : [0.01, 0.19, 0.00, 0.03],\n",
      "        'mean_fit_time'      : [0.73, 0.63, 0.43, 0.49],\n",
      "        'std_fit_time'       : [0.01, 0.02, 0.01, 0.01],\n",
      "        'mean_score_time'    : [0.01, 0.06, 0.04, 0.04],\n",
      "        'std_score_time'     : [0.00, 0.00, 0.00, 0.01],\n",
      "        'params'             : [{'kernel': 'poly', 'degree': 2}, ...],\n",
      "        }\n",
      "\n",
      "    NOTE\n",
      "\n",
      "    The key ``'params'`` is used to store a list of parameter\n",
      "    settings dicts for all the parameter candidates.\n",
      "\n",
      "    The ``mean_fit_time``, ``std_fit_time``, ``mean_score_time`` and\n",
      "    ``std_score_time`` are all in seconds.\n",
      "\n",
      "    For multi-metric evaluation, the scores for all the scorers are\n",
      "    available in the ``cv_results_`` dict at the keys ending with that\n",
      "    scorer's name (``'_<scorer_name>'``) instead of ``'_score'`` shown\n",
      "    above. ('split0_test_precision', 'mean_train_precision' etc.)\n",
      "\n",
      "best_estimator_ : estimator\n",
      "    Estimator that was chosen by the search, i.e. estimator\n",
      "    which gave highest score (or smallest loss if specified)\n",
      "    on the left out data. Not available if ``refit=False``.\n",
      "\n",
      "    See ``refit`` parameter for more information on allowed values.\n",
      "\n",
      "best_score_ : float\n",
      "    Mean cross-validated score of the best_estimator\n",
      "\n",
      "    For multi-metric evaluation, this is present only if ``refit`` is\n",
      "    specified.\n",
      "\n",
      "    This attribute is not available if ``refit`` is a function.\n",
      "\n",
      "best_params_ : dict\n",
      "    Parameter setting that gave the best results on the hold out data.\n",
      "\n",
      "    For multi-metric evaluation, this is present only if ``refit`` is\n",
      "    specified.\n",
      "\n",
      "best_index_ : int\n",
      "    The index (of the ``cv_results_`` arrays) which corresponds to the best\n",
      "    candidate parameter setting.\n",
      "\n",
      "    The dict at ``search.cv_results_['params'][search.best_index_]`` gives\n",
      "    the parameter setting for the best model, that gives the highest\n",
      "    mean score (``search.best_score_``).\n",
      "\n",
      "    For multi-metric evaluation, this is present only if ``refit`` is\n",
      "    specified.\n",
      "\n",
      "scorer_ : function or a dict\n",
      "    Scorer function used on the held out data to choose the best\n",
      "    parameters for the model.\n",
      "\n",
      "    For multi-metric evaluation, this attribute holds the validated\n",
      "    ``scoring`` dict which maps the scorer key to the scorer callable.\n",
      "\n",
      "n_splits_ : int\n",
      "    The number of cross-validation splits (folds/iterations).\n",
      "\n",
      "refit_time_ : float\n",
      "    Seconds used for refitting the best model on the whole dataset.\n",
      "\n",
      "    This is present only if ``refit`` is not False.\n",
      "\n",
      "    .. versionadded:: 0.20\n",
      "\n",
      "multimetric_ : bool\n",
      "    Whether or not the scorers compute several metrics.\n",
      "\n",
      "classes_ : ndarray of shape (n_classes,)\n",
      "    The classes labels. This is present only if ``refit`` is specified and\n",
      "    the underlying estimator is a classifier.\n",
      "\n",
      "n_features_in_ : int\n",
      "    Number of features seen during :term:`fit`. Only defined if\n",
      "    `best_estimator_` is defined (see the documentation for the `refit`\n",
      "    parameter for more details) and that `best_estimator_` exposes\n",
      "    `n_features_in_` when fit.\n",
      "\n",
      "    .. versionadded:: 0.24\n",
      "\n",
      "feature_names_in_ : ndarray of shape (`n_features_in_`,)\n",
      "    Names of features seen during :term:`fit`. Only defined if\n",
      "    `best_estimator_` is defined (see the documentation for the `refit`\n",
      "    parameter for more details) and that `best_estimator_` exposes\n",
      "    `feature_names_in_` when fit.\n",
      "\n",
      "    .. versionadded:: 1.0\n",
      "\n",
      "See Also\n",
      "--------\n",
      "ParameterGrid : Generates all the combinations of a hyperparameter grid.\n",
      "train_test_split : Utility function to split the data into a development\n",
      "    set usable for fitting a GridSearchCV instance and an evaluation set\n",
      "    for its final evaluation.\n",
      "sklearn.metrics.make_scorer : Make a scorer from a performance metric or\n",
      "    loss function.\n",
      "\n",
      "Notes\n",
      "-----\n",
      "The parameters selected are those that maximize the score of the left out\n",
      "data, unless an explicit score is passed in which case it is used instead.\n",
      "\n",
      "If `n_jobs` was set to a value higher than one, the data is copied for each\n",
      "point in the grid (and not `n_jobs` times). This is done for efficiency\n",
      "reasons if individual jobs take very little time, but may raise errors if\n",
      "the dataset is large and not enough memory is available.  A workaround in\n",
      "this case is to set `pre_dispatch`. Then, the memory is copied only\n",
      "`pre_dispatch` many times. A reasonable value for `pre_dispatch` is `2 *\n",
      "n_jobs`.\n",
      "\n",
      "Examples\n",
      "--------\n",
      ">>> from sklearn import svm, datasets\n",
      ">>> from sklearn.model_selection import GridSearchCV\n",
      ">>> iris = datasets.load_iris()\n",
      ">>> parameters = {'kernel':('linear', 'rbf'), 'C':[1, 10]}\n",
      ">>> svc = svm.SVC()\n",
      ">>> clf = GridSearchCV(svc, parameters)\n",
      ">>> clf.fit(iris.data, iris.target)\n",
      "GridSearchCV(estimator=SVC(),\n",
      "             param_grid={'C': [1, 10], 'kernel': ('linear', 'rbf')})\n",
      ">>> sorted(clf.cv_results_.keys())\n",
      "['mean_fit_time', 'mean_score_time', 'mean_test_score',...\n",
      " 'param_C', 'param_kernel', 'params',...\n",
      " 'rank_test_score', 'split0_test_score',...\n",
      " 'split2_test_score', ...\n",
      " 'std_fit_time', 'std_score_time', 'std_test_score']\n",
      "\u001b[0;31mFile:\u001b[0m           ~/miniforge3/lib/python3.10/site-packages/sklearn/model_selection/_search.py\n",
      "\u001b[0;31mType:\u001b[0m           ABCMeta\n",
      "\u001b[0;31mSubclasses:\u001b[0m     "
     ]
    }
   ],
   "source": [
    "from sklearn.model_selection import GridSearchCV\n",
    "GridSearchCV?"
   ]
  },
  {
   "cell_type": "code",
   "execution_count": 16,
   "id": "adb3f874",
   "metadata": {
    "execution": {
     "iopub.execute_input": "2024-05-10T12:01:06.860040Z",
     "iopub.status.busy": "2024-05-10T12:01:06.859927Z",
     "iopub.status.idle": "2024-05-10T12:01:06.862414Z",
     "shell.execute_reply": "2024-05-10T12:01:06.862102Z"
    },
    "papermill": {
     "duration": 0.007119,
     "end_time": "2024-05-10T12:01:06.863212",
     "exception": false,
     "start_time": "2024-05-10T12:01:06.856093",
     "status": "completed"
    },
    "tags": []
   },
   "outputs": [
    {
     "data": {
      "text/plain": [
       "{'ccp_alpha': 0.0,\n",
       " 'class_weight': None,\n",
       " 'criterion': 'gini',\n",
       " 'max_depth': None,\n",
       " 'max_features': None,\n",
       " 'max_leaf_nodes': None,\n",
       " 'min_impurity_decrease': 0.0,\n",
       " 'min_samples_leaf': 1,\n",
       " 'min_samples_split': 2,\n",
       " 'min_weight_fraction_leaf': 0.0,\n",
       " 'random_state': None,\n",
       " 'splitter': 'best'}"
      ]
     },
     "execution_count": 16,
     "metadata": {},
     "output_type": "execute_result"
    }
   ],
   "source": [
    "model = DecisionTreeClassifier()\n",
    "model.get_params()"
   ]
  },
  {
   "cell_type": "code",
   "execution_count": 17,
   "id": "7b9878c3",
   "metadata": {
    "execution": {
     "iopub.execute_input": "2024-05-10T12:01:06.870709Z",
     "iopub.status.busy": "2024-05-10T12:01:06.870557Z",
     "iopub.status.idle": "2024-05-10T12:01:06.872457Z",
     "shell.execute_reply": "2024-05-10T12:01:06.872202Z"
    },
    "papermill": {
     "duration": 0.00683,
     "end_time": "2024-05-10T12:01:06.873202",
     "exception": false,
     "start_time": "2024-05-10T12:01:06.866372",
     "status": "completed"
    },
    "tags": []
   },
   "outputs": [],
   "source": [
    "param_grid = {\n",
    "    'max_depth': [3, 5, 7, 9],\n",
    "    'min_samples_leaf': [50, 100, 200, 500],\n",
    "    'criterion': ['gini', 'entropy']\n",
    "}"
   ]
  },
  {
   "cell_type": "code",
   "execution_count": 18,
   "id": "1bdc6f43",
   "metadata": {
    "execution": {
     "iopub.execute_input": "2024-05-10T12:01:06.881080Z",
     "iopub.status.busy": "2024-05-10T12:01:06.880962Z",
     "iopub.status.idle": "2024-05-10T12:01:07.043836Z",
     "shell.execute_reply": "2024-05-10T12:01:07.043576Z"
    },
    "papermill": {
     "duration": 0.167618,
     "end_time": "2024-05-10T12:01:07.044646",
     "exception": false,
     "start_time": "2024-05-10T12:01:06.877028",
     "status": "completed"
    },
    "tags": []
   },
   "outputs": [
    {
     "name": "stdout",
     "output_type": "stream",
     "text": [
      "Fitting 5 folds for each of 32 candidates, totalling 160 fits\n",
      "[CV] END ...criterion=gini, max_depth=3, min_samples_leaf=50; total time=   0.0s\n",
      "[CV] END ...criterion=gini, max_depth=3, min_samples_leaf=50; total time=   0.0s\n",
      "[CV] END ...criterion=gini, max_depth=3, min_samples_leaf=50; total time=   0.0s\n",
      "[CV] END ...criterion=gini, max_depth=3, min_samples_leaf=50; total time=   0.0s\n",
      "[CV] END ...criterion=gini, max_depth=3, min_samples_leaf=50; total time=   0.0s\n",
      "[CV] END ..criterion=gini, max_depth=3, min_samples_leaf=100; total time=   0.0s\n",
      "[CV] END ..criterion=gini, max_depth=3, min_samples_leaf=100; total time=   0.0s\n",
      "[CV] END ..criterion=gini, max_depth=3, min_samples_leaf=100; total time=   0.0s\n",
      "[CV] END ..criterion=gini, max_depth=3, min_samples_leaf=100; total time=   0.0s\n",
      "[CV] END ..criterion=gini, max_depth=3, min_samples_leaf=100; total time=   0.0s\n",
      "[CV] END ..criterion=gini, max_depth=3, min_samples_leaf=200; total time=   0.0s\n",
      "[CV] END ..criterion=gini, max_depth=3, min_samples_leaf=200; total time=   0.0s\n",
      "[CV] END ..criterion=gini, max_depth=3, min_samples_leaf=200; total time=   0.0s\n",
      "[CV] END ..criterion=gini, max_depth=3, min_samples_leaf=200; total time=   0.0s\n",
      "[CV] END ..criterion=gini, max_depth=3, min_samples_leaf=200; total time=   0.0s\n",
      "[CV] END ..criterion=gini, max_depth=3, min_samples_leaf=500; total time=   0.0s\n",
      "[CV] END ..criterion=gini, max_depth=3, min_samples_leaf=500; total time=   0.0s\n",
      "[CV] END ..criterion=gini, max_depth=3, min_samples_leaf=500; total time=   0.0s\n",
      "[CV] END ..criterion=gini, max_depth=3, min_samples_leaf=500; total time=   0.0s\n",
      "[CV] END ..criterion=gini, max_depth=3, min_samples_leaf=500; total time=   0.0s\n",
      "[CV] END ...criterion=gini, max_depth=5, min_samples_leaf=50; total time=   0.0s\n",
      "[CV] END ...criterion=gini, max_depth=5, min_samples_leaf=50; total time=   0.0s\n",
      "[CV] END ...criterion=gini, max_depth=5, min_samples_leaf=50; total time=   0.0s\n",
      "[CV] END ...criterion=gini, max_depth=5, min_samples_leaf=50; total time=   0.0s\n",
      "[CV] END ...criterion=gini, max_depth=5, min_samples_leaf=50; total time=   0.0s\n",
      "[CV] END ..criterion=gini, max_depth=5, min_samples_leaf=100; total time=   0.0s\n",
      "[CV] END ..criterion=gini, max_depth=5, min_samples_leaf=100; total time=   0.0s\n",
      "[CV] END ..criterion=gini, max_depth=5, min_samples_leaf=100; total time=   0.0s\n",
      "[CV] END ..criterion=gini, max_depth=5, min_samples_leaf=100; total time=   0.0s\n",
      "[CV] END ..criterion=gini, max_depth=5, min_samples_leaf=100; total time=   0.0s\n",
      "[CV] END ..criterion=gini, max_depth=5, min_samples_leaf=200; total time=   0.0s\n",
      "[CV] END ..criterion=gini, max_depth=5, min_samples_leaf=200; total time=   0.0s\n",
      "[CV] END ..criterion=gini, max_depth=5, min_samples_leaf=200; total time=   0.0s\n",
      "[CV] END ..criterion=gini, max_depth=5, min_samples_leaf=200; total time=   0.0s\n",
      "[CV] END ..criterion=gini, max_depth=5, min_samples_leaf=200; total time=   0.0s\n",
      "[CV] END ..criterion=gini, max_depth=5, min_samples_leaf=500; total time=   0.0s\n",
      "[CV] END ..criterion=gini, max_depth=5, min_samples_leaf=500; total time=   0.0s\n",
      "[CV] END ..criterion=gini, max_depth=5, min_samples_leaf=500; total time=   0.0s\n",
      "[CV] END ..criterion=gini, max_depth=5, min_samples_leaf=500; total time=   0.0s\n",
      "[CV] END ..criterion=gini, max_depth=5, min_samples_leaf=500; total time=   0.0s\n",
      "[CV] END ...criterion=gini, max_depth=7, min_samples_leaf=50; total time=   0.0s\n",
      "[CV] END ...criterion=gini, max_depth=7, min_samples_leaf=50; total time=   0.0s\n",
      "[CV] END ...criterion=gini, max_depth=7, min_samples_leaf=50; total time=   0.0s\n",
      "[CV] END ...criterion=gini, max_depth=7, min_samples_leaf=50; total time=   0.0s\n",
      "[CV] END ...criterion=gini, max_depth=7, min_samples_leaf=50; total time=   0.0s\n",
      "[CV] END ..criterion=gini, max_depth=7, min_samples_leaf=100; total time=   0.0s\n",
      "[CV] END ..criterion=gini, max_depth=7, min_samples_leaf=100; total time=   0.0s\n",
      "[CV] END ..criterion=gini, max_depth=7, min_samples_leaf=100; total time=   0.0s\n",
      "[CV] END ..criterion=gini, max_depth=7, min_samples_leaf=100; total time=   0.0s\n",
      "[CV] END ..criterion=gini, max_depth=7, min_samples_leaf=100; total time=   0.0s\n",
      "[CV] END ..criterion=gini, max_depth=7, min_samples_leaf=200; total time=   0.0s\n",
      "[CV] END ..criterion=gini, max_depth=7, min_samples_leaf=200; total time=   0.0s\n",
      "[CV] END ..criterion=gini, max_depth=7, min_samples_leaf=200; total time=   0.0s\n",
      "[CV] END ..criterion=gini, max_depth=7, min_samples_leaf=200; total time=   0.0s\n",
      "[CV] END ..criterion=gini, max_depth=7, min_samples_leaf=200; total time=   0.0s\n",
      "[CV] END ..criterion=gini, max_depth=7, min_samples_leaf=500; total time=   0.0s\n",
      "[CV] END ..criterion=gini, max_depth=7, min_samples_leaf=500; total time=   0.0s\n",
      "[CV] END ..criterion=gini, max_depth=7, min_samples_leaf=500; total time=   0.0s\n",
      "[CV] END ..criterion=gini, max_depth=7, min_samples_leaf=500; total time=   0.0s\n",
      "[CV] END ..criterion=gini, max_depth=7, min_samples_leaf=500; total time=   0.0s\n",
      "[CV] END ...criterion=gini, max_depth=9, min_samples_leaf=50; total time=   0.0s\n",
      "[CV] END ...criterion=gini, max_depth=9, min_samples_leaf=50; total time=   0.0s\n",
      "[CV] END ...criterion=gini, max_depth=9, min_samples_leaf=50; total time=   0.0s\n",
      "[CV] END ...criterion=gini, max_depth=9, min_samples_leaf=50; total time=   0.0s\n",
      "[CV] END ...criterion=gini, max_depth=9, min_samples_leaf=50; total time=   0.0s\n",
      "[CV] END ..criterion=gini, max_depth=9, min_samples_leaf=100; total time=   0.0s\n",
      "[CV] END ..criterion=gini, max_depth=9, min_samples_leaf=100; total time=   0.0s\n",
      "[CV] END ..criterion=gini, max_depth=9, min_samples_leaf=100; total time=   0.0s\n",
      "[CV] END ..criterion=gini, max_depth=9, min_samples_leaf=100; total time=   0.0s\n",
      "[CV] END ..criterion=gini, max_depth=9, min_samples_leaf=100; total time=   0.0s\n",
      "[CV] END ..criterion=gini, max_depth=9, min_samples_leaf=200; total time=   0.0s\n",
      "[CV] END ..criterion=gini, max_depth=9, min_samples_leaf=200; total time=   0.0s\n",
      "[CV] END ..criterion=gini, max_depth=9, min_samples_leaf=200; total time=   0.0s\n",
      "[CV] END ..criterion=gini, max_depth=9, min_samples_leaf=200; total time=   0.0s\n",
      "[CV] END ..criterion=gini, max_depth=9, min_samples_leaf=200; total time=   0.0s\n",
      "[CV] END ..criterion=gini, max_depth=9, min_samples_leaf=500; total time=   0.0s\n",
      "[CV] END ..criterion=gini, max_depth=9, min_samples_leaf=500; total time=   0.0s\n",
      "[CV] END ..criterion=gini, max_depth=9, min_samples_leaf=500; total time=   0.0s\n",
      "[CV] END ..criterion=gini, max_depth=9, min_samples_leaf=500; total time=   0.0s\n",
      "[CV] END ..criterion=gini, max_depth=9, min_samples_leaf=500; total time=   0.0s\n",
      "[CV] END criterion=entropy, max_depth=3, min_samples_leaf=50; total time=   0.0s\n",
      "[CV] END criterion=entropy, max_depth=3, min_samples_leaf=50; total time=   0.0s\n",
      "[CV] END criterion=entropy, max_depth=3, min_samples_leaf=50; total time=   0.0s\n",
      "[CV] END criterion=entropy, max_depth=3, min_samples_leaf=50; total time=   0.0s\n",
      "[CV] END criterion=entropy, max_depth=3, min_samples_leaf=50; total time=   0.0s\n",
      "[CV] END criterion=entropy, max_depth=3, min_samples_leaf=100; total time=   0.0s\n",
      "[CV] END criterion=entropy, max_depth=3, min_samples_leaf=100; total time=   0.0s\n",
      "[CV] END criterion=entropy, max_depth=3, min_samples_leaf=100; total time=   0.0s\n",
      "[CV] END criterion=entropy, max_depth=3, min_samples_leaf=100; total time=   0.0s\n",
      "[CV] END criterion=entropy, max_depth=3, min_samples_leaf=100; total time=   0.0s\n",
      "[CV] END criterion=entropy, max_depth=3, min_samples_leaf=200; total time=   0.0s\n",
      "[CV] END criterion=entropy, max_depth=3, min_samples_leaf=200; total time=   0.0s\n",
      "[CV] END criterion=entropy, max_depth=3, min_samples_leaf=200; total time=   0.0s\n",
      "[CV] END criterion=entropy, max_depth=3, min_samples_leaf=200; total time=   0.0s\n",
      "[CV] END criterion=entropy, max_depth=3, min_samples_leaf=200; total time=   0.0s\n",
      "[CV] END criterion=entropy, max_depth=3, min_samples_leaf=500; total time=   0.0s\n",
      "[CV] END criterion=entropy, max_depth=3, min_samples_leaf=500; total time=   0.0s\n",
      "[CV] END criterion=entropy, max_depth=3, min_samples_leaf=500; total time=   0.0s\n",
      "[CV] END criterion=entropy, max_depth=3, min_samples_leaf=500; total time=   0.0s\n",
      "[CV] END criterion=entropy, max_depth=3, min_samples_leaf=500; total time=   0.0s\n",
      "[CV] END criterion=entropy, max_depth=5, min_samples_leaf=50; total time=   0.0s\n",
      "[CV] END criterion=entropy, max_depth=5, min_samples_leaf=50; total time=   0.0s\n",
      "[CV] END criterion=entropy, max_depth=5, min_samples_leaf=50; total time=   0.0s\n",
      "[CV] END criterion=entropy, max_depth=5, min_samples_leaf=50; total time=   0.0s\n",
      "[CV] END criterion=entropy, max_depth=5, min_samples_leaf=50; total time=   0.0s\n",
      "[CV] END criterion=entropy, max_depth=5, min_samples_leaf=100; total time=   0.0s\n",
      "[CV] END criterion=entropy, max_depth=5, min_samples_leaf=100; total time=   0.0s\n",
      "[CV] END criterion=entropy, max_depth=5, min_samples_leaf=100; total time=   0.0s\n",
      "[CV] END criterion=entropy, max_depth=5, min_samples_leaf=100; total time=   0.0s\n",
      "[CV] END criterion=entropy, max_depth=5, min_samples_leaf=100; total time=   0.0s\n",
      "[CV] END criterion=entropy, max_depth=5, min_samples_leaf=200; total time=   0.0s\n",
      "[CV] END criterion=entropy, max_depth=5, min_samples_leaf=200; total time=   0.0s\n",
      "[CV] END criterion=entropy, max_depth=5, min_samples_leaf=200; total time=   0.0s\n",
      "[CV] END criterion=entropy, max_depth=5, min_samples_leaf=200; total time=   0.0s\n",
      "[CV] END criterion=entropy, max_depth=5, min_samples_leaf=200; total time=   0.0s\n",
      "[CV] END criterion=entropy, max_depth=5, min_samples_leaf=500; total time=   0.0s\n",
      "[CV] END criterion=entropy, max_depth=5, min_samples_leaf=500; total time=   0.0s\n",
      "[CV] END criterion=entropy, max_depth=5, min_samples_leaf=500; total time=   0.0s\n",
      "[CV] END criterion=entropy, max_depth=5, min_samples_leaf=500; total time=   0.0s\n",
      "[CV] END criterion=entropy, max_depth=5, min_samples_leaf=500; total time=   0.0s\n",
      "[CV] END criterion=entropy, max_depth=7, min_samples_leaf=50; total time=   0.0s\n",
      "[CV] END criterion=entropy, max_depth=7, min_samples_leaf=50; total time=   0.0s\n",
      "[CV] END criterion=entropy, max_depth=7, min_samples_leaf=50; total time=   0.0s\n",
      "[CV] END criterion=entropy, max_depth=7, min_samples_leaf=50; total time=   0.0s\n",
      "[CV] END criterion=entropy, max_depth=7, min_samples_leaf=50; total time=   0.0s\n",
      "[CV] END criterion=entropy, max_depth=7, min_samples_leaf=100; total time=   0.0s\n",
      "[CV] END criterion=entropy, max_depth=7, min_samples_leaf=100; total time=   0.0s\n",
      "[CV] END criterion=entropy, max_depth=7, min_samples_leaf=100; total time=   0.0s\n",
      "[CV] END criterion=entropy, max_depth=7, min_samples_leaf=100; total time=   0.0s\n",
      "[CV] END criterion=entropy, max_depth=7, min_samples_leaf=100; total time=   0.0s\n",
      "[CV] END criterion=entropy, max_depth=7, min_samples_leaf=200; total time=   0.0s\n",
      "[CV] END criterion=entropy, max_depth=7, min_samples_leaf=200; total time=   0.0s\n",
      "[CV] END criterion=entropy, max_depth=7, min_samples_leaf=200; total time=   0.0s\n",
      "[CV] END criterion=entropy, max_depth=7, min_samples_leaf=200; total time=   0.0s\n",
      "[CV] END criterion=entropy, max_depth=7, min_samples_leaf=200; total time=   0.0s\n",
      "[CV] END criterion=entropy, max_depth=7, min_samples_leaf=500; total time=   0.0s\n",
      "[CV] END criterion=entropy, max_depth=7, min_samples_leaf=500; total time=   0.0s\n",
      "[CV] END criterion=entropy, max_depth=7, min_samples_leaf=500; total time=   0.0s\n",
      "[CV] END criterion=entropy, max_depth=7, min_samples_leaf=500; total time=   0.0s\n",
      "[CV] END criterion=entropy, max_depth=7, min_samples_leaf=500; total time=   0.0s\n",
      "[CV] END criterion=entropy, max_depth=9, min_samples_leaf=50; total time=   0.0s\n",
      "[CV] END criterion=entropy, max_depth=9, min_samples_leaf=50; total time=   0.0s\n",
      "[CV] END criterion=entropy, max_depth=9, min_samples_leaf=50; total time=   0.0s\n",
      "[CV] END criterion=entropy, max_depth=9, min_samples_leaf=50; total time=   0.0s\n",
      "[CV] END criterion=entropy, max_depth=9, min_samples_leaf=50; total time=   0.0s\n",
      "[CV] END criterion=entropy, max_depth=9, min_samples_leaf=100; total time=   0.0s\n",
      "[CV] END criterion=entropy, max_depth=9, min_samples_leaf=100; total time=   0.0s\n",
      "[CV] END criterion=entropy, max_depth=9, min_samples_leaf=100; total time=   0.0s\n",
      "[CV] END criterion=entropy, max_depth=9, min_samples_leaf=100; total time=   0.0s\n",
      "[CV] END criterion=entropy, max_depth=9, min_samples_leaf=100; total time=   0.0s\n",
      "[CV] END criterion=entropy, max_depth=9, min_samples_leaf=200; total time=   0.0s\n",
      "[CV] END criterion=entropy, max_depth=9, min_samples_leaf=200; total time=   0.0s\n",
      "[CV] END criterion=entropy, max_depth=9, min_samples_leaf=200; total time=   0.0s\n",
      "[CV] END criterion=entropy, max_depth=9, min_samples_leaf=200; total time=   0.0s\n",
      "[CV] END criterion=entropy, max_depth=9, min_samples_leaf=200; total time=   0.0s\n",
      "[CV] END criterion=entropy, max_depth=9, min_samples_leaf=500; total time=   0.0s\n",
      "[CV] END criterion=entropy, max_depth=9, min_samples_leaf=500; total time=   0.0s\n",
      "[CV] END criterion=entropy, max_depth=9, min_samples_leaf=500; total time=   0.0s\n",
      "[CV] END criterion=entropy, max_depth=9, min_samples_leaf=500; total time=   0.0s\n",
      "[CV] END criterion=entropy, max_depth=9, min_samples_leaf=500; total time=   0.0s\n"
     ]
    },
    {
     "data": {
      "text/html": [
       "<style>#sk-container-id-4 {color: black;}#sk-container-id-4 pre{padding: 0;}#sk-container-id-4 div.sk-toggleable {background-color: white;}#sk-container-id-4 label.sk-toggleable__label {cursor: pointer;display: block;width: 100%;margin-bottom: 0;padding: 0.3em;box-sizing: border-box;text-align: center;}#sk-container-id-4 label.sk-toggleable__label-arrow:before {content: \"▸\";float: left;margin-right: 0.25em;color: #696969;}#sk-container-id-4 label.sk-toggleable__label-arrow:hover:before {color: black;}#sk-container-id-4 div.sk-estimator:hover label.sk-toggleable__label-arrow:before {color: black;}#sk-container-id-4 div.sk-toggleable__content {max-height: 0;max-width: 0;overflow: hidden;text-align: left;background-color: #f0f8ff;}#sk-container-id-4 div.sk-toggleable__content pre {margin: 0.2em;color: black;border-radius: 0.25em;background-color: #f0f8ff;}#sk-container-id-4 input.sk-toggleable__control:checked~div.sk-toggleable__content {max-height: 200px;max-width: 100%;overflow: auto;}#sk-container-id-4 input.sk-toggleable__control:checked~label.sk-toggleable__label-arrow:before {content: \"▾\";}#sk-container-id-4 div.sk-estimator input.sk-toggleable__control:checked~label.sk-toggleable__label {background-color: #d4ebff;}#sk-container-id-4 div.sk-label input.sk-toggleable__control:checked~label.sk-toggleable__label {background-color: #d4ebff;}#sk-container-id-4 input.sk-hidden--visually {border: 0;clip: rect(1px 1px 1px 1px);clip: rect(1px, 1px, 1px, 1px);height: 1px;margin: -1px;overflow: hidden;padding: 0;position: absolute;width: 1px;}#sk-container-id-4 div.sk-estimator {font-family: monospace;background-color: #f0f8ff;border: 1px dotted black;border-radius: 0.25em;box-sizing: border-box;margin-bottom: 0.5em;}#sk-container-id-4 div.sk-estimator:hover {background-color: #d4ebff;}#sk-container-id-4 div.sk-parallel-item::after {content: \"\";width: 100%;border-bottom: 1px solid gray;flex-grow: 1;}#sk-container-id-4 div.sk-label:hover label.sk-toggleable__label {background-color: #d4ebff;}#sk-container-id-4 div.sk-serial::before {content: \"\";position: absolute;border-left: 1px solid gray;box-sizing: border-box;top: 0;bottom: 0;left: 50%;z-index: 0;}#sk-container-id-4 div.sk-serial {display: flex;flex-direction: column;align-items: center;background-color: white;padding-right: 0.2em;padding-left: 0.2em;position: relative;}#sk-container-id-4 div.sk-item {position: relative;z-index: 1;}#sk-container-id-4 div.sk-parallel {display: flex;align-items: stretch;justify-content: center;background-color: white;position: relative;}#sk-container-id-4 div.sk-item::before, #sk-container-id-4 div.sk-parallel-item::before {content: \"\";position: absolute;border-left: 1px solid gray;box-sizing: border-box;top: 0;bottom: 0;left: 50%;z-index: -1;}#sk-container-id-4 div.sk-parallel-item {display: flex;flex-direction: column;z-index: 1;position: relative;background-color: white;}#sk-container-id-4 div.sk-parallel-item:first-child::after {align-self: flex-end;width: 50%;}#sk-container-id-4 div.sk-parallel-item:last-child::after {align-self: flex-start;width: 50%;}#sk-container-id-4 div.sk-parallel-item:only-child::after {width: 0;}#sk-container-id-4 div.sk-dashed-wrapped {border: 1px dashed gray;margin: 0 0.4em 0.5em 0.4em;box-sizing: border-box;padding-bottom: 0.4em;background-color: white;}#sk-container-id-4 div.sk-label label {font-family: monospace;font-weight: bold;display: inline-block;line-height: 1.2em;}#sk-container-id-4 div.sk-label-container {text-align: center;}#sk-container-id-4 div.sk-container {/* jupyter's `normalize.less` sets `[hidden] { display: none; }` but bootstrap.min.css set `[hidden] { display: none !important; }` so we also need the `!important` here to be able to override the default hidden behavior on the sphinx rendered scikit-learn.org. See: https://github.com/scikit-learn/scikit-learn/issues/21755 */display: inline-block !important;position: relative;}#sk-container-id-4 div.sk-text-repr-fallback {display: none;}</style><div id=\"sk-container-id-4\" class=\"sk-top-container\"><div class=\"sk-text-repr-fallback\"><pre>GridSearchCV(estimator=DecisionTreeClassifier(),\n",
       "             param_grid={&#x27;criterion&#x27;: [&#x27;gini&#x27;, &#x27;entropy&#x27;],\n",
       "                         &#x27;max_depth&#x27;: [3, 5, 7, 9],\n",
       "                         &#x27;min_samples_leaf&#x27;: [50, 100, 200, 500]},\n",
       "             verbose=2)</pre><b>In a Jupyter environment, please rerun this cell to show the HTML representation or trust the notebook. <br />On GitHub, the HTML representation is unable to render, please try loading this page with nbviewer.org.</b></div><div class=\"sk-container\" hidden><div class=\"sk-item sk-dashed-wrapped\"><div class=\"sk-label-container\"><div class=\"sk-label sk-toggleable\"><input class=\"sk-toggleable__control sk-hidden--visually\" id=\"sk-estimator-id-4\" type=\"checkbox\" ><label for=\"sk-estimator-id-4\" class=\"sk-toggleable__label sk-toggleable__label-arrow\">GridSearchCV</label><div class=\"sk-toggleable__content\"><pre>GridSearchCV(estimator=DecisionTreeClassifier(),\n",
       "             param_grid={&#x27;criterion&#x27;: [&#x27;gini&#x27;, &#x27;entropy&#x27;],\n",
       "                         &#x27;max_depth&#x27;: [3, 5, 7, 9],\n",
       "                         &#x27;min_samples_leaf&#x27;: [50, 100, 200, 500]},\n",
       "             verbose=2)</pre></div></div></div><div class=\"sk-parallel\"><div class=\"sk-parallel-item\"><div class=\"sk-item\"><div class=\"sk-label-container\"><div class=\"sk-label sk-toggleable\"><input class=\"sk-toggleable__control sk-hidden--visually\" id=\"sk-estimator-id-5\" type=\"checkbox\" ><label for=\"sk-estimator-id-5\" class=\"sk-toggleable__label sk-toggleable__label-arrow\">estimator: DecisionTreeClassifier</label><div class=\"sk-toggleable__content\"><pre>DecisionTreeClassifier()</pre></div></div></div><div class=\"sk-serial\"><div class=\"sk-item\"><div class=\"sk-estimator sk-toggleable\"><input class=\"sk-toggleable__control sk-hidden--visually\" id=\"sk-estimator-id-6\" type=\"checkbox\" ><label for=\"sk-estimator-id-6\" class=\"sk-toggleable__label sk-toggleable__label-arrow\">DecisionTreeClassifier</label><div class=\"sk-toggleable__content\"><pre>DecisionTreeClassifier()</pre></div></div></div></div></div></div></div></div></div></div>"
      ],
      "text/plain": [
       "GridSearchCV(estimator=DecisionTreeClassifier(),\n",
       "             param_grid={'criterion': ['gini', 'entropy'],\n",
       "                         'max_depth': [3, 5, 7, 9],\n",
       "                         'min_samples_leaf': [50, 100, 200, 500]},\n",
       "             verbose=2)"
      ]
     },
     "execution_count": 18,
     "metadata": {},
     "output_type": "execute_result"
    }
   ],
   "source": [
    "model_grid = GridSearchCV(model, param_grid, verbose=2)\n",
    "model_grid.fit(X_train, y_train)"
   ]
  },
  {
   "cell_type": "code",
   "execution_count": 19,
   "id": "2ced4b3c",
   "metadata": {
    "execution": {
     "iopub.execute_input": "2024-05-10T12:01:07.053431Z",
     "iopub.status.busy": "2024-05-10T12:01:07.053287Z",
     "iopub.status.idle": "2024-05-10T12:01:07.055533Z",
     "shell.execute_reply": "2024-05-10T12:01:07.055318Z"
    },
    "papermill": {
     "duration": 0.007232,
     "end_time": "2024-05-10T12:01:07.056254",
     "exception": false,
     "start_time": "2024-05-10T12:01:07.049022",
     "status": "completed"
    },
    "tags": []
   },
   "outputs": [
    {
     "data": {
      "text/plain": [
       "{'max_depth': [3, 5, 7, 9],\n",
       " 'min_samples_leaf': [50, 100, 200, 500],\n",
       " 'criterion': ['gini', 'entropy']}"
      ]
     },
     "execution_count": 19,
     "metadata": {},
     "output_type": "execute_result"
    }
   ],
   "source": [
    "param_grid"
   ]
  },
  {
   "cell_type": "code",
   "execution_count": 20,
   "id": "fde33cf2",
   "metadata": {
    "execution": {
     "iopub.execute_input": "2024-05-10T12:01:07.064126Z",
     "iopub.status.busy": "2024-05-10T12:01:07.063981Z",
     "iopub.status.idle": "2024-05-10T12:01:07.066072Z",
     "shell.execute_reply": "2024-05-10T12:01:07.065857Z"
    },
    "papermill": {
     "duration": 0.007081,
     "end_time": "2024-05-10T12:01:07.066880",
     "exception": false,
     "start_time": "2024-05-10T12:01:07.059799",
     "status": "completed"
    },
    "tags": []
   },
   "outputs": [
    {
     "data": {
      "text/plain": [
       "32"
      ]
     },
     "execution_count": 20,
     "metadata": {},
     "output_type": "execute_result"
    }
   ],
   "source": [
    "4 * 4 * 2"
   ]
  },
  {
   "cell_type": "code",
   "execution_count": 21,
   "id": "af3a7618",
   "metadata": {
    "execution": {
     "iopub.execute_input": "2024-05-10T12:01:07.074871Z",
     "iopub.status.busy": "2024-05-10T12:01:07.074762Z",
     "iopub.status.idle": "2024-05-10T12:01:07.077217Z",
     "shell.execute_reply": "2024-05-10T12:01:07.076997Z"
    },
    "papermill": {
     "duration": 0.007176,
     "end_time": "2024-05-10T12:01:07.077922",
     "exception": false,
     "start_time": "2024-05-10T12:01:07.070746",
     "status": "completed"
    },
    "tags": []
   },
   "outputs": [
    {
     "data": {
      "text/html": [
       "<style>#sk-container-id-5 {color: black;}#sk-container-id-5 pre{padding: 0;}#sk-container-id-5 div.sk-toggleable {background-color: white;}#sk-container-id-5 label.sk-toggleable__label {cursor: pointer;display: block;width: 100%;margin-bottom: 0;padding: 0.3em;box-sizing: border-box;text-align: center;}#sk-container-id-5 label.sk-toggleable__label-arrow:before {content: \"▸\";float: left;margin-right: 0.25em;color: #696969;}#sk-container-id-5 label.sk-toggleable__label-arrow:hover:before {color: black;}#sk-container-id-5 div.sk-estimator:hover label.sk-toggleable__label-arrow:before {color: black;}#sk-container-id-5 div.sk-toggleable__content {max-height: 0;max-width: 0;overflow: hidden;text-align: left;background-color: #f0f8ff;}#sk-container-id-5 div.sk-toggleable__content pre {margin: 0.2em;color: black;border-radius: 0.25em;background-color: #f0f8ff;}#sk-container-id-5 input.sk-toggleable__control:checked~div.sk-toggleable__content {max-height: 200px;max-width: 100%;overflow: auto;}#sk-container-id-5 input.sk-toggleable__control:checked~label.sk-toggleable__label-arrow:before {content: \"▾\";}#sk-container-id-5 div.sk-estimator input.sk-toggleable__control:checked~label.sk-toggleable__label {background-color: #d4ebff;}#sk-container-id-5 div.sk-label input.sk-toggleable__control:checked~label.sk-toggleable__label {background-color: #d4ebff;}#sk-container-id-5 input.sk-hidden--visually {border: 0;clip: rect(1px 1px 1px 1px);clip: rect(1px, 1px, 1px, 1px);height: 1px;margin: -1px;overflow: hidden;padding: 0;position: absolute;width: 1px;}#sk-container-id-5 div.sk-estimator {font-family: monospace;background-color: #f0f8ff;border: 1px dotted black;border-radius: 0.25em;box-sizing: border-box;margin-bottom: 0.5em;}#sk-container-id-5 div.sk-estimator:hover {background-color: #d4ebff;}#sk-container-id-5 div.sk-parallel-item::after {content: \"\";width: 100%;border-bottom: 1px solid gray;flex-grow: 1;}#sk-container-id-5 div.sk-label:hover label.sk-toggleable__label {background-color: #d4ebff;}#sk-container-id-5 div.sk-serial::before {content: \"\";position: absolute;border-left: 1px solid gray;box-sizing: border-box;top: 0;bottom: 0;left: 50%;z-index: 0;}#sk-container-id-5 div.sk-serial {display: flex;flex-direction: column;align-items: center;background-color: white;padding-right: 0.2em;padding-left: 0.2em;position: relative;}#sk-container-id-5 div.sk-item {position: relative;z-index: 1;}#sk-container-id-5 div.sk-parallel {display: flex;align-items: stretch;justify-content: center;background-color: white;position: relative;}#sk-container-id-5 div.sk-item::before, #sk-container-id-5 div.sk-parallel-item::before {content: \"\";position: absolute;border-left: 1px solid gray;box-sizing: border-box;top: 0;bottom: 0;left: 50%;z-index: -1;}#sk-container-id-5 div.sk-parallel-item {display: flex;flex-direction: column;z-index: 1;position: relative;background-color: white;}#sk-container-id-5 div.sk-parallel-item:first-child::after {align-self: flex-end;width: 50%;}#sk-container-id-5 div.sk-parallel-item:last-child::after {align-self: flex-start;width: 50%;}#sk-container-id-5 div.sk-parallel-item:only-child::after {width: 0;}#sk-container-id-5 div.sk-dashed-wrapped {border: 1px dashed gray;margin: 0 0.4em 0.5em 0.4em;box-sizing: border-box;padding-bottom: 0.4em;background-color: white;}#sk-container-id-5 div.sk-label label {font-family: monospace;font-weight: bold;display: inline-block;line-height: 1.2em;}#sk-container-id-5 div.sk-label-container {text-align: center;}#sk-container-id-5 div.sk-container {/* jupyter's `normalize.less` sets `[hidden] { display: none; }` but bootstrap.min.css set `[hidden] { display: none !important; }` so we also need the `!important` here to be able to override the default hidden behavior on the sphinx rendered scikit-learn.org. See: https://github.com/scikit-learn/scikit-learn/issues/21755 */display: inline-block !important;position: relative;}#sk-container-id-5 div.sk-text-repr-fallback {display: none;}</style><div id=\"sk-container-id-5\" class=\"sk-top-container\"><div class=\"sk-text-repr-fallback\"><pre>DecisionTreeClassifier(max_depth=3, min_samples_leaf=100)</pre><b>In a Jupyter environment, please rerun this cell to show the HTML representation or trust the notebook. <br />On GitHub, the HTML representation is unable to render, please try loading this page with nbviewer.org.</b></div><div class=\"sk-container\" hidden><div class=\"sk-item\"><div class=\"sk-estimator sk-toggleable\"><input class=\"sk-toggleable__control sk-hidden--visually\" id=\"sk-estimator-id-7\" type=\"checkbox\" checked><label for=\"sk-estimator-id-7\" class=\"sk-toggleable__label sk-toggleable__label-arrow\">DecisionTreeClassifier</label><div class=\"sk-toggleable__content\"><pre>DecisionTreeClassifier(max_depth=3, min_samples_leaf=100)</pre></div></div></div></div></div>"
      ],
      "text/plain": [
       "DecisionTreeClassifier(max_depth=3, min_samples_leaf=100)"
      ]
     },
     "execution_count": 21,
     "metadata": {},
     "output_type": "execute_result"
    }
   ],
   "source": [
    "model_grid.best_estimator_"
   ]
  },
  {
   "cell_type": "code",
   "execution_count": 22,
   "id": "ebf7c29c",
   "metadata": {
    "execution": {
     "iopub.execute_input": "2024-05-10T12:01:07.086162Z",
     "iopub.status.busy": "2024-05-10T12:01:07.086047Z",
     "iopub.status.idle": "2024-05-10T12:01:07.088074Z",
     "shell.execute_reply": "2024-05-10T12:01:07.087855Z"
    },
    "papermill": {
     "duration": 0.006942,
     "end_time": "2024-05-10T12:01:07.088820",
     "exception": false,
     "start_time": "2024-05-10T12:01:07.081878",
     "status": "completed"
    },
    "tags": []
   },
   "outputs": [
    {
     "data": {
      "text/plain": [
       "0.7308419243986255"
      ]
     },
     "execution_count": 22,
     "metadata": {},
     "output_type": "execute_result"
    }
   ],
   "source": [
    "model_grid.best_score_"
   ]
  },
  {
   "cell_type": "code",
   "execution_count": 23,
   "id": "9b06fc2c",
   "metadata": {
    "execution": {
     "iopub.execute_input": "2024-05-10T12:01:07.099273Z",
     "iopub.status.busy": "2024-05-10T12:01:07.099115Z",
     "iopub.status.idle": "2024-05-10T12:01:07.103089Z",
     "shell.execute_reply": "2024-05-10T12:01:07.102394Z"
    },
    "papermill": {
     "duration": 0.010428,
     "end_time": "2024-05-10T12:01:07.104258",
     "exception": false,
     "start_time": "2024-05-10T12:01:07.093830",
     "status": "completed"
    },
    "tags": []
   },
   "outputs": [
    {
     "data": {
      "text/plain": [
       "0.6811594202898551"
      ]
     },
     "execution_count": 23,
     "metadata": {},
     "output_type": "execute_result"
    }
   ],
   "source": [
    "model_grid.score(X_test, y_test)"
   ]
  },
  {
   "attachments": {},
   "cell_type": "markdown",
   "id": "a6ce7ec9",
   "metadata": {
    "papermill": {
     "duration": 0.004532,
     "end_time": "2024-05-10T12:01:07.112710",
     "exception": false,
     "start_time": "2024-05-10T12:01:07.108178",
     "status": "completed"
    },
    "tags": []
   },
   "source": [
    "## Grid search with other models"
   ]
  },
  {
   "cell_type": "code",
   "execution_count": 24,
   "id": "8f556bac",
   "metadata": {
    "execution": {
     "iopub.execute_input": "2024-05-10T12:01:07.121461Z",
     "iopub.status.busy": "2024-05-10T12:01:07.121345Z",
     "iopub.status.idle": "2024-05-10T12:01:07.150223Z",
     "shell.execute_reply": "2024-05-10T12:01:07.149997Z"
    },
    "papermill": {
     "duration": 0.034063,
     "end_time": "2024-05-10T12:01:07.150930",
     "exception": false,
     "start_time": "2024-05-10T12:01:07.116867",
     "status": "completed"
    },
    "tags": []
   },
   "outputs": [
    {
     "data": {
      "text/plain": [
       "{'ccp_alpha': 0.0,\n",
       " 'criterion': 'friedman_mse',\n",
       " 'init': None,\n",
       " 'learning_rate': 0.1,\n",
       " 'loss': 'log_loss',\n",
       " 'max_depth': 3,\n",
       " 'max_features': None,\n",
       " 'max_leaf_nodes': None,\n",
       " 'min_impurity_decrease': 0.0,\n",
       " 'min_samples_leaf': 1,\n",
       " 'min_samples_split': 2,\n",
       " 'min_weight_fraction_leaf': 0.0,\n",
       " 'n_estimators': 100,\n",
       " 'n_iter_no_change': None,\n",
       " 'random_state': None,\n",
       " 'subsample': 1.0,\n",
       " 'tol': 0.0001,\n",
       " 'validation_fraction': 0.1,\n",
       " 'verbose': 0,\n",
       " 'warm_start': False}"
      ]
     },
     "execution_count": 24,
     "metadata": {},
     "output_type": "execute_result"
    }
   ],
   "source": [
    "from sklearn.ensemble import GradientBoostingClassifier\n",
    "\n",
    "model = GradientBoostingClassifier()\n",
    "model.get_params()"
   ]
  },
  {
   "cell_type": "code",
   "execution_count": 25,
   "id": "e5e6be4d",
   "metadata": {
    "execution": {
     "iopub.execute_input": "2024-05-10T12:01:07.159460Z",
     "iopub.status.busy": "2024-05-10T12:01:07.159289Z",
     "iopub.status.idle": "2024-05-10T12:01:07.160976Z",
     "shell.execute_reply": "2024-05-10T12:01:07.160759Z"
    },
    "papermill": {
     "duration": 0.006908,
     "end_time": "2024-05-10T12:01:07.161779",
     "exception": false,
     "start_time": "2024-05-10T12:01:07.154871",
     "status": "completed"
    },
    "tags": []
   },
   "outputs": [],
   "source": [
    "param_grid = {\n",
    "    'n_estimators': [50, 100, 200],\n",
    "    'max_depth': [3, 5, 7],\n",
    "    'learning_rate': [0.01, 0.1, 1]\n",
    "}"
   ]
  },
  {
   "cell_type": "code",
   "execution_count": 26,
   "id": "f8bebbde",
   "metadata": {
    "execution": {
     "iopub.execute_input": "2024-05-10T12:01:07.170521Z",
     "iopub.status.busy": "2024-05-10T12:01:07.170433Z",
     "iopub.status.idle": "2024-05-10T12:01:17.871631Z",
     "shell.execute_reply": "2024-05-10T12:01:17.871371Z"
    },
    "papermill": {
     "duration": 10.706312,
     "end_time": "2024-05-10T12:01:17.872376",
     "exception": false,
     "start_time": "2024-05-10T12:01:07.166064",
     "status": "completed"
    },
    "tags": []
   },
   "outputs": [
    {
     "name": "stdout",
     "output_type": "stream",
     "text": [
      "Fitting 5 folds for each of 27 candidates, totalling 135 fits\n",
      "[CV] END ...learning_rate=0.01, max_depth=3, n_estimators=50; total time=   0.1s\n",
      "[CV] END ...learning_rate=0.01, max_depth=3, n_estimators=50; total time=   0.1s\n",
      "[CV] END ...learning_rate=0.01, max_depth=3, n_estimators=50; total time=   0.1s\n",
      "[CV] END ...learning_rate=0.01, max_depth=3, n_estimators=50; total time=   0.1s\n",
      "[CV] END ...learning_rate=0.01, max_depth=3, n_estimators=50; total time=   0.1s\n",
      "[CV] END ..learning_rate=0.01, max_depth=3, n_estimators=100; total time=   0.1s\n",
      "[CV] END ..learning_rate=0.01, max_depth=3, n_estimators=100; total time=   0.3s\n",
      "[CV] END ..learning_rate=0.01, max_depth=3, n_estimators=100; total time=   0.1s\n",
      "[CV] END ..learning_rate=0.01, max_depth=3, n_estimators=100; total time=   0.1s\n",
      "[CV] END ..learning_rate=0.01, max_depth=3, n_estimators=100; total time=   0.1s\n",
      "[CV] END ..learning_rate=0.01, max_depth=3, n_estimators=200; total time=   0.3s\n",
      "[CV] END ..learning_rate=0.01, max_depth=3, n_estimators=200; total time=   0.2s\n",
      "[CV] END ..learning_rate=0.01, max_depth=3, n_estimators=200; total time=   0.2s\n",
      "[CV] END ..learning_rate=0.01, max_depth=3, n_estimators=200; total time=   0.2s\n",
      "[CV] END ..learning_rate=0.01, max_depth=3, n_estimators=200; total time=   0.2s\n",
      "[CV] END ...learning_rate=0.01, max_depth=5, n_estimators=50; total time=   0.1s\n",
      "[CV] END ...learning_rate=0.01, max_depth=5, n_estimators=50; total time=   0.1s\n",
      "[CV] END ...learning_rate=0.01, max_depth=5, n_estimators=50; total time=   0.1s\n",
      "[CV] END ...learning_rate=0.01, max_depth=5, n_estimators=50; total time=   0.1s\n",
      "[CV] END ...learning_rate=0.01, max_depth=5, n_estimators=50; total time=   0.1s\n",
      "[CV] END ..learning_rate=0.01, max_depth=5, n_estimators=100; total time=   0.2s\n",
      "[CV] END ..learning_rate=0.01, max_depth=5, n_estimators=100; total time=   0.2s\n",
      "[CV] END ..learning_rate=0.01, max_depth=5, n_estimators=100; total time=   0.2s\n",
      "[CV] END ..learning_rate=0.01, max_depth=5, n_estimators=100; total time=   0.2s\n",
      "[CV] END ..learning_rate=0.01, max_depth=5, n_estimators=100; total time=   0.2s\n",
      "[CV] END ..learning_rate=0.01, max_depth=5, n_estimators=200; total time=   0.4s\n",
      "[CV] END ..learning_rate=0.01, max_depth=5, n_estimators=200; total time=   0.4s\n",
      "[CV] END ..learning_rate=0.01, max_depth=5, n_estimators=200; total time=   0.4s\n",
      "[CV] END ..learning_rate=0.01, max_depth=5, n_estimators=200; total time=   0.4s\n",
      "[CV] END ..learning_rate=0.01, max_depth=5, n_estimators=200; total time=   0.4s\n",
      "[CV] END ...learning_rate=0.01, max_depth=7, n_estimators=50; total time=   0.1s\n",
      "[CV] END ...learning_rate=0.01, max_depth=7, n_estimators=50; total time=   0.1s\n",
      "[CV] END ...learning_rate=0.01, max_depth=7, n_estimators=50; total time=   0.1s\n",
      "[CV] END ...learning_rate=0.01, max_depth=7, n_estimators=50; total time=   0.1s\n",
      "[CV] END ...learning_rate=0.01, max_depth=7, n_estimators=50; total time=   0.1s\n",
      "[CV] END ..learning_rate=0.01, max_depth=7, n_estimators=100; total time=   0.2s\n",
      "[CV] END ..learning_rate=0.01, max_depth=7, n_estimators=100; total time=   0.2s\n",
      "[CV] END ..learning_rate=0.01, max_depth=7, n_estimators=100; total time=   0.3s\n",
      "[CV] END ..learning_rate=0.01, max_depth=7, n_estimators=100; total time=   0.4s\n",
      "[CV] END ..learning_rate=0.01, max_depth=7, n_estimators=100; total time=   0.3s\n",
      "[CV] END ..learning_rate=0.01, max_depth=7, n_estimators=200; total time=   0.5s\n",
      "[CV] END ..learning_rate=0.01, max_depth=7, n_estimators=200; total time=   0.5s\n",
      "[CV] END ..learning_rate=0.01, max_depth=7, n_estimators=200; total time=   0.7s\n",
      "[CV] END ..learning_rate=0.01, max_depth=7, n_estimators=200; total time=   0.7s\n",
      "[CV] END ..learning_rate=0.01, max_depth=7, n_estimators=200; total time=   0.6s\n",
      "[CV] END ....learning_rate=0.1, max_depth=3, n_estimators=50; total time=   0.0s\n",
      "[CV] END ....learning_rate=0.1, max_depth=3, n_estimators=50; total time=   0.0s\n",
      "[CV] END ....learning_rate=0.1, max_depth=3, n_estimators=50; total time=   0.0s\n",
      "[CV] END ....learning_rate=0.1, max_depth=3, n_estimators=50; total time=   0.0s\n",
      "[CV] END ....learning_rate=0.1, max_depth=3, n_estimators=50; total time=   0.0s\n",
      "[CV] END ...learning_rate=0.1, max_depth=3, n_estimators=100; total time=   0.1s\n",
      "[CV] END ...learning_rate=0.1, max_depth=3, n_estimators=100; total time=   0.1s\n",
      "[CV] END ...learning_rate=0.1, max_depth=3, n_estimators=100; total time=   0.1s\n",
      "[CV] END ...learning_rate=0.1, max_depth=3, n_estimators=100; total time=   0.1s\n",
      "[CV] END ...learning_rate=0.1, max_depth=3, n_estimators=100; total time=   0.1s\n",
      "[CV] END ...learning_rate=0.1, max_depth=3, n_estimators=200; total time=   0.2s\n",
      "[CV] END ...learning_rate=0.1, max_depth=3, n_estimators=200; total time=   0.2s\n",
      "[CV] END ...learning_rate=0.1, max_depth=3, n_estimators=200; total time=   0.2s\n",
      "[CV] END ...learning_rate=0.1, max_depth=3, n_estimators=200; total time=   0.2s\n",
      "[CV] END ...learning_rate=0.1, max_depth=3, n_estimators=200; total time=   0.2s\n",
      "[CV] END ....learning_rate=0.1, max_depth=5, n_estimators=50; total time=   0.1s\n",
      "[CV] END ....learning_rate=0.1, max_depth=5, n_estimators=50; total time=   0.1s\n",
      "[CV] END ....learning_rate=0.1, max_depth=5, n_estimators=50; total time=   0.1s\n",
      "[CV] END ....learning_rate=0.1, max_depth=5, n_estimators=50; total time=   0.1s\n",
      "[CV] END ....learning_rate=0.1, max_depth=5, n_estimators=50; total time=   0.1s\n",
      "[CV] END ...learning_rate=0.1, max_depth=5, n_estimators=100; total time=   0.1s\n",
      "[CV] END ...learning_rate=0.1, max_depth=5, n_estimators=100; total time=   0.1s\n",
      "[CV] END ...learning_rate=0.1, max_depth=5, n_estimators=100; total time=   0.2s\n",
      "[CV] END ...learning_rate=0.1, max_depth=5, n_estimators=100; total time=   0.2s\n",
      "[CV] END ...learning_rate=0.1, max_depth=5, n_estimators=100; total time=   0.1s\n",
      "[CV] END ...learning_rate=0.1, max_depth=5, n_estimators=200; total time=   0.3s\n",
      "[CV] END ...learning_rate=0.1, max_depth=5, n_estimators=200; total time=   0.3s\n",
      "[CV] END ...learning_rate=0.1, max_depth=5, n_estimators=200; total time=   0.3s\n",
      "[CV] END ...learning_rate=0.1, max_depth=5, n_estimators=200; total time=   0.3s\n",
      "[CV] END ...learning_rate=0.1, max_depth=5, n_estimators=200; total time=   0.3s\n",
      "[CV] END ....learning_rate=0.1, max_depth=7, n_estimators=50; total time=   0.1s\n",
      "[CV] END ....learning_rate=0.1, max_depth=7, n_estimators=50; total time=   0.1s\n",
      "[CV] END ....learning_rate=0.1, max_depth=7, n_estimators=50; total time=   0.2s\n",
      "[CV] END ....learning_rate=0.1, max_depth=7, n_estimators=50; total time=   0.1s\n",
      "[CV] END ....learning_rate=0.1, max_depth=7, n_estimators=50; total time=   0.1s\n",
      "[CV] END ...learning_rate=0.1, max_depth=7, n_estimators=100; total time=   0.3s\n",
      "[CV] END ...learning_rate=0.1, max_depth=7, n_estimators=100; total time=   0.3s\n",
      "[CV] END ...learning_rate=0.1, max_depth=7, n_estimators=100; total time=   0.4s\n",
      "[CV] END ...learning_rate=0.1, max_depth=7, n_estimators=100; total time=   0.3s\n",
      "[CV] END ...learning_rate=0.1, max_depth=7, n_estimators=100; total time=   0.3s\n",
      "[CV] END ...learning_rate=0.1, max_depth=7, n_estimators=200; total time=   0.6s\n",
      "[CV] END ...learning_rate=0.1, max_depth=7, n_estimators=200; total time=   0.5s\n",
      "[CV] END ...learning_rate=0.1, max_depth=7, n_estimators=200; total time=   0.5s\n",
      "[CV] END ...learning_rate=0.1, max_depth=7, n_estimators=200; total time=   0.5s\n",
      "[CV] END ...learning_rate=0.1, max_depth=7, n_estimators=200; total time=   0.5s\n",
      "[CV] END ......learning_rate=1, max_depth=3, n_estimators=50; total time=   0.1s\n",
      "[CV] END ......learning_rate=1, max_depth=3, n_estimators=50; total time=   0.1s\n",
      "[CV] END ......learning_rate=1, max_depth=3, n_estimators=50; total time=   0.0s\n",
      "[CV] END ......learning_rate=1, max_depth=3, n_estimators=50; total time=   0.0s\n",
      "[CV] END ......learning_rate=1, max_depth=3, n_estimators=50; total time=   0.1s\n",
      "[CV] END .....learning_rate=1, max_depth=3, n_estimators=100; total time=   0.1s\n",
      "[CV] END .....learning_rate=1, max_depth=3, n_estimators=100; total time=   0.1s\n",
      "[CV] END .....learning_rate=1, max_depth=3, n_estimators=100; total time=   0.1s\n",
      "[CV] END .....learning_rate=1, max_depth=3, n_estimators=100; total time=   0.1s\n",
      "[CV] END .....learning_rate=1, max_depth=3, n_estimators=100; total time=   0.1s\n",
      "[CV] END .....learning_rate=1, max_depth=3, n_estimators=200; total time=   0.4s\n",
      "[CV] END .....learning_rate=1, max_depth=3, n_estimators=200; total time=   0.5s\n",
      "[CV] END .....learning_rate=1, max_depth=3, n_estimators=200; total time=   0.2s\n",
      "[CV] END .....learning_rate=1, max_depth=3, n_estimators=200; total time=   0.2s\n",
      "[CV] END .....learning_rate=1, max_depth=3, n_estimators=200; total time=   0.2s\n",
      "[CV] END ......learning_rate=1, max_depth=5, n_estimators=50; total time=   0.1s\n",
      "[CV] END ......learning_rate=1, max_depth=5, n_estimators=50; total time=   0.1s\n",
      "[CV] END ......learning_rate=1, max_depth=5, n_estimators=50; total time=   0.1s\n",
      "[CV] END ......learning_rate=1, max_depth=5, n_estimators=50; total time=   0.1s\n",
      "[CV] END ......learning_rate=1, max_depth=5, n_estimators=50; total time=   0.1s\n",
      "[CV] END .....learning_rate=1, max_depth=5, n_estimators=100; total time=   0.2s\n",
      "[CV] END .....learning_rate=1, max_depth=5, n_estimators=100; total time=   0.2s\n",
      "[CV] END .....learning_rate=1, max_depth=5, n_estimators=100; total time=   0.1s\n",
      "[CV] END .....learning_rate=1, max_depth=5, n_estimators=100; total time=   0.2s\n",
      "[CV] END .....learning_rate=1, max_depth=5, n_estimators=100; total time=   0.2s\n",
      "[CV] END .....learning_rate=1, max_depth=5, n_estimators=200; total time=   0.2s\n",
      "[CV] END .....learning_rate=1, max_depth=5, n_estimators=200; total time=   0.2s\n",
      "[CV] END .....learning_rate=1, max_depth=5, n_estimators=200; total time=   0.2s\n",
      "[CV] END .....learning_rate=1, max_depth=5, n_estimators=200; total time=   0.4s\n",
      "[CV] END .....learning_rate=1, max_depth=5, n_estimators=200; total time=   0.3s\n",
      "[CV] END ......learning_rate=1, max_depth=7, n_estimators=50; total time=   0.1s\n",
      "[CV] END ......learning_rate=1, max_depth=7, n_estimators=50; total time=   0.1s\n",
      "[CV] END ......learning_rate=1, max_depth=7, n_estimators=50; total time=   0.1s\n",
      "[CV] END ......learning_rate=1, max_depth=7, n_estimators=50; total time=   0.2s\n",
      "[CV] END ......learning_rate=1, max_depth=7, n_estimators=50; total time=   0.2s\n",
      "[CV] END .....learning_rate=1, max_depth=7, n_estimators=100; total time=   0.2s\n",
      "[CV] END .....learning_rate=1, max_depth=7, n_estimators=100; total time=   0.2s\n",
      "[CV] END .....learning_rate=1, max_depth=7, n_estimators=100; total time=   0.2s\n",
      "[CV] END .....learning_rate=1, max_depth=7, n_estimators=100; total time=   0.2s\n",
      "[CV] END .....learning_rate=1, max_depth=7, n_estimators=100; total time=   0.2s\n",
      "[CV] END .....learning_rate=1, max_depth=7, n_estimators=200; total time=   0.2s\n",
      "[CV] END .....learning_rate=1, max_depth=7, n_estimators=200; total time=   0.2s\n",
      "[CV] END .....learning_rate=1, max_depth=7, n_estimators=200; total time=   0.3s\n",
      "[CV] END .....learning_rate=1, max_depth=7, n_estimators=200; total time=   0.6s\n",
      "[CV] END .....learning_rate=1, max_depth=7, n_estimators=200; total time=   0.3s\n"
     ]
    },
    {
     "data": {
      "text/html": [
       "<style>#sk-container-id-6 {color: black;}#sk-container-id-6 pre{padding: 0;}#sk-container-id-6 div.sk-toggleable {background-color: white;}#sk-container-id-6 label.sk-toggleable__label {cursor: pointer;display: block;width: 100%;margin-bottom: 0;padding: 0.3em;box-sizing: border-box;text-align: center;}#sk-container-id-6 label.sk-toggleable__label-arrow:before {content: \"▸\";float: left;margin-right: 0.25em;color: #696969;}#sk-container-id-6 label.sk-toggleable__label-arrow:hover:before {color: black;}#sk-container-id-6 div.sk-estimator:hover label.sk-toggleable__label-arrow:before {color: black;}#sk-container-id-6 div.sk-toggleable__content {max-height: 0;max-width: 0;overflow: hidden;text-align: left;background-color: #f0f8ff;}#sk-container-id-6 div.sk-toggleable__content pre {margin: 0.2em;color: black;border-radius: 0.25em;background-color: #f0f8ff;}#sk-container-id-6 input.sk-toggleable__control:checked~div.sk-toggleable__content {max-height: 200px;max-width: 100%;overflow: auto;}#sk-container-id-6 input.sk-toggleable__control:checked~label.sk-toggleable__label-arrow:before {content: \"▾\";}#sk-container-id-6 div.sk-estimator input.sk-toggleable__control:checked~label.sk-toggleable__label {background-color: #d4ebff;}#sk-container-id-6 div.sk-label input.sk-toggleable__control:checked~label.sk-toggleable__label {background-color: #d4ebff;}#sk-container-id-6 input.sk-hidden--visually {border: 0;clip: rect(1px 1px 1px 1px);clip: rect(1px, 1px, 1px, 1px);height: 1px;margin: -1px;overflow: hidden;padding: 0;position: absolute;width: 1px;}#sk-container-id-6 div.sk-estimator {font-family: monospace;background-color: #f0f8ff;border: 1px dotted black;border-radius: 0.25em;box-sizing: border-box;margin-bottom: 0.5em;}#sk-container-id-6 div.sk-estimator:hover {background-color: #d4ebff;}#sk-container-id-6 div.sk-parallel-item::after {content: \"\";width: 100%;border-bottom: 1px solid gray;flex-grow: 1;}#sk-container-id-6 div.sk-label:hover label.sk-toggleable__label {background-color: #d4ebff;}#sk-container-id-6 div.sk-serial::before {content: \"\";position: absolute;border-left: 1px solid gray;box-sizing: border-box;top: 0;bottom: 0;left: 50%;z-index: 0;}#sk-container-id-6 div.sk-serial {display: flex;flex-direction: column;align-items: center;background-color: white;padding-right: 0.2em;padding-left: 0.2em;position: relative;}#sk-container-id-6 div.sk-item {position: relative;z-index: 1;}#sk-container-id-6 div.sk-parallel {display: flex;align-items: stretch;justify-content: center;background-color: white;position: relative;}#sk-container-id-6 div.sk-item::before, #sk-container-id-6 div.sk-parallel-item::before {content: \"\";position: absolute;border-left: 1px solid gray;box-sizing: border-box;top: 0;bottom: 0;left: 50%;z-index: -1;}#sk-container-id-6 div.sk-parallel-item {display: flex;flex-direction: column;z-index: 1;position: relative;background-color: white;}#sk-container-id-6 div.sk-parallel-item:first-child::after {align-self: flex-end;width: 50%;}#sk-container-id-6 div.sk-parallel-item:last-child::after {align-self: flex-start;width: 50%;}#sk-container-id-6 div.sk-parallel-item:only-child::after {width: 0;}#sk-container-id-6 div.sk-dashed-wrapped {border: 1px dashed gray;margin: 0 0.4em 0.5em 0.4em;box-sizing: border-box;padding-bottom: 0.4em;background-color: white;}#sk-container-id-6 div.sk-label label {font-family: monospace;font-weight: bold;display: inline-block;line-height: 1.2em;}#sk-container-id-6 div.sk-label-container {text-align: center;}#sk-container-id-6 div.sk-container {/* jupyter's `normalize.less` sets `[hidden] { display: none; }` but bootstrap.min.css set `[hidden] { display: none !important; }` so we also need the `!important` here to be able to override the default hidden behavior on the sphinx rendered scikit-learn.org. See: https://github.com/scikit-learn/scikit-learn/issues/21755 */display: inline-block !important;position: relative;}#sk-container-id-6 div.sk-text-repr-fallback {display: none;}</style><div id=\"sk-container-id-6\" class=\"sk-top-container\"><div class=\"sk-text-repr-fallback\"><pre>GridSearchCV(estimator=GradientBoostingClassifier(),\n",
       "             param_grid={&#x27;learning_rate&#x27;: [0.01, 0.1, 1],\n",
       "                         &#x27;max_depth&#x27;: [3, 5, 7],\n",
       "                         &#x27;n_estimators&#x27;: [50, 100, 200]},\n",
       "             verbose=2)</pre><b>In a Jupyter environment, please rerun this cell to show the HTML representation or trust the notebook. <br />On GitHub, the HTML representation is unable to render, please try loading this page with nbviewer.org.</b></div><div class=\"sk-container\" hidden><div class=\"sk-item sk-dashed-wrapped\"><div class=\"sk-label-container\"><div class=\"sk-label sk-toggleable\"><input class=\"sk-toggleable__control sk-hidden--visually\" id=\"sk-estimator-id-8\" type=\"checkbox\" ><label for=\"sk-estimator-id-8\" class=\"sk-toggleable__label sk-toggleable__label-arrow\">GridSearchCV</label><div class=\"sk-toggleable__content\"><pre>GridSearchCV(estimator=GradientBoostingClassifier(),\n",
       "             param_grid={&#x27;learning_rate&#x27;: [0.01, 0.1, 1],\n",
       "                         &#x27;max_depth&#x27;: [3, 5, 7],\n",
       "                         &#x27;n_estimators&#x27;: [50, 100, 200]},\n",
       "             verbose=2)</pre></div></div></div><div class=\"sk-parallel\"><div class=\"sk-parallel-item\"><div class=\"sk-item\"><div class=\"sk-label-container\"><div class=\"sk-label sk-toggleable\"><input class=\"sk-toggleable__control sk-hidden--visually\" id=\"sk-estimator-id-9\" type=\"checkbox\" ><label for=\"sk-estimator-id-9\" class=\"sk-toggleable__label sk-toggleable__label-arrow\">estimator: GradientBoostingClassifier</label><div class=\"sk-toggleable__content\"><pre>GradientBoostingClassifier()</pre></div></div></div><div class=\"sk-serial\"><div class=\"sk-item\"><div class=\"sk-estimator sk-toggleable\"><input class=\"sk-toggleable__control sk-hidden--visually\" id=\"sk-estimator-id-10\" type=\"checkbox\" ><label for=\"sk-estimator-id-10\" class=\"sk-toggleable__label sk-toggleable__label-arrow\">GradientBoostingClassifier</label><div class=\"sk-toggleable__content\"><pre>GradientBoostingClassifier()</pre></div></div></div></div></div></div></div></div></div></div>"
      ],
      "text/plain": [
       "GridSearchCV(estimator=GradientBoostingClassifier(),\n",
       "             param_grid={'learning_rate': [0.01, 0.1, 1],\n",
       "                         'max_depth': [3, 5, 7],\n",
       "                         'n_estimators': [50, 100, 200]},\n",
       "             verbose=2)"
      ]
     },
     "execution_count": 26,
     "metadata": {},
     "output_type": "execute_result"
    }
   ],
   "source": [
    "model_grid = GridSearchCV(model, param_grid, verbose=2)\n",
    "model_grid.fit(X_train, y_train)"
   ]
  },
  {
   "cell_type": "code",
   "execution_count": 27,
   "id": "a9dcf934",
   "metadata": {
    "execution": {
     "iopub.execute_input": "2024-05-10T12:01:17.881968Z",
     "iopub.status.busy": "2024-05-10T12:01:17.881857Z",
     "iopub.status.idle": "2024-05-10T12:01:17.884235Z",
     "shell.execute_reply": "2024-05-10T12:01:17.884032Z"
    },
    "papermill": {
     "duration": 0.007906,
     "end_time": "2024-05-10T12:01:17.884952",
     "exception": false,
     "start_time": "2024-05-10T12:01:17.877046",
     "status": "completed"
    },
    "tags": []
   },
   "outputs": [
    {
     "data": {
      "text/html": [
       "<style>#sk-container-id-7 {color: black;}#sk-container-id-7 pre{padding: 0;}#sk-container-id-7 div.sk-toggleable {background-color: white;}#sk-container-id-7 label.sk-toggleable__label {cursor: pointer;display: block;width: 100%;margin-bottom: 0;padding: 0.3em;box-sizing: border-box;text-align: center;}#sk-container-id-7 label.sk-toggleable__label-arrow:before {content: \"▸\";float: left;margin-right: 0.25em;color: #696969;}#sk-container-id-7 label.sk-toggleable__label-arrow:hover:before {color: black;}#sk-container-id-7 div.sk-estimator:hover label.sk-toggleable__label-arrow:before {color: black;}#sk-container-id-7 div.sk-toggleable__content {max-height: 0;max-width: 0;overflow: hidden;text-align: left;background-color: #f0f8ff;}#sk-container-id-7 div.sk-toggleable__content pre {margin: 0.2em;color: black;border-radius: 0.25em;background-color: #f0f8ff;}#sk-container-id-7 input.sk-toggleable__control:checked~div.sk-toggleable__content {max-height: 200px;max-width: 100%;overflow: auto;}#sk-container-id-7 input.sk-toggleable__control:checked~label.sk-toggleable__label-arrow:before {content: \"▾\";}#sk-container-id-7 div.sk-estimator input.sk-toggleable__control:checked~label.sk-toggleable__label {background-color: #d4ebff;}#sk-container-id-7 div.sk-label input.sk-toggleable__control:checked~label.sk-toggleable__label {background-color: #d4ebff;}#sk-container-id-7 input.sk-hidden--visually {border: 0;clip: rect(1px 1px 1px 1px);clip: rect(1px, 1px, 1px, 1px);height: 1px;margin: -1px;overflow: hidden;padding: 0;position: absolute;width: 1px;}#sk-container-id-7 div.sk-estimator {font-family: monospace;background-color: #f0f8ff;border: 1px dotted black;border-radius: 0.25em;box-sizing: border-box;margin-bottom: 0.5em;}#sk-container-id-7 div.sk-estimator:hover {background-color: #d4ebff;}#sk-container-id-7 div.sk-parallel-item::after {content: \"\";width: 100%;border-bottom: 1px solid gray;flex-grow: 1;}#sk-container-id-7 div.sk-label:hover label.sk-toggleable__label {background-color: #d4ebff;}#sk-container-id-7 div.sk-serial::before {content: \"\";position: absolute;border-left: 1px solid gray;box-sizing: border-box;top: 0;bottom: 0;left: 50%;z-index: 0;}#sk-container-id-7 div.sk-serial {display: flex;flex-direction: column;align-items: center;background-color: white;padding-right: 0.2em;padding-left: 0.2em;position: relative;}#sk-container-id-7 div.sk-item {position: relative;z-index: 1;}#sk-container-id-7 div.sk-parallel {display: flex;align-items: stretch;justify-content: center;background-color: white;position: relative;}#sk-container-id-7 div.sk-item::before, #sk-container-id-7 div.sk-parallel-item::before {content: \"\";position: absolute;border-left: 1px solid gray;box-sizing: border-box;top: 0;bottom: 0;left: 50%;z-index: -1;}#sk-container-id-7 div.sk-parallel-item {display: flex;flex-direction: column;z-index: 1;position: relative;background-color: white;}#sk-container-id-7 div.sk-parallel-item:first-child::after {align-self: flex-end;width: 50%;}#sk-container-id-7 div.sk-parallel-item:last-child::after {align-self: flex-start;width: 50%;}#sk-container-id-7 div.sk-parallel-item:only-child::after {width: 0;}#sk-container-id-7 div.sk-dashed-wrapped {border: 1px dashed gray;margin: 0 0.4em 0.5em 0.4em;box-sizing: border-box;padding-bottom: 0.4em;background-color: white;}#sk-container-id-7 div.sk-label label {font-family: monospace;font-weight: bold;display: inline-block;line-height: 1.2em;}#sk-container-id-7 div.sk-label-container {text-align: center;}#sk-container-id-7 div.sk-container {/* jupyter's `normalize.less` sets `[hidden] { display: none; }` but bootstrap.min.css set `[hidden] { display: none !important; }` so we also need the `!important` here to be able to override the default hidden behavior on the sphinx rendered scikit-learn.org. See: https://github.com/scikit-learn/scikit-learn/issues/21755 */display: inline-block !important;position: relative;}#sk-container-id-7 div.sk-text-repr-fallback {display: none;}</style><div id=\"sk-container-id-7\" class=\"sk-top-container\"><div class=\"sk-text-repr-fallback\"><pre>GradientBoostingClassifier(learning_rate=0.01)</pre><b>In a Jupyter environment, please rerun this cell to show the HTML representation or trust the notebook. <br />On GitHub, the HTML representation is unable to render, please try loading this page with nbviewer.org.</b></div><div class=\"sk-container\" hidden><div class=\"sk-item\"><div class=\"sk-estimator sk-toggleable\"><input class=\"sk-toggleable__control sk-hidden--visually\" id=\"sk-estimator-id-11\" type=\"checkbox\" checked><label for=\"sk-estimator-id-11\" class=\"sk-toggleable__label sk-toggleable__label-arrow\">GradientBoostingClassifier</label><div class=\"sk-toggleable__content\"><pre>GradientBoostingClassifier(learning_rate=0.01)</pre></div></div></div></div></div>"
      ],
      "text/plain": [
       "GradientBoostingClassifier(learning_rate=0.01)"
      ]
     },
     "execution_count": 27,
     "metadata": {},
     "output_type": "execute_result"
    }
   ],
   "source": [
    "model_grid.best_estimator_"
   ]
  },
  {
   "cell_type": "code",
   "execution_count": 28,
   "id": "a921f890",
   "metadata": {
    "execution": {
     "iopub.execute_input": "2024-05-10T12:01:17.894144Z",
     "iopub.status.busy": "2024-05-10T12:01:17.894060Z",
     "iopub.status.idle": "2024-05-10T12:01:17.895836Z",
     "shell.execute_reply": "2024-05-10T12:01:17.895644Z"
    },
    "papermill": {
     "duration": 0.007074,
     "end_time": "2024-05-10T12:01:17.896471",
     "exception": false,
     "start_time": "2024-05-10T12:01:17.889397",
     "status": "completed"
    },
    "tags": []
   },
   "outputs": [
    {
     "data": {
      "text/plain": [
       "0.7557774914089347"
      ]
     },
     "execution_count": 28,
     "metadata": {},
     "output_type": "execute_result"
    }
   ],
   "source": [
    "model_grid.best_score_"
   ]
  },
  {
   "cell_type": "code",
   "execution_count": 29,
   "id": "9d8a9d8b",
   "metadata": {
    "execution": {
     "iopub.execute_input": "2024-05-10T12:01:17.906392Z",
     "iopub.status.busy": "2024-05-10T12:01:17.906161Z",
     "iopub.status.idle": "2024-05-10T12:01:17.909767Z",
     "shell.execute_reply": "2024-05-10T12:01:17.909558Z"
    },
    "papermill": {
     "duration": 0.009414,
     "end_time": "2024-05-10T12:01:17.910421",
     "exception": false,
     "start_time": "2024-05-10T12:01:17.901007",
     "status": "completed"
    },
    "tags": []
   },
   "outputs": [
    {
     "data": {
      "text/plain": [
       "0.7342995169082126"
      ]
     },
     "execution_count": 29,
     "metadata": {},
     "output_type": "execute_result"
    }
   ],
   "source": [
    "model_grid.score(X_test, y_test)"
   ]
  },
  {
   "cell_type": "code",
   "execution_count": 30,
   "id": "1c07f52b",
   "metadata": {},
   "outputs": [
    {
     "data": {
      "text/html": [
       "<style>#sk-container-id-8 {color: black;}#sk-container-id-8 pre{padding: 0;}#sk-container-id-8 div.sk-toggleable {background-color: white;}#sk-container-id-8 label.sk-toggleable__label {cursor: pointer;display: block;width: 100%;margin-bottom: 0;padding: 0.3em;box-sizing: border-box;text-align: center;}#sk-container-id-8 label.sk-toggleable__label-arrow:before {content: \"▸\";float: left;margin-right: 0.25em;color: #696969;}#sk-container-id-8 label.sk-toggleable__label-arrow:hover:before {color: black;}#sk-container-id-8 div.sk-estimator:hover label.sk-toggleable__label-arrow:before {color: black;}#sk-container-id-8 div.sk-toggleable__content {max-height: 0;max-width: 0;overflow: hidden;text-align: left;background-color: #f0f8ff;}#sk-container-id-8 div.sk-toggleable__content pre {margin: 0.2em;color: black;border-radius: 0.25em;background-color: #f0f8ff;}#sk-container-id-8 input.sk-toggleable__control:checked~div.sk-toggleable__content {max-height: 200px;max-width: 100%;overflow: auto;}#sk-container-id-8 input.sk-toggleable__control:checked~label.sk-toggleable__label-arrow:before {content: \"▾\";}#sk-container-id-8 div.sk-estimator input.sk-toggleable__control:checked~label.sk-toggleable__label {background-color: #d4ebff;}#sk-container-id-8 div.sk-label input.sk-toggleable__control:checked~label.sk-toggleable__label {background-color: #d4ebff;}#sk-container-id-8 input.sk-hidden--visually {border: 0;clip: rect(1px 1px 1px 1px);clip: rect(1px, 1px, 1px, 1px);height: 1px;margin: -1px;overflow: hidden;padding: 0;position: absolute;width: 1px;}#sk-container-id-8 div.sk-estimator {font-family: monospace;background-color: #f0f8ff;border: 1px dotted black;border-radius: 0.25em;box-sizing: border-box;margin-bottom: 0.5em;}#sk-container-id-8 div.sk-estimator:hover {background-color: #d4ebff;}#sk-container-id-8 div.sk-parallel-item::after {content: \"\";width: 100%;border-bottom: 1px solid gray;flex-grow: 1;}#sk-container-id-8 div.sk-label:hover label.sk-toggleable__label {background-color: #d4ebff;}#sk-container-id-8 div.sk-serial::before {content: \"\";position: absolute;border-left: 1px solid gray;box-sizing: border-box;top: 0;bottom: 0;left: 50%;z-index: 0;}#sk-container-id-8 div.sk-serial {display: flex;flex-direction: column;align-items: center;background-color: white;padding-right: 0.2em;padding-left: 0.2em;position: relative;}#sk-container-id-8 div.sk-item {position: relative;z-index: 1;}#sk-container-id-8 div.sk-parallel {display: flex;align-items: stretch;justify-content: center;background-color: white;position: relative;}#sk-container-id-8 div.sk-item::before, #sk-container-id-8 div.sk-parallel-item::before {content: \"\";position: absolute;border-left: 1px solid gray;box-sizing: border-box;top: 0;bottom: 0;left: 50%;z-index: -1;}#sk-container-id-8 div.sk-parallel-item {display: flex;flex-direction: column;z-index: 1;position: relative;background-color: white;}#sk-container-id-8 div.sk-parallel-item:first-child::after {align-self: flex-end;width: 50%;}#sk-container-id-8 div.sk-parallel-item:last-child::after {align-self: flex-start;width: 50%;}#sk-container-id-8 div.sk-parallel-item:only-child::after {width: 0;}#sk-container-id-8 div.sk-dashed-wrapped {border: 1px dashed gray;margin: 0 0.4em 0.5em 0.4em;box-sizing: border-box;padding-bottom: 0.4em;background-color: white;}#sk-container-id-8 div.sk-label label {font-family: monospace;font-weight: bold;display: inline-block;line-height: 1.2em;}#sk-container-id-8 div.sk-label-container {text-align: center;}#sk-container-id-8 div.sk-container {/* jupyter's `normalize.less` sets `[hidden] { display: none; }` but bootstrap.min.css set `[hidden] { display: none !important; }` so we also need the `!important` here to be able to override the default hidden behavior on the sphinx rendered scikit-learn.org. See: https://github.com/scikit-learn/scikit-learn/issues/21755 */display: inline-block !important;position: relative;}#sk-container-id-8 div.sk-text-repr-fallback {display: none;}</style><div id=\"sk-container-id-8\" class=\"sk-top-container\"><div class=\"sk-text-repr-fallback\"><pre>GridSearchCV(estimator=GradientBoostingClassifier(),\n",
       "             param_grid={&#x27;learning_rate&#x27;: [0.01, 0.1, 1],\n",
       "                         &#x27;max_depth&#x27;: [3, 5, 7],\n",
       "                         &#x27;n_estimators&#x27;: [50, 100, 200]},\n",
       "             verbose=2)</pre><b>In a Jupyter environment, please rerun this cell to show the HTML representation or trust the notebook. <br />On GitHub, the HTML representation is unable to render, please try loading this page with nbviewer.org.</b></div><div class=\"sk-container\" hidden><div class=\"sk-item sk-dashed-wrapped\"><div class=\"sk-label-container\"><div class=\"sk-label sk-toggleable\"><input class=\"sk-toggleable__control sk-hidden--visually\" id=\"sk-estimator-id-12\" type=\"checkbox\" ><label for=\"sk-estimator-id-12\" class=\"sk-toggleable__label sk-toggleable__label-arrow\">GridSearchCV</label><div class=\"sk-toggleable__content\"><pre>GridSearchCV(estimator=GradientBoostingClassifier(),\n",
       "             param_grid={&#x27;learning_rate&#x27;: [0.01, 0.1, 1],\n",
       "                         &#x27;max_depth&#x27;: [3, 5, 7],\n",
       "                         &#x27;n_estimators&#x27;: [50, 100, 200]},\n",
       "             verbose=2)</pre></div></div></div><div class=\"sk-parallel\"><div class=\"sk-parallel-item\"><div class=\"sk-item\"><div class=\"sk-label-container\"><div class=\"sk-label sk-toggleable\"><input class=\"sk-toggleable__control sk-hidden--visually\" id=\"sk-estimator-id-13\" type=\"checkbox\" ><label for=\"sk-estimator-id-13\" class=\"sk-toggleable__label sk-toggleable__label-arrow\">estimator: GradientBoostingClassifier</label><div class=\"sk-toggleable__content\"><pre>GradientBoostingClassifier()</pre></div></div></div><div class=\"sk-serial\"><div class=\"sk-item\"><div class=\"sk-estimator sk-toggleable\"><input class=\"sk-toggleable__control sk-hidden--visually\" id=\"sk-estimator-id-14\" type=\"checkbox\" ><label for=\"sk-estimator-id-14\" class=\"sk-toggleable__label sk-toggleable__label-arrow\">GradientBoostingClassifier</label><div class=\"sk-toggleable__content\"><pre>GradientBoostingClassifier()</pre></div></div></div></div></div></div></div></div></div></div>"
      ],
      "text/plain": [
       "GridSearchCV(estimator=GradientBoostingClassifier(),\n",
       "             param_grid={'learning_rate': [0.01, 0.1, 1],\n",
       "                         'max_depth': [3, 5, 7],\n",
       "                         'n_estimators': [50, 100, 200]},\n",
       "             verbose=2)"
      ]
     },
     "execution_count": 30,
     "metadata": {},
     "output_type": "execute_result"
    }
   ],
   "source": [
    "model_grid"
   ]
  }
 ],
 "metadata": {
  "kernelspec": {
   "display_name": "work",
   "language": "python",
   "name": "python3"
  },
  "language_info": {
   "codemirror_mode": {
    "name": "ipython",
    "version": 3
   },
   "file_extension": ".py",
   "mimetype": "text/x-python",
   "name": "python",
   "nbconvert_exporter": "python",
   "pygments_lexer": "ipython3",
   "version": "3.10.12"
  },
  "papermill": {
   "default_parameters": {},
   "duration": 13.749778,
   "end_time": "2024-05-10T12:01:18.232193",
   "environment_variables": {},
   "exception": null,
   "input_path": "/Users/sota/Dropbox/2 Business/1 Datons/2 Areas/Courses/03 ML/materials/notebooks/20_Model Selection/02_Hyperparameters/B.ipynb",
   "output_path": "/Users/sota/Dropbox/2 Business/1 Datons/2 Areas/Courses/03 ML/materials/notebooks/20_Model Selection/02_Hyperparameters/B.ipynb",
   "parameters": {},
   "start_time": "2024-05-10T12:01:04.482415",
   "version": "2.5.0"
  }
 },
 "nbformat": 4,
 "nbformat_minor": 5
}
