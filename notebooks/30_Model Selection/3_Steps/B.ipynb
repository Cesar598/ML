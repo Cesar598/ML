{
 "cells": [
  {
   "attachments": {},
   "cell_type": "markdown",
   "id": "afd57b82",
   "metadata": {
    "papermill": {
     "duration": 0.002327,
     "end_time": "2024-05-10T12:01:05.685890",
     "exception": false,
     "start_time": "2024-05-10T12:01:05.683563",
     "status": "completed"
    },
    "tags": []
   },
   "source": [
    "# Hyperparameter tuning to get model's best configuration"
   ]
  },
  {
   "attachments": {},
   "cell_type": "markdown",
   "id": "a935bb14",
   "metadata": {
    "papermill": {
     "duration": 0.002088,
     "end_time": "2024-05-10T12:01:05.690488",
     "exception": false,
     "start_time": "2024-05-10T12:01:05.688400",
     "status": "completed"
    },
    "tags": []
   },
   "source": [
    "## Load data"
   ]
  },
  {
   "cell_type": "code",
   "execution_count": 35,
   "id": "38dfc647",
   "metadata": {
    "execution": {
     "iopub.execute_input": "2024-05-10T12:01:05.694916Z",
     "iopub.status.busy": "2024-05-10T12:01:05.694784Z",
     "iopub.status.idle": "2024-05-10T12:01:05.702279Z",
     "shell.execute_reply": "2024-05-10T12:01:05.701996Z"
    },
    "papermill": {
     "duration": 0.010996,
     "end_time": "2024-05-10T12:01:05.703419",
     "exception": false,
     "start_time": "2024-05-10T12:01:05.692423",
     "status": "completed"
    },
    "tags": [
     "change-false"
    ]
   },
   "outputs": [
    {
     "data": {
      "text/html": [
       "<div>\n",
       "<style scoped>\n",
       "    .dataframe tbody tr th:only-of-type {\n",
       "        vertical-align: middle;\n",
       "    }\n",
       "\n",
       "    .dataframe tbody tr th {\n",
       "        vertical-align: top;\n",
       "    }\n",
       "\n",
       "    .dataframe thead th {\n",
       "        text-align: right;\n",
       "    }\n",
       "</style>\n",
       "<table border=\"1\" class=\"dataframe\">\n",
       "  <thead>\n",
       "    <tr style=\"text-align: right;\">\n",
       "      <th></th>\n",
       "      <th>Gender</th>\n",
       "      <th>Age</th>\n",
       "      <th>Married</th>\n",
       "      <th>YearsEmployed</th>\n",
       "      <th>Income</th>\n",
       "      <th>Approved</th>\n",
       "    </tr>\n",
       "  </thead>\n",
       "  <tbody>\n",
       "    <tr>\n",
       "      <th>0</th>\n",
       "      <td>1</td>\n",
       "      <td>30</td>\n",
       "      <td>1</td>\n",
       "      <td>1.25</td>\n",
       "      <td>0</td>\n",
       "      <td>1</td>\n",
       "    </tr>\n",
       "    <tr>\n",
       "      <th>1</th>\n",
       "      <td>0</td>\n",
       "      <td>58</td>\n",
       "      <td>1</td>\n",
       "      <td>3.04</td>\n",
       "      <td>560</td>\n",
       "      <td>1</td>\n",
       "    </tr>\n",
       "    <tr>\n",
       "      <th>...</th>\n",
       "      <td>...</td>\n",
       "      <td>...</td>\n",
       "      <td>...</td>\n",
       "      <td>...</td>\n",
       "      <td>...</td>\n",
       "      <td>...</td>\n",
       "    </tr>\n",
       "    <tr>\n",
       "      <th>688</th>\n",
       "      <td>1</td>\n",
       "      <td>17</td>\n",
       "      <td>1</td>\n",
       "      <td>0.04</td>\n",
       "      <td>750</td>\n",
       "      <td>0</td>\n",
       "    </tr>\n",
       "    <tr>\n",
       "      <th>689</th>\n",
       "      <td>1</td>\n",
       "      <td>35</td>\n",
       "      <td>1</td>\n",
       "      <td>8.29</td>\n",
       "      <td>0</td>\n",
       "      <td>0</td>\n",
       "    </tr>\n",
       "  </tbody>\n",
       "</table>\n",
       "<p>690 rows × 6 columns</p>\n",
       "</div>"
      ],
      "text/plain": [
       "     Gender  Age  Married  YearsEmployed  Income  Approved\n",
       "0         1   30        1           1.25       0         1\n",
       "1         0   58        1           3.04     560         1\n",
       "..      ...  ...      ...            ...     ...       ...\n",
       "688       1   17        1           0.04     750         0\n",
       "689       1   35        1           8.29       0         0\n",
       "\n",
       "[690 rows x 6 columns]"
      ]
     },
     "execution_count": 35,
     "metadata": {},
     "output_type": "execute_result"
    }
   ],
   "source": [
    "import pandas as pd\n",
    "\n",
    "path = '../../../data/default_credit_card/output/simplified_features.csv'\n",
    "df = pd.read_csv(path)\n",
    "df"
   ]
  },
  {
   "attachments": {},
   "cell_type": "markdown",
   "id": "dc1b50f7",
   "metadata": {
    "papermill": {
     "duration": 0.002106,
     "end_time": "2024-05-10T12:01:05.707475",
     "exception": false,
     "start_time": "2024-05-10T12:01:05.705369",
     "status": "completed"
    },
    "tags": []
   },
   "source": [
    "## Feature selection"
   ]
  },
  {
   "cell_type": "code",
   "execution_count": 36,
   "id": "bf708db8",
   "metadata": {
    "execution": {
     "iopub.execute_input": "2024-05-10T12:01:05.711745Z",
     "iopub.status.busy": "2024-05-10T12:01:05.711616Z",
     "iopub.status.idle": "2024-05-10T12:01:05.713829Z",
     "shell.execute_reply": "2024-05-10T12:01:05.713497Z"
    },
    "papermill": {
     "duration": 0.005427,
     "end_time": "2024-05-10T12:01:05.714619",
     "exception": false,
     "start_time": "2024-05-10T12:01:05.709192",
     "status": "completed"
    },
    "tags": [
     "change-false"
    ]
   },
   "outputs": [],
   "source": [
    "target = 'Approved'\n",
    "\n",
    "y = df[target]\n",
    "X = df.drop(columns=target)"
   ]
  },
  {
   "attachments": {},
   "cell_type": "markdown",
   "id": "9970eed7",
   "metadata": {
    "papermill": {
     "duration": 0.001958,
     "end_time": "2024-05-10T12:01:05.718459",
     "exception": false,
     "start_time": "2024-05-10T12:01:05.716501",
     "status": "completed"
    },
    "tags": []
   },
   "source": [
    "## Train test split"
   ]
  },
  {
   "cell_type": "code",
   "execution_count": 37,
   "id": "c1f47675",
   "metadata": {
    "execution": {
     "iopub.execute_input": "2024-05-10T12:01:05.722542Z",
     "iopub.status.busy": "2024-05-10T12:01:05.722417Z",
     "iopub.status.idle": "2024-05-10T12:01:06.093281Z",
     "shell.execute_reply": "2024-05-10T12:01:06.092845Z"
    },
    "papermill": {
     "duration": 0.374217,
     "end_time": "2024-05-10T12:01:06.094405",
     "exception": false,
     "start_time": "2024-05-10T12:01:05.720188",
     "status": "completed"
    },
    "tags": [
     "change-false"
    ]
   },
   "outputs": [],
   "source": [
    "from sklearn.model_selection import train_test_split\n",
    "\n",
    "X_train, X_test, y_train, y_test = train_test_split(\n",
    "    X, y, test_size=0.3, random_state=42)"
   ]
  },
  {
   "attachments": {},
   "cell_type": "markdown",
   "id": "6671a53d",
   "metadata": {
    "papermill": {
     "duration": 0.003657,
     "end_time": "2024-05-10T12:01:06.841696",
     "exception": false,
     "start_time": "2024-05-10T12:01:06.838039",
     "status": "completed"
    },
    "tags": []
   },
   "source": [
    "## Grid search"
   ]
  },
  {
   "attachments": {},
   "cell_type": "markdown",
   "id": "ce6e9428",
   "metadata": {},
   "source": [
    "### Import model"
   ]
  },
  {
   "cell_type": "code",
   "execution_count": 38,
   "id": "9970984e",
   "metadata": {},
   "outputs": [],
   "source": [
    "from sklearn.tree import DecisionTreeClassifier\n",
    "model = DecisionTreeClassifier()"
   ]
  },
  {
   "attachments": {},
   "cell_type": "markdown",
   "id": "20dda4a8",
   "metadata": {},
   "source": [
    "### See hyperparameters\n",
    "\n",
    "From the model."
   ]
  },
  {
   "cell_type": "code",
   "execution_count": 39,
   "id": "6a6ed042",
   "metadata": {},
   "outputs": [
    {
     "data": {
      "text/plain": [
       "{'ccp_alpha': 0.0,\n",
       " 'class_weight': None,\n",
       " 'criterion': 'gini',\n",
       " 'max_depth': None,\n",
       " 'max_features': None,\n",
       " 'max_leaf_nodes': None,\n",
       " 'min_impurity_decrease': 0.0,\n",
       " 'min_samples_leaf': 1,\n",
       " 'min_samples_split': 2,\n",
       " 'min_weight_fraction_leaf': 0.0,\n",
       " 'random_state': None,\n",
       " 'splitter': 'best'}"
      ]
     },
     "execution_count": 39,
     "metadata": {},
     "output_type": "execute_result"
    }
   ],
   "source": [
    "model.get_params()"
   ]
  },
  {
   "attachments": {},
   "cell_type": "markdown",
   "id": "fc15a480",
   "metadata": {},
   "source": [
    "### Hyperparameters grid\n",
    "\n",
    "To define the possible configurations the model will try in order to find the best.\n",
    "\n",
    "> There isn't an exact science to define the values to try on the grid. It depends on the model you choose and the dataset you have. If you ask ChatGPT to propose a `param_grid` given a model and a dataset, it will give you a good starting point, based on the literature and the model's documentation."
   ]
  },
  {
   "cell_type": "code",
   "execution_count": 40,
   "id": "a432f087",
   "metadata": {},
   "outputs": [],
   "source": [
    "param_grid = {\n",
    "    'max_depth': [3, 5, 7, 9],\n",
    "    'min_samples_leaf': [50, 100, 200, 500],\n",
    "    'criterion': ['gini', 'entropy']\n",
    "}"
   ]
  },
  {
   "attachments": {},
   "cell_type": "markdown",
   "id": "f4b3adeb",
   "metadata": {},
   "source": [
    "### Import grid search"
   ]
  },
  {
   "cell_type": "code",
   "execution_count": 41,
   "id": "95370409",
   "metadata": {
    "execution": {
     "iopub.execute_input": "2024-05-10T12:01:06.849604Z",
     "iopub.status.busy": "2024-05-10T12:01:06.849471Z",
     "iopub.status.idle": "2024-05-10T12:01:06.851723Z",
     "shell.execute_reply": "2024-05-10T12:01:06.851380Z"
    },
    "papermill": {
     "duration": 0.007404,
     "end_time": "2024-05-10T12:01:06.852612",
     "exception": false,
     "start_time": "2024-05-10T12:01:06.845208",
     "status": "completed"
    },
    "tags": []
   },
   "outputs": [],
   "source": [
    "from sklearn.model_selection import GridSearchCV\n",
    "model_grid = GridSearchCV(model, param_grid, cv=3, verbose=1)"
   ]
  },
  {
   "attachments": {},
   "cell_type": "markdown",
   "id": "19d94a2a",
   "metadata": {},
   "source": [
    "### Fit best model"
   ]
  },
  {
   "cell_type": "code",
   "execution_count": 42,
   "id": "407b43db",
   "metadata": {},
   "outputs": [
    {
     "name": "stdout",
     "output_type": "stream",
     "text": [
      "Fitting 3 folds for each of 32 candidates, totalling 96 fits\n"
     ]
    },
    {
     "data": {
      "text/html": [
       "<style>#sk-container-id-5 {color: black;}#sk-container-id-5 pre{padding: 0;}#sk-container-id-5 div.sk-toggleable {background-color: white;}#sk-container-id-5 label.sk-toggleable__label {cursor: pointer;display: block;width: 100%;margin-bottom: 0;padding: 0.3em;box-sizing: border-box;text-align: center;}#sk-container-id-5 label.sk-toggleable__label-arrow:before {content: \"▸\";float: left;margin-right: 0.25em;color: #696969;}#sk-container-id-5 label.sk-toggleable__label-arrow:hover:before {color: black;}#sk-container-id-5 div.sk-estimator:hover label.sk-toggleable__label-arrow:before {color: black;}#sk-container-id-5 div.sk-toggleable__content {max-height: 0;max-width: 0;overflow: hidden;text-align: left;background-color: #f0f8ff;}#sk-container-id-5 div.sk-toggleable__content pre {margin: 0.2em;color: black;border-radius: 0.25em;background-color: #f0f8ff;}#sk-container-id-5 input.sk-toggleable__control:checked~div.sk-toggleable__content {max-height: 200px;max-width: 100%;overflow: auto;}#sk-container-id-5 input.sk-toggleable__control:checked~label.sk-toggleable__label-arrow:before {content: \"▾\";}#sk-container-id-5 div.sk-estimator input.sk-toggleable__control:checked~label.sk-toggleable__label {background-color: #d4ebff;}#sk-container-id-5 div.sk-label input.sk-toggleable__control:checked~label.sk-toggleable__label {background-color: #d4ebff;}#sk-container-id-5 input.sk-hidden--visually {border: 0;clip: rect(1px 1px 1px 1px);clip: rect(1px, 1px, 1px, 1px);height: 1px;margin: -1px;overflow: hidden;padding: 0;position: absolute;width: 1px;}#sk-container-id-5 div.sk-estimator {font-family: monospace;background-color: #f0f8ff;border: 1px dotted black;border-radius: 0.25em;box-sizing: border-box;margin-bottom: 0.5em;}#sk-container-id-5 div.sk-estimator:hover {background-color: #d4ebff;}#sk-container-id-5 div.sk-parallel-item::after {content: \"\";width: 100%;border-bottom: 1px solid gray;flex-grow: 1;}#sk-container-id-5 div.sk-label:hover label.sk-toggleable__label {background-color: #d4ebff;}#sk-container-id-5 div.sk-serial::before {content: \"\";position: absolute;border-left: 1px solid gray;box-sizing: border-box;top: 0;bottom: 0;left: 50%;z-index: 0;}#sk-container-id-5 div.sk-serial {display: flex;flex-direction: column;align-items: center;background-color: white;padding-right: 0.2em;padding-left: 0.2em;position: relative;}#sk-container-id-5 div.sk-item {position: relative;z-index: 1;}#sk-container-id-5 div.sk-parallel {display: flex;align-items: stretch;justify-content: center;background-color: white;position: relative;}#sk-container-id-5 div.sk-item::before, #sk-container-id-5 div.sk-parallel-item::before {content: \"\";position: absolute;border-left: 1px solid gray;box-sizing: border-box;top: 0;bottom: 0;left: 50%;z-index: -1;}#sk-container-id-5 div.sk-parallel-item {display: flex;flex-direction: column;z-index: 1;position: relative;background-color: white;}#sk-container-id-5 div.sk-parallel-item:first-child::after {align-self: flex-end;width: 50%;}#sk-container-id-5 div.sk-parallel-item:last-child::after {align-self: flex-start;width: 50%;}#sk-container-id-5 div.sk-parallel-item:only-child::after {width: 0;}#sk-container-id-5 div.sk-dashed-wrapped {border: 1px dashed gray;margin: 0 0.4em 0.5em 0.4em;box-sizing: border-box;padding-bottom: 0.4em;background-color: white;}#sk-container-id-5 div.sk-label label {font-family: monospace;font-weight: bold;display: inline-block;line-height: 1.2em;}#sk-container-id-5 div.sk-label-container {text-align: center;}#sk-container-id-5 div.sk-container {/* jupyter's `normalize.less` sets `[hidden] { display: none; }` but bootstrap.min.css set `[hidden] { display: none !important; }` so we also need the `!important` here to be able to override the default hidden behavior on the sphinx rendered scikit-learn.org. See: https://github.com/scikit-learn/scikit-learn/issues/21755 */display: inline-block !important;position: relative;}#sk-container-id-5 div.sk-text-repr-fallback {display: none;}</style><div id=\"sk-container-id-5\" class=\"sk-top-container\"><div class=\"sk-text-repr-fallback\"><pre>GridSearchCV(cv=3, estimator=DecisionTreeClassifier(),\n",
       "             param_grid={&#x27;criterion&#x27;: [&#x27;gini&#x27;, &#x27;entropy&#x27;],\n",
       "                         &#x27;max_depth&#x27;: [3, 5, 7, 9],\n",
       "                         &#x27;min_samples_leaf&#x27;: [50, 100, 200, 500]},\n",
       "             verbose=1)</pre><b>In a Jupyter environment, please rerun this cell to show the HTML representation or trust the notebook. <br />On GitHub, the HTML representation is unable to render, please try loading this page with nbviewer.org.</b></div><div class=\"sk-container\" hidden><div class=\"sk-item sk-dashed-wrapped\"><div class=\"sk-label-container\"><div class=\"sk-label sk-toggleable\"><input class=\"sk-toggleable__control sk-hidden--visually\" id=\"sk-estimator-id-7\" type=\"checkbox\" ><label for=\"sk-estimator-id-7\" class=\"sk-toggleable__label sk-toggleable__label-arrow\">GridSearchCV</label><div class=\"sk-toggleable__content\"><pre>GridSearchCV(cv=3, estimator=DecisionTreeClassifier(),\n",
       "             param_grid={&#x27;criterion&#x27;: [&#x27;gini&#x27;, &#x27;entropy&#x27;],\n",
       "                         &#x27;max_depth&#x27;: [3, 5, 7, 9],\n",
       "                         &#x27;min_samples_leaf&#x27;: [50, 100, 200, 500]},\n",
       "             verbose=1)</pre></div></div></div><div class=\"sk-parallel\"><div class=\"sk-parallel-item\"><div class=\"sk-item\"><div class=\"sk-label-container\"><div class=\"sk-label sk-toggleable\"><input class=\"sk-toggleable__control sk-hidden--visually\" id=\"sk-estimator-id-8\" type=\"checkbox\" ><label for=\"sk-estimator-id-8\" class=\"sk-toggleable__label sk-toggleable__label-arrow\">estimator: DecisionTreeClassifier</label><div class=\"sk-toggleable__content\"><pre>DecisionTreeClassifier()</pre></div></div></div><div class=\"sk-serial\"><div class=\"sk-item\"><div class=\"sk-estimator sk-toggleable\"><input class=\"sk-toggleable__control sk-hidden--visually\" id=\"sk-estimator-id-9\" type=\"checkbox\" ><label for=\"sk-estimator-id-9\" class=\"sk-toggleable__label sk-toggleable__label-arrow\">DecisionTreeClassifier</label><div class=\"sk-toggleable__content\"><pre>DecisionTreeClassifier()</pre></div></div></div></div></div></div></div></div></div></div>"
      ],
      "text/plain": [
       "GridSearchCV(cv=3, estimator=DecisionTreeClassifier(),\n",
       "             param_grid={'criterion': ['gini', 'entropy'],\n",
       "                         'max_depth': [3, 5, 7, 9],\n",
       "                         'min_samples_leaf': [50, 100, 200, 500]},\n",
       "             verbose=1)"
      ]
     },
     "execution_count": 42,
     "metadata": {},
     "output_type": "execute_result"
    }
   ],
   "source": [
    "model_grid.fit(X_train, y_train)"
   ]
  },
  {
   "cell_type": "code",
   "execution_count": 43,
   "id": "af3a7618",
   "metadata": {
    "execution": {
     "iopub.execute_input": "2024-05-10T12:01:07.074871Z",
     "iopub.status.busy": "2024-05-10T12:01:07.074762Z",
     "iopub.status.idle": "2024-05-10T12:01:07.077217Z",
     "shell.execute_reply": "2024-05-10T12:01:07.076997Z"
    },
    "papermill": {
     "duration": 0.007176,
     "end_time": "2024-05-10T12:01:07.077922",
     "exception": false,
     "start_time": "2024-05-10T12:01:07.070746",
     "status": "completed"
    },
    "tags": []
   },
   "outputs": [
    {
     "data": {
      "text/html": [
       "<style>#sk-container-id-6 {color: black;}#sk-container-id-6 pre{padding: 0;}#sk-container-id-6 div.sk-toggleable {background-color: white;}#sk-container-id-6 label.sk-toggleable__label {cursor: pointer;display: block;width: 100%;margin-bottom: 0;padding: 0.3em;box-sizing: border-box;text-align: center;}#sk-container-id-6 label.sk-toggleable__label-arrow:before {content: \"▸\";float: left;margin-right: 0.25em;color: #696969;}#sk-container-id-6 label.sk-toggleable__label-arrow:hover:before {color: black;}#sk-container-id-6 div.sk-estimator:hover label.sk-toggleable__label-arrow:before {color: black;}#sk-container-id-6 div.sk-toggleable__content {max-height: 0;max-width: 0;overflow: hidden;text-align: left;background-color: #f0f8ff;}#sk-container-id-6 div.sk-toggleable__content pre {margin: 0.2em;color: black;border-radius: 0.25em;background-color: #f0f8ff;}#sk-container-id-6 input.sk-toggleable__control:checked~div.sk-toggleable__content {max-height: 200px;max-width: 100%;overflow: auto;}#sk-container-id-6 input.sk-toggleable__control:checked~label.sk-toggleable__label-arrow:before {content: \"▾\";}#sk-container-id-6 div.sk-estimator input.sk-toggleable__control:checked~label.sk-toggleable__label {background-color: #d4ebff;}#sk-container-id-6 div.sk-label input.sk-toggleable__control:checked~label.sk-toggleable__label {background-color: #d4ebff;}#sk-container-id-6 input.sk-hidden--visually {border: 0;clip: rect(1px 1px 1px 1px);clip: rect(1px, 1px, 1px, 1px);height: 1px;margin: -1px;overflow: hidden;padding: 0;position: absolute;width: 1px;}#sk-container-id-6 div.sk-estimator {font-family: monospace;background-color: #f0f8ff;border: 1px dotted black;border-radius: 0.25em;box-sizing: border-box;margin-bottom: 0.5em;}#sk-container-id-6 div.sk-estimator:hover {background-color: #d4ebff;}#sk-container-id-6 div.sk-parallel-item::after {content: \"\";width: 100%;border-bottom: 1px solid gray;flex-grow: 1;}#sk-container-id-6 div.sk-label:hover label.sk-toggleable__label {background-color: #d4ebff;}#sk-container-id-6 div.sk-serial::before {content: \"\";position: absolute;border-left: 1px solid gray;box-sizing: border-box;top: 0;bottom: 0;left: 50%;z-index: 0;}#sk-container-id-6 div.sk-serial {display: flex;flex-direction: column;align-items: center;background-color: white;padding-right: 0.2em;padding-left: 0.2em;position: relative;}#sk-container-id-6 div.sk-item {position: relative;z-index: 1;}#sk-container-id-6 div.sk-parallel {display: flex;align-items: stretch;justify-content: center;background-color: white;position: relative;}#sk-container-id-6 div.sk-item::before, #sk-container-id-6 div.sk-parallel-item::before {content: \"\";position: absolute;border-left: 1px solid gray;box-sizing: border-box;top: 0;bottom: 0;left: 50%;z-index: -1;}#sk-container-id-6 div.sk-parallel-item {display: flex;flex-direction: column;z-index: 1;position: relative;background-color: white;}#sk-container-id-6 div.sk-parallel-item:first-child::after {align-self: flex-end;width: 50%;}#sk-container-id-6 div.sk-parallel-item:last-child::after {align-self: flex-start;width: 50%;}#sk-container-id-6 div.sk-parallel-item:only-child::after {width: 0;}#sk-container-id-6 div.sk-dashed-wrapped {border: 1px dashed gray;margin: 0 0.4em 0.5em 0.4em;box-sizing: border-box;padding-bottom: 0.4em;background-color: white;}#sk-container-id-6 div.sk-label label {font-family: monospace;font-weight: bold;display: inline-block;line-height: 1.2em;}#sk-container-id-6 div.sk-label-container {text-align: center;}#sk-container-id-6 div.sk-container {/* jupyter's `normalize.less` sets `[hidden] { display: none; }` but bootstrap.min.css set `[hidden] { display: none !important; }` so we also need the `!important` here to be able to override the default hidden behavior on the sphinx rendered scikit-learn.org. See: https://github.com/scikit-learn/scikit-learn/issues/21755 */display: inline-block !important;position: relative;}#sk-container-id-6 div.sk-text-repr-fallback {display: none;}</style><div id=\"sk-container-id-6\" class=\"sk-top-container\"><div class=\"sk-text-repr-fallback\"><pre>DecisionTreeClassifier(criterion=&#x27;entropy&#x27;, max_depth=3, min_samples_leaf=50)</pre><b>In a Jupyter environment, please rerun this cell to show the HTML representation or trust the notebook. <br />On GitHub, the HTML representation is unable to render, please try loading this page with nbviewer.org.</b></div><div class=\"sk-container\" hidden><div class=\"sk-item\"><div class=\"sk-estimator sk-toggleable\"><input class=\"sk-toggleable__control sk-hidden--visually\" id=\"sk-estimator-id-10\" type=\"checkbox\" checked><label for=\"sk-estimator-id-10\" class=\"sk-toggleable__label sk-toggleable__label-arrow\">DecisionTreeClassifier</label><div class=\"sk-toggleable__content\"><pre>DecisionTreeClassifier(criterion=&#x27;entropy&#x27;, max_depth=3, min_samples_leaf=50)</pre></div></div></div></div></div>"
      ],
      "text/plain": [
       "DecisionTreeClassifier(criterion='entropy', max_depth=3, min_samples_leaf=50)"
      ]
     },
     "execution_count": 43,
     "metadata": {},
     "output_type": "execute_result"
    }
   ],
   "source": [
    "model_grid.best_estimator_"
   ]
  },
  {
   "attachments": {},
   "cell_type": "markdown",
   "id": "81365b12",
   "metadata": {},
   "source": [
    "### Evaluation"
   ]
  },
  {
   "cell_type": "code",
   "execution_count": 44,
   "id": "27e32d89",
   "metadata": {},
   "outputs": [
    {
     "data": {
      "text/html": [
       "<style type=\"text/css\">\n",
       "</style>\n",
       "<table id=\"T_7c3b9\">\n",
       "  <thead>\n",
       "    <tr>\n",
       "      <th class=\"blank level0\" >&nbsp;</th>\n",
       "      <th id=\"T_7c3b9_level0_col0\" class=\"col_heading level0 col0\" >params</th>\n",
       "      <th id=\"T_7c3b9_level0_col1\" class=\"col_heading level0 col1\" >mean_test_score</th>\n",
       "      <th id=\"T_7c3b9_level0_col2\" class=\"col_heading level0 col2\" >rank_test_score</th>\n",
       "    </tr>\n",
       "  </thead>\n",
       "  <tbody>\n",
       "    <tr>\n",
       "      <th id=\"T_7c3b9_level0_row0\" class=\"row_heading level0 row0\" >20</th>\n",
       "      <td id=\"T_7c3b9_row0_col0\" class=\"data row0 col0\" >{'criterion': 'entropy', 'max_depth': 5, 'min_samples_leaf': 50}</td>\n",
       "      <td id=\"T_7c3b9_row0_col1\" class=\"data row0 col1\" >0.724638</td>\n",
       "      <td id=\"T_7c3b9_row0_col2\" class=\"data row0 col2\" >1</td>\n",
       "    </tr>\n",
       "    <tr>\n",
       "      <th id=\"T_7c3b9_level0_row1\" class=\"row_heading level0 row1\" >16</th>\n",
       "      <td id=\"T_7c3b9_row1_col0\" class=\"data row1 col0\" >{'criterion': 'entropy', 'max_depth': 3, 'min_samples_leaf': 50}</td>\n",
       "      <td id=\"T_7c3b9_row1_col1\" class=\"data row1 col1\" >0.724638</td>\n",
       "      <td id=\"T_7c3b9_row1_col2\" class=\"data row1 col2\" >1</td>\n",
       "    </tr>\n",
       "    <tr>\n",
       "      <th id=\"T_7c3b9_level0_row2\" class=\"row_heading level0 row2\" >28</th>\n",
       "      <td id=\"T_7c3b9_row2_col0\" class=\"data row2 col0\" >{'criterion': 'entropy', 'max_depth': 9, 'min_samples_leaf': 50}</td>\n",
       "      <td id=\"T_7c3b9_row2_col1\" class=\"data row2 col1\" >0.724638</td>\n",
       "      <td id=\"T_7c3b9_row2_col2\" class=\"data row2 col2\" >1</td>\n",
       "    </tr>\n",
       "    <tr>\n",
       "      <th id=\"T_7c3b9_level0_row3\" class=\"row_heading level0 row3\" >24</th>\n",
       "      <td id=\"T_7c3b9_row3_col0\" class=\"data row3 col0\" >{'criterion': 'entropy', 'max_depth': 7, 'min_samples_leaf': 50}</td>\n",
       "      <td id=\"T_7c3b9_row3_col1\" class=\"data row3 col1\" >0.724638</td>\n",
       "      <td id=\"T_7c3b9_row3_col2\" class=\"data row3 col2\" >1</td>\n",
       "    </tr>\n",
       "    <tr>\n",
       "      <th id=\"T_7c3b9_level0_row4\" class=\"row_heading level0 row4\" >12</th>\n",
       "      <td id=\"T_7c3b9_row4_col0\" class=\"data row4 col0\" >{'criterion': 'gini', 'max_depth': 9, 'min_samples_leaf': 50}</td>\n",
       "      <td id=\"T_7c3b9_row4_col1\" class=\"data row4 col1\" >0.722567</td>\n",
       "      <td id=\"T_7c3b9_row4_col2\" class=\"data row4 col2\" >5</td>\n",
       "    </tr>\n",
       "    <tr>\n",
       "      <th id=\"T_7c3b9_level0_row5\" class=\"row_heading level0 row5\" >8</th>\n",
       "      <td id=\"T_7c3b9_row5_col0\" class=\"data row5 col0\" >{'criterion': 'gini', 'max_depth': 7, 'min_samples_leaf': 50}</td>\n",
       "      <td id=\"T_7c3b9_row5_col1\" class=\"data row5 col1\" >0.722567</td>\n",
       "      <td id=\"T_7c3b9_row5_col2\" class=\"data row5 col2\" >5</td>\n",
       "    </tr>\n",
       "    <tr>\n",
       "      <th id=\"T_7c3b9_level0_row6\" class=\"row_heading level0 row6\" >0</th>\n",
       "      <td id=\"T_7c3b9_row6_col0\" class=\"data row6 col0\" >{'criterion': 'gini', 'max_depth': 3, 'min_samples_leaf': 50}</td>\n",
       "      <td id=\"T_7c3b9_row6_col1\" class=\"data row6 col1\" >0.722567</td>\n",
       "      <td id=\"T_7c3b9_row6_col2\" class=\"data row6 col2\" >5</td>\n",
       "    </tr>\n",
       "    <tr>\n",
       "      <th id=\"T_7c3b9_level0_row7\" class=\"row_heading level0 row7\" >4</th>\n",
       "      <td id=\"T_7c3b9_row7_col0\" class=\"data row7 col0\" >{'criterion': 'gini', 'max_depth': 5, 'min_samples_leaf': 50}</td>\n",
       "      <td id=\"T_7c3b9_row7_col1\" class=\"data row7 col1\" >0.722567</td>\n",
       "      <td id=\"T_7c3b9_row7_col2\" class=\"data row7 col2\" >5</td>\n",
       "    </tr>\n",
       "    <tr>\n",
       "      <th id=\"T_7c3b9_level0_row8\" class=\"row_heading level0 row8\" >5</th>\n",
       "      <td id=\"T_7c3b9_row8_col0\" class=\"data row8 col0\" >{'criterion': 'gini', 'max_depth': 5, 'min_samples_leaf': 100}</td>\n",
       "      <td id=\"T_7c3b9_row8_col1\" class=\"data row8 col1\" >0.681159</td>\n",
       "      <td id=\"T_7c3b9_row8_col2\" class=\"data row8 col2\" >9</td>\n",
       "    </tr>\n",
       "    <tr>\n",
       "      <th id=\"T_7c3b9_level0_row9\" class=\"row_heading level0 row9\" >21</th>\n",
       "      <td id=\"T_7c3b9_row9_col0\" class=\"data row9 col0\" >{'criterion': 'entropy', 'max_depth': 5, 'min_samples_leaf': 100}</td>\n",
       "      <td id=\"T_7c3b9_row9_col1\" class=\"data row9 col1\" >0.681159</td>\n",
       "      <td id=\"T_7c3b9_row9_col2\" class=\"data row9 col2\" >9</td>\n",
       "    </tr>\n",
       "    <tr>\n",
       "      <th id=\"T_7c3b9_level0_row10\" class=\"row_heading level0 row10\" >25</th>\n",
       "      <td id=\"T_7c3b9_row10_col0\" class=\"data row10 col0\" >{'criterion': 'entropy', 'max_depth': 7, 'min_samples_leaf': 100}</td>\n",
       "      <td id=\"T_7c3b9_row10_col1\" class=\"data row10 col1\" >0.681159</td>\n",
       "      <td id=\"T_7c3b9_row10_col2\" class=\"data row10 col2\" >9</td>\n",
       "    </tr>\n",
       "    <tr>\n",
       "      <th id=\"T_7c3b9_level0_row11\" class=\"row_heading level0 row11\" >29</th>\n",
       "      <td id=\"T_7c3b9_row11_col0\" class=\"data row11 col0\" >{'criterion': 'entropy', 'max_depth': 9, 'min_samples_leaf': 100}</td>\n",
       "      <td id=\"T_7c3b9_row11_col1\" class=\"data row11 col1\" >0.681159</td>\n",
       "      <td id=\"T_7c3b9_row11_col2\" class=\"data row11 col2\" >9</td>\n",
       "    </tr>\n",
       "    <tr>\n",
       "      <th id=\"T_7c3b9_level0_row12\" class=\"row_heading level0 row12\" >13</th>\n",
       "      <td id=\"T_7c3b9_row12_col0\" class=\"data row12 col0\" >{'criterion': 'gini', 'max_depth': 9, 'min_samples_leaf': 100}</td>\n",
       "      <td id=\"T_7c3b9_row12_col1\" class=\"data row12 col1\" >0.681159</td>\n",
       "      <td id=\"T_7c3b9_row12_col2\" class=\"data row12 col2\" >9</td>\n",
       "    </tr>\n",
       "    <tr>\n",
       "      <th id=\"T_7c3b9_level0_row13\" class=\"row_heading level0 row13\" >1</th>\n",
       "      <td id=\"T_7c3b9_row13_col0\" class=\"data row13 col0\" >{'criterion': 'gini', 'max_depth': 3, 'min_samples_leaf': 100}</td>\n",
       "      <td id=\"T_7c3b9_row13_col1\" class=\"data row13 col1\" >0.681159</td>\n",
       "      <td id=\"T_7c3b9_row13_col2\" class=\"data row13 col2\" >9</td>\n",
       "    </tr>\n",
       "    <tr>\n",
       "      <th id=\"T_7c3b9_level0_row14\" class=\"row_heading level0 row14\" >17</th>\n",
       "      <td id=\"T_7c3b9_row14_col0\" class=\"data row14 col0\" >{'criterion': 'entropy', 'max_depth': 3, 'min_samples_leaf': 100}</td>\n",
       "      <td id=\"T_7c3b9_row14_col1\" class=\"data row14 col1\" >0.681159</td>\n",
       "      <td id=\"T_7c3b9_row14_col2\" class=\"data row14 col2\" >9</td>\n",
       "    </tr>\n",
       "    <tr>\n",
       "      <th id=\"T_7c3b9_level0_row15\" class=\"row_heading level0 row15\" >9</th>\n",
       "      <td id=\"T_7c3b9_row15_col0\" class=\"data row15 col0\" >{'criterion': 'gini', 'max_depth': 7, 'min_samples_leaf': 100}</td>\n",
       "      <td id=\"T_7c3b9_row15_col1\" class=\"data row15 col1\" >0.681159</td>\n",
       "      <td id=\"T_7c3b9_row15_col2\" class=\"data row15 col2\" >9</td>\n",
       "    </tr>\n",
       "    <tr>\n",
       "      <th id=\"T_7c3b9_level0_row16\" class=\"row_heading level0 row16\" >26</th>\n",
       "      <td id=\"T_7c3b9_row16_col0\" class=\"data row16 col0\" >{'criterion': 'entropy', 'max_depth': 7, 'min_samples_leaf': 200}</td>\n",
       "      <td id=\"T_7c3b9_row16_col1\" class=\"data row16 col1\" >0.565217</td>\n",
       "      <td id=\"T_7c3b9_row16_col2\" class=\"data row16 col2\" >17</td>\n",
       "    </tr>\n",
       "    <tr>\n",
       "      <th id=\"T_7c3b9_level0_row17\" class=\"row_heading level0 row17\" >23</th>\n",
       "      <td id=\"T_7c3b9_row17_col0\" class=\"data row17 col0\" >{'criterion': 'entropy', 'max_depth': 5, 'min_samples_leaf': 500}</td>\n",
       "      <td id=\"T_7c3b9_row17_col1\" class=\"data row17 col1\" >0.565217</td>\n",
       "      <td id=\"T_7c3b9_row17_col2\" class=\"data row17 col2\" >17</td>\n",
       "    </tr>\n",
       "    <tr>\n",
       "      <th id=\"T_7c3b9_level0_row18\" class=\"row_heading level0 row18\" >22</th>\n",
       "      <td id=\"T_7c3b9_row18_col0\" class=\"data row18 col0\" >{'criterion': 'entropy', 'max_depth': 5, 'min_samples_leaf': 200}</td>\n",
       "      <td id=\"T_7c3b9_row18_col1\" class=\"data row18 col1\" >0.565217</td>\n",
       "      <td id=\"T_7c3b9_row18_col2\" class=\"data row18 col2\" >17</td>\n",
       "    </tr>\n",
       "    <tr>\n",
       "      <th id=\"T_7c3b9_level0_row19\" class=\"row_heading level0 row19\" >27</th>\n",
       "      <td id=\"T_7c3b9_row19_col0\" class=\"data row19 col0\" >{'criterion': 'entropy', 'max_depth': 7, 'min_samples_leaf': 500}</td>\n",
       "      <td id=\"T_7c3b9_row19_col1\" class=\"data row19 col1\" >0.565217</td>\n",
       "      <td id=\"T_7c3b9_row19_col2\" class=\"data row19 col2\" >17</td>\n",
       "    </tr>\n",
       "    <tr>\n",
       "      <th id=\"T_7c3b9_level0_row20\" class=\"row_heading level0 row20\" >15</th>\n",
       "      <td id=\"T_7c3b9_row20_col0\" class=\"data row20 col0\" >{'criterion': 'gini', 'max_depth': 9, 'min_samples_leaf': 500}</td>\n",
       "      <td id=\"T_7c3b9_row20_col1\" class=\"data row20 col1\" >0.565217</td>\n",
       "      <td id=\"T_7c3b9_row20_col2\" class=\"data row20 col2\" >17</td>\n",
       "    </tr>\n",
       "    <tr>\n",
       "      <th id=\"T_7c3b9_level0_row21\" class=\"row_heading level0 row21\" >18</th>\n",
       "      <td id=\"T_7c3b9_row21_col0\" class=\"data row21 col0\" >{'criterion': 'entropy', 'max_depth': 3, 'min_samples_leaf': 200}</td>\n",
       "      <td id=\"T_7c3b9_row21_col1\" class=\"data row21 col1\" >0.565217</td>\n",
       "      <td id=\"T_7c3b9_row21_col2\" class=\"data row21 col2\" >17</td>\n",
       "    </tr>\n",
       "    <tr>\n",
       "      <th id=\"T_7c3b9_level0_row22\" class=\"row_heading level0 row22\" >30</th>\n",
       "      <td id=\"T_7c3b9_row22_col0\" class=\"data row22 col0\" >{'criterion': 'entropy', 'max_depth': 9, 'min_samples_leaf': 200}</td>\n",
       "      <td id=\"T_7c3b9_row22_col1\" class=\"data row22 col1\" >0.565217</td>\n",
       "      <td id=\"T_7c3b9_row22_col2\" class=\"data row22 col2\" >17</td>\n",
       "    </tr>\n",
       "    <tr>\n",
       "      <th id=\"T_7c3b9_level0_row23\" class=\"row_heading level0 row23\" >14</th>\n",
       "      <td id=\"T_7c3b9_row23_col0\" class=\"data row23 col0\" >{'criterion': 'gini', 'max_depth': 9, 'min_samples_leaf': 200}</td>\n",
       "      <td id=\"T_7c3b9_row23_col1\" class=\"data row23 col1\" >0.565217</td>\n",
       "      <td id=\"T_7c3b9_row23_col2\" class=\"data row23 col2\" >17</td>\n",
       "    </tr>\n",
       "    <tr>\n",
       "      <th id=\"T_7c3b9_level0_row24\" class=\"row_heading level0 row24\" >11</th>\n",
       "      <td id=\"T_7c3b9_row24_col0\" class=\"data row24 col0\" >{'criterion': 'gini', 'max_depth': 7, 'min_samples_leaf': 500}</td>\n",
       "      <td id=\"T_7c3b9_row24_col1\" class=\"data row24 col1\" >0.565217</td>\n",
       "      <td id=\"T_7c3b9_row24_col2\" class=\"data row24 col2\" >17</td>\n",
       "    </tr>\n",
       "    <tr>\n",
       "      <th id=\"T_7c3b9_level0_row25\" class=\"row_heading level0 row25\" >10</th>\n",
       "      <td id=\"T_7c3b9_row25_col0\" class=\"data row25 col0\" >{'criterion': 'gini', 'max_depth': 7, 'min_samples_leaf': 200}</td>\n",
       "      <td id=\"T_7c3b9_row25_col1\" class=\"data row25 col1\" >0.565217</td>\n",
       "      <td id=\"T_7c3b9_row25_col2\" class=\"data row25 col2\" >17</td>\n",
       "    </tr>\n",
       "    <tr>\n",
       "      <th id=\"T_7c3b9_level0_row26\" class=\"row_heading level0 row26\" >7</th>\n",
       "      <td id=\"T_7c3b9_row26_col0\" class=\"data row26 col0\" >{'criterion': 'gini', 'max_depth': 5, 'min_samples_leaf': 500}</td>\n",
       "      <td id=\"T_7c3b9_row26_col1\" class=\"data row26 col1\" >0.565217</td>\n",
       "      <td id=\"T_7c3b9_row26_col2\" class=\"data row26 col2\" >17</td>\n",
       "    </tr>\n",
       "    <tr>\n",
       "      <th id=\"T_7c3b9_level0_row27\" class=\"row_heading level0 row27\" >6</th>\n",
       "      <td id=\"T_7c3b9_row27_col0\" class=\"data row27 col0\" >{'criterion': 'gini', 'max_depth': 5, 'min_samples_leaf': 200}</td>\n",
       "      <td id=\"T_7c3b9_row27_col1\" class=\"data row27 col1\" >0.565217</td>\n",
       "      <td id=\"T_7c3b9_row27_col2\" class=\"data row27 col2\" >17</td>\n",
       "    </tr>\n",
       "    <tr>\n",
       "      <th id=\"T_7c3b9_level0_row28\" class=\"row_heading level0 row28\" >3</th>\n",
       "      <td id=\"T_7c3b9_row28_col0\" class=\"data row28 col0\" >{'criterion': 'gini', 'max_depth': 3, 'min_samples_leaf': 500}</td>\n",
       "      <td id=\"T_7c3b9_row28_col1\" class=\"data row28 col1\" >0.565217</td>\n",
       "      <td id=\"T_7c3b9_row28_col2\" class=\"data row28 col2\" >17</td>\n",
       "    </tr>\n",
       "    <tr>\n",
       "      <th id=\"T_7c3b9_level0_row29\" class=\"row_heading level0 row29\" >2</th>\n",
       "      <td id=\"T_7c3b9_row29_col0\" class=\"data row29 col0\" >{'criterion': 'gini', 'max_depth': 3, 'min_samples_leaf': 200}</td>\n",
       "      <td id=\"T_7c3b9_row29_col1\" class=\"data row29 col1\" >0.565217</td>\n",
       "      <td id=\"T_7c3b9_row29_col2\" class=\"data row29 col2\" >17</td>\n",
       "    </tr>\n",
       "    <tr>\n",
       "      <th id=\"T_7c3b9_level0_row30\" class=\"row_heading level0 row30\" >19</th>\n",
       "      <td id=\"T_7c3b9_row30_col0\" class=\"data row30 col0\" >{'criterion': 'entropy', 'max_depth': 3, 'min_samples_leaf': 500}</td>\n",
       "      <td id=\"T_7c3b9_row30_col1\" class=\"data row30 col1\" >0.565217</td>\n",
       "      <td id=\"T_7c3b9_row30_col2\" class=\"data row30 col2\" >17</td>\n",
       "    </tr>\n",
       "    <tr>\n",
       "      <th id=\"T_7c3b9_level0_row31\" class=\"row_heading level0 row31\" >31</th>\n",
       "      <td id=\"T_7c3b9_row31_col0\" class=\"data row31 col0\" >{'criterion': 'entropy', 'max_depth': 9, 'min_samples_leaf': 500}</td>\n",
       "      <td id=\"T_7c3b9_row31_col1\" class=\"data row31 col1\" >0.565217</td>\n",
       "      <td id=\"T_7c3b9_row31_col2\" class=\"data row31 col2\" >17</td>\n",
       "    </tr>\n",
       "  </tbody>\n",
       "</table>\n"
      ],
      "text/plain": [
       "<pandas.io.formats.style.Styler at 0x14f8e98a0>"
      ]
     },
     "execution_count": 44,
     "metadata": {},
     "output_type": "execute_result"
    }
   ],
   "source": [
    "df_results = pd.DataFrame(model_grid.cv_results_)\n",
    "\n",
    "(df_results\n",
    " .loc[:, ['params', 'mean_test_score', 'rank_test_score']]\n",
    " .sort_values(by='rank_test_score')\n",
    " .style\n",
    " )"
   ]
  },
  {
   "cell_type": "code",
   "execution_count": 45,
   "id": "ebf7c29c",
   "metadata": {
    "execution": {
     "iopub.execute_input": "2024-05-10T12:01:07.086162Z",
     "iopub.status.busy": "2024-05-10T12:01:07.086047Z",
     "iopub.status.idle": "2024-05-10T12:01:07.088074Z",
     "shell.execute_reply": "2024-05-10T12:01:07.087855Z"
    },
    "papermill": {
     "duration": 0.006942,
     "end_time": "2024-05-10T12:01:07.088820",
     "exception": false,
     "start_time": "2024-05-10T12:01:07.081878",
     "status": "completed"
    },
    "tags": []
   },
   "outputs": [
    {
     "data": {
      "text/plain": [
       "0.7246376811594203"
      ]
     },
     "execution_count": 45,
     "metadata": {},
     "output_type": "execute_result"
    }
   ],
   "source": [
    "model_grid.best_score_"
   ]
  },
  {
   "cell_type": "code",
   "execution_count": 46,
   "id": "9b06fc2c",
   "metadata": {
    "execution": {
     "iopub.execute_input": "2024-05-10T12:01:07.099273Z",
     "iopub.status.busy": "2024-05-10T12:01:07.099115Z",
     "iopub.status.idle": "2024-05-10T12:01:07.103089Z",
     "shell.execute_reply": "2024-05-10T12:01:07.102394Z"
    },
    "papermill": {
     "duration": 0.010428,
     "end_time": "2024-05-10T12:01:07.104258",
     "exception": false,
     "start_time": "2024-05-10T12:01:07.093830",
     "status": "completed"
    },
    "tags": []
   },
   "outputs": [
    {
     "data": {
      "text/plain": [
       "0.7053140096618358"
      ]
     },
     "execution_count": 46,
     "metadata": {},
     "output_type": "execute_result"
    }
   ],
   "source": [
    "model_grid.score(X_test, y_test)"
   ]
  },
  {
   "attachments": {},
   "cell_type": "markdown",
   "id": "337b72f7",
   "metadata": {},
   "source": [
    "## Multiple models with grid search"
   ]
  },
  {
   "attachments": {},
   "cell_type": "markdown",
   "id": "c3ea4cc0",
   "metadata": {},
   "source": [
    "### Preprocess data\n",
    "\n",
    "Some models require different preprocessing steps because their algorithms optimize the math equation numbers by calculating distances between data points."
   ]
  },
  {
   "attachments": {},
   "cell_type": "markdown",
   "id": "6661ed4b",
   "metadata": {},
   "source": [
    "### Models and param grids"
   ]
  },
  {
   "cell_type": "code",
   "execution_count": 56,
   "id": "bdab7306",
   "metadata": {},
   "outputs": [],
   "source": [
    "from sklearn.linear_model import LogisticRegression\n",
    "from sklearn.tree import DecisionTreeClassifier\n",
    "from sklearn.ensemble import RandomForestClassifier\n",
    "\n",
    "models = {\n",
    "    'Logistic Regression': (LogisticRegression(max_iter=1000), {\n",
    "        'C': [0.001, 0.01, 0.1, 1, 10, 100],\n",
    "    }),\n",
    "    'Decision Tree': (DecisionTreeClassifier(), {\n",
    "        'max_depth': [3, 5, 7, 9],\n",
    "        'min_samples_leaf': [50, 100, 200, 500],\n",
    "        'criterion': ['gini', 'entropy']\n",
    "    }),\n",
    "    'Random Forest': (RandomForestClassifier(), {\n",
    "        'max_depth': [3, 5, 7, 9],\n",
    "        'min_samples_leaf': [50, 100, 200, 500],\n",
    "        'criterion': ['gini', 'entropy']\n",
    "    })\n",
    "}"
   ]
  },
  {
   "attachments": {},
   "cell_type": "markdown",
   "id": "c14e64b1",
   "metadata": {},
   "source": [
    "### Perform GridSearchCV for each model"
   ]
  },
  {
   "cell_type": "code",
   "execution_count": 57,
   "id": "3f2d323d",
   "metadata": {},
   "outputs": [
    {
     "name": "stdout",
     "output_type": "stream",
     "text": [
      "Performing grid search for Logistic Regression...\n",
      "Best parameters: {'C': 10}\n",
      "Best cross-validation score: 0.7226\n",
      "Test set score: 0.7101\n",
      "\n",
      "Performing grid search for Decision Tree...\n",
      "Best parameters: {'criterion': 'entropy', 'max_depth': 3, 'min_samples_leaf': 50}\n",
      "Best cross-validation score: 0.7246\n",
      "Test set score: 0.7053\n",
      "\n",
      "Performing grid search for Random Forest...\n",
      "Best parameters: {'criterion': 'entropy', 'max_depth': 5, 'min_samples_leaf': 50}\n",
      "Best cross-validation score: 0.7640\n",
      "Test set score: 0.6908\n",
      "\n"
     ]
    }
   ],
   "source": [
    "results = {}\n",
    "\n",
    "for name, (model, param_grid) in models.items():\n",
    "    print(f\"Performing grid search for {name}...\")\n",
    "    grid_search = GridSearchCV(model, param_grid, cv=3, scoring='accuracy', n_jobs=-1)\n",
    "    grid_search.fit(X_train, y_train)\n",
    "    \n",
    "    # Store results\n",
    "    results[name] = {\n",
    "        'best_params': grid_search.best_params_,\n",
    "        'best_score': grid_search.best_score_,\n",
    "        'test_score': grid_search.score(X_test, y_test)\n",
    "    }\n",
    "    \n",
    "    print(f\"Best parameters: {grid_search.best_params_}\")\n",
    "    print(f\"Best cross-validation score: {grid_search.best_score_:.4f}\")\n",
    "    print(f\"Test set score: {grid_search.score(X_test, y_test):.4f}\")\n",
    "    print()"
   ]
  },
  {
   "attachments": {},
   "cell_type": "markdown",
   "id": "fa3ee545",
   "metadata": {},
   "source": [
    "### Evaluation"
   ]
  },
  {
   "cell_type": "code",
   "execution_count": 58,
   "id": "2560b911",
   "metadata": {},
   "outputs": [
    {
     "data": {
      "text/html": [
       "<div>\n",
       "<style scoped>\n",
       "    .dataframe tbody tr th:only-of-type {\n",
       "        vertical-align: middle;\n",
       "    }\n",
       "\n",
       "    .dataframe tbody tr th {\n",
       "        vertical-align: top;\n",
       "    }\n",
       "\n",
       "    .dataframe thead th {\n",
       "        text-align: right;\n",
       "    }\n",
       "</style>\n",
       "<table border=\"1\" class=\"dataframe\">\n",
       "  <thead>\n",
       "    <tr style=\"text-align: right;\">\n",
       "      <th></th>\n",
       "      <th>best_params</th>\n",
       "      <th>best_score</th>\n",
       "      <th>test_score</th>\n",
       "    </tr>\n",
       "  </thead>\n",
       "  <tbody>\n",
       "    <tr>\n",
       "      <th>Logistic Regression</th>\n",
       "      <td>{'C': 10}</td>\n",
       "      <td>0.722567</td>\n",
       "      <td>0.710145</td>\n",
       "    </tr>\n",
       "    <tr>\n",
       "      <th>Decision Tree</th>\n",
       "      <td>{'criterion': 'entropy', 'max_depth': 3, 'min_...</td>\n",
       "      <td>0.724638</td>\n",
       "      <td>0.705314</td>\n",
       "    </tr>\n",
       "    <tr>\n",
       "      <th>Random Forest</th>\n",
       "      <td>{'criterion': 'entropy', 'max_depth': 5, 'min_...</td>\n",
       "      <td>0.763975</td>\n",
       "      <td>0.690821</td>\n",
       "    </tr>\n",
       "  </tbody>\n",
       "</table>\n",
       "</div>"
      ],
      "text/plain": [
       "                                                           best_params  \\\n",
       "Logistic Regression                                          {'C': 10}   \n",
       "Decision Tree        {'criterion': 'entropy', 'max_depth': 3, 'min_...   \n",
       "Random Forest        {'criterion': 'entropy', 'max_depth': 5, 'min_...   \n",
       "\n",
       "                    best_score test_score  \n",
       "Logistic Regression   0.722567   0.710145  \n",
       "Decision Tree         0.724638   0.705314  \n",
       "Random Forest         0.763975   0.690821  "
      ]
     },
     "execution_count": 58,
     "metadata": {},
     "output_type": "execute_result"
    }
   ],
   "source": [
    "pd.DataFrame(results).T.sort_values(by='test_score', ascending=False)"
   ]
  },
  {
   "attachments": {},
   "cell_type": "markdown",
   "id": "d04c95a2",
   "metadata": {},
   "source": [
    "### Retrain with best model"
   ]
  },
  {
   "cell_type": "code",
   "execution_count": 59,
   "id": "0fba6aa3",
   "metadata": {},
   "outputs": [
    {
     "data": {
      "text/plain": [
       "'Logistic Regression'"
      ]
     },
     "execution_count": 59,
     "metadata": {},
     "output_type": "execute_result"
    }
   ],
   "source": [
    "best_model_name = max(results, key=lambda x: results[x]['test_score'])\n",
    "best_model_name"
   ]
  },
  {
   "cell_type": "code",
   "execution_count": 60,
   "id": "b1055320",
   "metadata": {},
   "outputs": [
    {
     "data": {
      "text/plain": [
       "{'C': 10}"
      ]
     },
     "execution_count": 60,
     "metadata": {},
     "output_type": "execute_result"
    }
   ],
   "source": [
    "best_model_params = results[best_model_name]['best_params']\n",
    "best_model_params"
   ]
  },
  {
   "cell_type": "code",
   "execution_count": 61,
   "id": "9cce3d16",
   "metadata": {},
   "outputs": [
    {
     "data": {
      "text/html": [
       "<style>#sk-container-id-7 {color: black;}#sk-container-id-7 pre{padding: 0;}#sk-container-id-7 div.sk-toggleable {background-color: white;}#sk-container-id-7 label.sk-toggleable__label {cursor: pointer;display: block;width: 100%;margin-bottom: 0;padding: 0.3em;box-sizing: border-box;text-align: center;}#sk-container-id-7 label.sk-toggleable__label-arrow:before {content: \"▸\";float: left;margin-right: 0.25em;color: #696969;}#sk-container-id-7 label.sk-toggleable__label-arrow:hover:before {color: black;}#sk-container-id-7 div.sk-estimator:hover label.sk-toggleable__label-arrow:before {color: black;}#sk-container-id-7 div.sk-toggleable__content {max-height: 0;max-width: 0;overflow: hidden;text-align: left;background-color: #f0f8ff;}#sk-container-id-7 div.sk-toggleable__content pre {margin: 0.2em;color: black;border-radius: 0.25em;background-color: #f0f8ff;}#sk-container-id-7 input.sk-toggleable__control:checked~div.sk-toggleable__content {max-height: 200px;max-width: 100%;overflow: auto;}#sk-container-id-7 input.sk-toggleable__control:checked~label.sk-toggleable__label-arrow:before {content: \"▾\";}#sk-container-id-7 div.sk-estimator input.sk-toggleable__control:checked~label.sk-toggleable__label {background-color: #d4ebff;}#sk-container-id-7 div.sk-label input.sk-toggleable__control:checked~label.sk-toggleable__label {background-color: #d4ebff;}#sk-container-id-7 input.sk-hidden--visually {border: 0;clip: rect(1px 1px 1px 1px);clip: rect(1px, 1px, 1px, 1px);height: 1px;margin: -1px;overflow: hidden;padding: 0;position: absolute;width: 1px;}#sk-container-id-7 div.sk-estimator {font-family: monospace;background-color: #f0f8ff;border: 1px dotted black;border-radius: 0.25em;box-sizing: border-box;margin-bottom: 0.5em;}#sk-container-id-7 div.sk-estimator:hover {background-color: #d4ebff;}#sk-container-id-7 div.sk-parallel-item::after {content: \"\";width: 100%;border-bottom: 1px solid gray;flex-grow: 1;}#sk-container-id-7 div.sk-label:hover label.sk-toggleable__label {background-color: #d4ebff;}#sk-container-id-7 div.sk-serial::before {content: \"\";position: absolute;border-left: 1px solid gray;box-sizing: border-box;top: 0;bottom: 0;left: 50%;z-index: 0;}#sk-container-id-7 div.sk-serial {display: flex;flex-direction: column;align-items: center;background-color: white;padding-right: 0.2em;padding-left: 0.2em;position: relative;}#sk-container-id-7 div.sk-item {position: relative;z-index: 1;}#sk-container-id-7 div.sk-parallel {display: flex;align-items: stretch;justify-content: center;background-color: white;position: relative;}#sk-container-id-7 div.sk-item::before, #sk-container-id-7 div.sk-parallel-item::before {content: \"\";position: absolute;border-left: 1px solid gray;box-sizing: border-box;top: 0;bottom: 0;left: 50%;z-index: -1;}#sk-container-id-7 div.sk-parallel-item {display: flex;flex-direction: column;z-index: 1;position: relative;background-color: white;}#sk-container-id-7 div.sk-parallel-item:first-child::after {align-self: flex-end;width: 50%;}#sk-container-id-7 div.sk-parallel-item:last-child::after {align-self: flex-start;width: 50%;}#sk-container-id-7 div.sk-parallel-item:only-child::after {width: 0;}#sk-container-id-7 div.sk-dashed-wrapped {border: 1px dashed gray;margin: 0 0.4em 0.5em 0.4em;box-sizing: border-box;padding-bottom: 0.4em;background-color: white;}#sk-container-id-7 div.sk-label label {font-family: monospace;font-weight: bold;display: inline-block;line-height: 1.2em;}#sk-container-id-7 div.sk-label-container {text-align: center;}#sk-container-id-7 div.sk-container {/* jupyter's `normalize.less` sets `[hidden] { display: none; }` but bootstrap.min.css set `[hidden] { display: none !important; }` so we also need the `!important` here to be able to override the default hidden behavior on the sphinx rendered scikit-learn.org. See: https://github.com/scikit-learn/scikit-learn/issues/21755 */display: inline-block !important;position: relative;}#sk-container-id-7 div.sk-text-repr-fallback {display: none;}</style><div id=\"sk-container-id-7\" class=\"sk-top-container\"><div class=\"sk-text-repr-fallback\"><pre>LogisticRegression(C=10, max_iter=1000)</pre><b>In a Jupyter environment, please rerun this cell to show the HTML representation or trust the notebook. <br />On GitHub, the HTML representation is unable to render, please try loading this page with nbviewer.org.</b></div><div class=\"sk-container\" hidden><div class=\"sk-item\"><div class=\"sk-estimator sk-toggleable\"><input class=\"sk-toggleable__control sk-hidden--visually\" id=\"sk-estimator-id-11\" type=\"checkbox\" checked><label for=\"sk-estimator-id-11\" class=\"sk-toggleable__label sk-toggleable__label-arrow\">LogisticRegression</label><div class=\"sk-toggleable__content\"><pre>LogisticRegression(C=10, max_iter=1000)</pre></div></div></div></div></div>"
      ],
      "text/plain": [
       "LogisticRegression(C=10, max_iter=1000)"
      ]
     },
     "execution_count": 61,
     "metadata": {},
     "output_type": "execute_result"
    }
   ],
   "source": [
    "model = models[best_model_name][0]\n",
    "model.set_params(**best_model_params)"
   ]
  },
  {
   "cell_type": "code",
   "execution_count": 62,
   "id": "a57d8b9c",
   "metadata": {},
   "outputs": [
    {
     "data": {
      "text/html": [
       "<style>#sk-container-id-8 {color: black;}#sk-container-id-8 pre{padding: 0;}#sk-container-id-8 div.sk-toggleable {background-color: white;}#sk-container-id-8 label.sk-toggleable__label {cursor: pointer;display: block;width: 100%;margin-bottom: 0;padding: 0.3em;box-sizing: border-box;text-align: center;}#sk-container-id-8 label.sk-toggleable__label-arrow:before {content: \"▸\";float: left;margin-right: 0.25em;color: #696969;}#sk-container-id-8 label.sk-toggleable__label-arrow:hover:before {color: black;}#sk-container-id-8 div.sk-estimator:hover label.sk-toggleable__label-arrow:before {color: black;}#sk-container-id-8 div.sk-toggleable__content {max-height: 0;max-width: 0;overflow: hidden;text-align: left;background-color: #f0f8ff;}#sk-container-id-8 div.sk-toggleable__content pre {margin: 0.2em;color: black;border-radius: 0.25em;background-color: #f0f8ff;}#sk-container-id-8 input.sk-toggleable__control:checked~div.sk-toggleable__content {max-height: 200px;max-width: 100%;overflow: auto;}#sk-container-id-8 input.sk-toggleable__control:checked~label.sk-toggleable__label-arrow:before {content: \"▾\";}#sk-container-id-8 div.sk-estimator input.sk-toggleable__control:checked~label.sk-toggleable__label {background-color: #d4ebff;}#sk-container-id-8 div.sk-label input.sk-toggleable__control:checked~label.sk-toggleable__label {background-color: #d4ebff;}#sk-container-id-8 input.sk-hidden--visually {border: 0;clip: rect(1px 1px 1px 1px);clip: rect(1px, 1px, 1px, 1px);height: 1px;margin: -1px;overflow: hidden;padding: 0;position: absolute;width: 1px;}#sk-container-id-8 div.sk-estimator {font-family: monospace;background-color: #f0f8ff;border: 1px dotted black;border-radius: 0.25em;box-sizing: border-box;margin-bottom: 0.5em;}#sk-container-id-8 div.sk-estimator:hover {background-color: #d4ebff;}#sk-container-id-8 div.sk-parallel-item::after {content: \"\";width: 100%;border-bottom: 1px solid gray;flex-grow: 1;}#sk-container-id-8 div.sk-label:hover label.sk-toggleable__label {background-color: #d4ebff;}#sk-container-id-8 div.sk-serial::before {content: \"\";position: absolute;border-left: 1px solid gray;box-sizing: border-box;top: 0;bottom: 0;left: 50%;z-index: 0;}#sk-container-id-8 div.sk-serial {display: flex;flex-direction: column;align-items: center;background-color: white;padding-right: 0.2em;padding-left: 0.2em;position: relative;}#sk-container-id-8 div.sk-item {position: relative;z-index: 1;}#sk-container-id-8 div.sk-parallel {display: flex;align-items: stretch;justify-content: center;background-color: white;position: relative;}#sk-container-id-8 div.sk-item::before, #sk-container-id-8 div.sk-parallel-item::before {content: \"\";position: absolute;border-left: 1px solid gray;box-sizing: border-box;top: 0;bottom: 0;left: 50%;z-index: -1;}#sk-container-id-8 div.sk-parallel-item {display: flex;flex-direction: column;z-index: 1;position: relative;background-color: white;}#sk-container-id-8 div.sk-parallel-item:first-child::after {align-self: flex-end;width: 50%;}#sk-container-id-8 div.sk-parallel-item:last-child::after {align-self: flex-start;width: 50%;}#sk-container-id-8 div.sk-parallel-item:only-child::after {width: 0;}#sk-container-id-8 div.sk-dashed-wrapped {border: 1px dashed gray;margin: 0 0.4em 0.5em 0.4em;box-sizing: border-box;padding-bottom: 0.4em;background-color: white;}#sk-container-id-8 div.sk-label label {font-family: monospace;font-weight: bold;display: inline-block;line-height: 1.2em;}#sk-container-id-8 div.sk-label-container {text-align: center;}#sk-container-id-8 div.sk-container {/* jupyter's `normalize.less` sets `[hidden] { display: none; }` but bootstrap.min.css set `[hidden] { display: none !important; }` so we also need the `!important` here to be able to override the default hidden behavior on the sphinx rendered scikit-learn.org. See: https://github.com/scikit-learn/scikit-learn/issues/21755 */display: inline-block !important;position: relative;}#sk-container-id-8 div.sk-text-repr-fallback {display: none;}</style><div id=\"sk-container-id-8\" class=\"sk-top-container\"><div class=\"sk-text-repr-fallback\"><pre>LogisticRegression(C=10, max_iter=1000)</pre><b>In a Jupyter environment, please rerun this cell to show the HTML representation or trust the notebook. <br />On GitHub, the HTML representation is unable to render, please try loading this page with nbviewer.org.</b></div><div class=\"sk-container\" hidden><div class=\"sk-item\"><div class=\"sk-estimator sk-toggleable\"><input class=\"sk-toggleable__control sk-hidden--visually\" id=\"sk-estimator-id-12\" type=\"checkbox\" checked><label for=\"sk-estimator-id-12\" class=\"sk-toggleable__label sk-toggleable__label-arrow\">LogisticRegression</label><div class=\"sk-toggleable__content\"><pre>LogisticRegression(C=10, max_iter=1000)</pre></div></div></div></div></div>"
      ],
      "text/plain": [
       "LogisticRegression(C=10, max_iter=1000)"
      ]
     },
     "execution_count": 62,
     "metadata": {},
     "output_type": "execute_result"
    }
   ],
   "source": [
    "model.fit(X_train, y_train)"
   ]
  },
  {
   "cell_type": "code",
   "execution_count": 63,
   "id": "00172542",
   "metadata": {},
   "outputs": [
    {
     "data": {
      "text/plain": [
       "0.7287784679089027"
      ]
     },
     "execution_count": 63,
     "metadata": {},
     "output_type": "execute_result"
    }
   ],
   "source": [
    "model.score(X_train, y_train)"
   ]
  },
  {
   "cell_type": "code",
   "execution_count": 64,
   "id": "b3acccb1",
   "metadata": {},
   "outputs": [
    {
     "data": {
      "text/plain": [
       "0.7101449275362319"
      ]
     },
     "execution_count": 64,
     "metadata": {},
     "output_type": "execute_result"
    }
   ],
   "source": [
    "model.score(X_test, y_test)"
   ]
  }
 ],
 "metadata": {
  "kernelspec": {
   "display_name": "work",
   "language": "python",
   "name": "python3"
  },
  "language_info": {
   "codemirror_mode": {
    "name": "ipython",
    "version": 3
   },
   "file_extension": ".py",
   "mimetype": "text/x-python",
   "name": "python",
   "nbconvert_exporter": "python",
   "pygments_lexer": "ipython3",
   "version": "3.10.12"
  },
  "papermill": {
   "default_parameters": {},
   "duration": 13.749778,
   "end_time": "2024-05-10T12:01:18.232193",
   "environment_variables": {},
   "exception": null,
   "input_path": "/Users/sota/Dropbox/2 Business/1 Datons/2 Areas/Courses/03 ML/materials/notebooks/20_Model Selection/02_Hyperparameters/B.ipynb",
   "output_path": "/Users/sota/Dropbox/2 Business/1 Datons/2 Areas/Courses/03 ML/materials/notebooks/20_Model Selection/02_Hyperparameters/B.ipynb",
   "parameters": {},
   "start_time": "2024-05-10T12:01:04.482415",
   "version": "2.5.0"
  }
 },
 "nbformat": 4,
 "nbformat_minor": 5
}
