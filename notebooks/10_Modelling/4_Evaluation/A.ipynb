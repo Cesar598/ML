{
 "cells": [
  {
   "attachments": {},
   "cell_type": "markdown",
   "id": "87eec761-64bc-4ecb-bf2e-cb06d6dfd1d5",
   "metadata": {
    "papermill": {
     "duration": 0.0056,
     "end_time": "2024-05-10T12:01:22.546231",
     "exception": false,
     "start_time": "2024-05-10T12:01:22.540631",
     "status": "completed"
    },
    "tags": []
   },
   "source": [
    "# Evaluation metrics based on model type"
   ]
  },
  {
   "cell_type": "code",
   "execution_count": null,
   "id": "c2316db2-d8e8-46f5-8d4c-d483a3455156",
   "metadata": {
    "papermill": {
     "duration": 0.289318,
     "end_time": "2024-05-10T12:01:22.840072",
     "exception": false,
     "start_time": "2024-05-10T12:01:22.550754",
     "status": "completed"
    },
    "tags": []
   },
   "outputs": [],
   "source": []
  },
  {
   "cell_type": "code",
   "execution_count": null,
   "id": "2806c5c2-1fa3-45e7-8379-9ae06e83097d",
   "metadata": {
    "papermill": {
     "duration": 0.009196,
     "end_time": "2024-05-10T12:01:22.851825",
     "exception": false,
     "start_time": "2024-05-10T12:01:22.842629",
     "status": "completed"
    },
    "scrolled": true,
    "tags": []
   },
   "outputs": [
    {
     "data": {
      "text/plain": [
       "['accuracy_score',\n",
       " 'adjusted_mutual_info_score',\n",
       " 'adjusted_rand_score',\n",
       " 'auc',\n",
       " 'average_precision_score',\n",
       " 'balanced_accuracy_score',\n",
       " 'calinski_harabasz_score',\n",
       " 'check_scoring',\n",
       " 'class_likelihood_ratios',\n",
       " 'classification_report',\n",
       " 'cluster',\n",
       " 'cohen_kappa_score',\n",
       " 'completeness_score',\n",
       " 'ConfusionMatrixDisplay',\n",
       " 'confusion_matrix',\n",
       " 'consensus_score',\n",
       " 'coverage_error',\n",
       " 'd2_tweedie_score',\n",
       " 'd2_absolute_error_score',\n",
       " 'd2_pinball_score',\n",
       " 'dcg_score',\n",
       " 'davies_bouldin_score',\n",
       " 'DetCurveDisplay',\n",
       " 'det_curve',\n",
       " 'DistanceMetric',\n",
       " 'euclidean_distances',\n",
       " 'explained_variance_score',\n",
       " 'f1_score',\n",
       " 'fbeta_score',\n",
       " 'fowlkes_mallows_score',\n",
       " 'get_scorer',\n",
       " 'hamming_loss',\n",
       " 'hinge_loss',\n",
       " 'homogeneity_completeness_v_measure',\n",
       " 'homogeneity_score',\n",
       " 'jaccard_score',\n",
       " 'label_ranking_average_precision_score',\n",
       " 'label_ranking_loss',\n",
       " 'log_loss',\n",
       " 'make_scorer',\n",
       " 'nan_euclidean_distances',\n",
       " 'matthews_corrcoef',\n",
       " 'max_error',\n",
       " 'mean_absolute_error',\n",
       " 'mean_squared_error',\n",
       " 'mean_squared_log_error',\n",
       " 'mean_pinball_loss',\n",
       " 'mean_poisson_deviance',\n",
       " 'mean_gamma_deviance',\n",
       " 'mean_tweedie_deviance',\n",
       " 'median_absolute_error',\n",
       " 'mean_absolute_percentage_error',\n",
       " 'multilabel_confusion_matrix',\n",
       " 'mutual_info_score',\n",
       " 'ndcg_score',\n",
       " 'normalized_mutual_info_score',\n",
       " 'pair_confusion_matrix',\n",
       " 'pairwise_distances',\n",
       " 'pairwise_distances_argmin',\n",
       " 'pairwise_distances_argmin_min',\n",
       " 'pairwise_distances_chunked',\n",
       " 'pairwise_kernels',\n",
       " 'PrecisionRecallDisplay',\n",
       " 'precision_recall_curve',\n",
       " 'precision_recall_fscore_support',\n",
       " 'precision_score',\n",
       " 'PredictionErrorDisplay',\n",
       " 'r2_score',\n",
       " 'rand_score',\n",
       " 'recall_score',\n",
       " 'RocCurveDisplay',\n",
       " 'roc_auc_score',\n",
       " 'roc_curve',\n",
       " 'get_scorer_names',\n",
       " 'silhouette_samples',\n",
       " 'silhouette_score',\n",
       " 'top_k_accuracy_score',\n",
       " 'v_measure_score',\n",
       " 'zero_one_loss',\n",
       " 'brier_score_loss']"
      ]
     },
     "execution_count": null,
     "metadata": {},
     "output_type": "execute_result"
    }
   ],
   "source": []
  },
  {
   "attachments": {},
   "cell_type": "markdown",
   "id": "e01a739a-2cbb-44be-b4f8-45193c53af03",
   "metadata": {
    "papermill": {
     "duration": 0.002312,
     "end_time": "2024-05-10T12:01:22.856521",
     "exception": false,
     "start_time": "2024-05-10T12:01:22.854209",
     "status": "completed"
    },
    "tags": []
   },
   "source": [
    "## Classifiers"
   ]
  },
  {
   "attachments": {},
   "cell_type": "markdown",
   "id": "8c6c58b8-11f8-4549-922d-7c0fbe4b7a9d",
   "metadata": {
    "papermill": {
     "duration": 0.002096,
     "end_time": "2024-05-10T12:01:22.860885",
     "exception": false,
     "start_time": "2024-05-10T12:01:22.858789",
     "status": "completed"
    },
    "tags": []
   },
   "source": [
    "### Load data"
   ]
  },
  {
   "cell_type": "code",
   "execution_count": null,
   "id": "300a735b-4ad0-44f0-b7c8-8370323ed453",
   "metadata": {
    "papermill": {
     "duration": 0.009002,
     "end_time": "2024-05-10T12:01:22.871925",
     "exception": false,
     "start_time": "2024-05-10T12:01:22.862923",
     "status": "completed"
    },
    "tags": []
   },
   "outputs": [
    {
     "data": {
      "text/html": [
       "<div>\n",
       "<style scoped>\n",
       "    .dataframe tbody tr th:only-of-type {\n",
       "        vertical-align: middle;\n",
       "    }\n",
       "\n",
       "    .dataframe tbody tr th {\n",
       "        vertical-align: top;\n",
       "    }\n",
       "\n",
       "    .dataframe thead th {\n",
       "        text-align: right;\n",
       "    }\n",
       "</style>\n",
       "<table border=\"1\" class=\"dataframe\">\n",
       "  <thead>\n",
       "    <tr style=\"text-align: right;\">\n",
       "      <th></th>\n",
       "      <th>Gender</th>\n",
       "      <th>Age</th>\n",
       "      <th>Married</th>\n",
       "      <th>YearsEmployed</th>\n",
       "      <th>Income</th>\n",
       "      <th>Approved</th>\n",
       "    </tr>\n",
       "  </thead>\n",
       "  <tbody>\n",
       "    <tr>\n",
       "      <th>0</th>\n",
       "      <td>1</td>\n",
       "      <td>30</td>\n",
       "      <td>1</td>\n",
       "      <td>1.25</td>\n",
       "      <td>0</td>\n",
       "      <td>1</td>\n",
       "    </tr>\n",
       "    <tr>\n",
       "      <th>1</th>\n",
       "      <td>0</td>\n",
       "      <td>58</td>\n",
       "      <td>1</td>\n",
       "      <td>3.04</td>\n",
       "      <td>560</td>\n",
       "      <td>1</td>\n",
       "    </tr>\n",
       "    <tr>\n",
       "      <th>...</th>\n",
       "      <td>...</td>\n",
       "      <td>...</td>\n",
       "      <td>...</td>\n",
       "      <td>...</td>\n",
       "      <td>...</td>\n",
       "      <td>...</td>\n",
       "    </tr>\n",
       "    <tr>\n",
       "      <th>688</th>\n",
       "      <td>1</td>\n",
       "      <td>17</td>\n",
       "      <td>1</td>\n",
       "      <td>0.04</td>\n",
       "      <td>750</td>\n",
       "      <td>0</td>\n",
       "    </tr>\n",
       "    <tr>\n",
       "      <th>689</th>\n",
       "      <td>1</td>\n",
       "      <td>35</td>\n",
       "      <td>1</td>\n",
       "      <td>8.29</td>\n",
       "      <td>0</td>\n",
       "      <td>0</td>\n",
       "    </tr>\n",
       "  </tbody>\n",
       "</table>\n",
       "<p>690 rows × 6 columns</p>\n",
       "</div>"
      ],
      "text/plain": [
       "     Gender  Age  Married  YearsEmployed  Income  Approved\n",
       "0         1   30        1           1.25       0         1\n",
       "1         0   58        1           3.04     560         1\n",
       "..      ...  ...      ...            ...     ...       ...\n",
       "688       1   17        1           0.04     750         0\n",
       "689       1   35        1           8.29       0         0\n",
       "\n",
       "[690 rows x 6 columns]"
      ]
     },
     "execution_count": null,
     "metadata": {},
     "output_type": "execute_result"
    }
   ],
   "source": []
  },
  {
   "attachments": {},
   "cell_type": "markdown",
   "id": "8cd155e0-255d-4df0-8cc6-45cbeb2d9769",
   "metadata": {
    "papermill": {
     "duration": 0.002237,
     "end_time": "2024-05-10T12:01:22.876697",
     "exception": false,
     "start_time": "2024-05-10T12:01:22.874460",
     "status": "completed"
    },
    "tags": []
   },
   "source": [
    "### Feature selection"
   ]
  },
  {
   "cell_type": "code",
   "execution_count": null,
   "id": "612a5622-f0ed-44f6-9718-9c4b9d2102c8",
   "metadata": {
    "papermill": {
     "duration": 0.005507,
     "end_time": "2024-05-10T12:01:22.884381",
     "exception": false,
     "start_time": "2024-05-10T12:01:22.878874",
     "status": "completed"
    },
    "tags": []
   },
   "outputs": [],
   "source": []
  },
  {
   "attachments": {},
   "cell_type": "markdown",
   "id": "136d2335-714c-48b5-b3d5-a9994e3ba501",
   "metadata": {
    "papermill": {
     "duration": 0.002242,
     "end_time": "2024-05-10T12:01:22.889057",
     "exception": false,
     "start_time": "2024-05-10T12:01:22.886815",
     "status": "completed"
    },
    "tags": []
   },
   "source": [
    "### Train test split"
   ]
  },
  {
   "cell_type": "code",
   "execution_count": null,
   "id": "3cff644c-fb8c-4a11-b4a2-6fb9e525e956",
   "metadata": {
    "papermill": {
     "duration": 0.009354,
     "end_time": "2024-05-10T12:01:22.900627",
     "exception": false,
     "start_time": "2024-05-10T12:01:22.891273",
     "status": "completed"
    },
    "tags": []
   },
   "outputs": [],
   "source": []
  },
  {
   "attachments": {},
   "cell_type": "markdown",
   "id": "550aae1d-5525-4a5a-9158-f7f50ffc3021",
   "metadata": {
    "papermill": {
     "duration": 0.002188,
     "end_time": "2024-05-10T12:01:22.905077",
     "exception": false,
     "start_time": "2024-05-10T12:01:22.902889",
     "status": "completed"
    },
    "tags": []
   },
   "source": [
    "### Modelling"
   ]
  },
  {
   "cell_type": "code",
   "execution_count": null,
   "id": "81342534-6128-4538-81c4-b4aa7436862a",
   "metadata": {
    "papermill": {
     "duration": 0.080667,
     "end_time": "2024-05-10T12:01:22.987828",
     "exception": false,
     "start_time": "2024-05-10T12:01:22.907161",
     "status": "completed"
    },
    "tags": []
   },
   "outputs": [
    {
     "data": {
      "text/html": [
       "<style>#sk-container-id-1 {color: black;}#sk-container-id-1 pre{padding: 0;}#sk-container-id-1 div.sk-toggleable {background-color: white;}#sk-container-id-1 label.sk-toggleable__label {cursor: pointer;display: block;width: 100%;margin-bottom: 0;padding: 0.3em;box-sizing: border-box;text-align: center;}#sk-container-id-1 label.sk-toggleable__label-arrow:before {content: \"▸\";float: left;margin-right: 0.25em;color: #696969;}#sk-container-id-1 label.sk-toggleable__label-arrow:hover:before {color: black;}#sk-container-id-1 div.sk-estimator:hover label.sk-toggleable__label-arrow:before {color: black;}#sk-container-id-1 div.sk-toggleable__content {max-height: 0;max-width: 0;overflow: hidden;text-align: left;background-color: #f0f8ff;}#sk-container-id-1 div.sk-toggleable__content pre {margin: 0.2em;color: black;border-radius: 0.25em;background-color: #f0f8ff;}#sk-container-id-1 input.sk-toggleable__control:checked~div.sk-toggleable__content {max-height: 200px;max-width: 100%;overflow: auto;}#sk-container-id-1 input.sk-toggleable__control:checked~label.sk-toggleable__label-arrow:before {content: \"▾\";}#sk-container-id-1 div.sk-estimator input.sk-toggleable__control:checked~label.sk-toggleable__label {background-color: #d4ebff;}#sk-container-id-1 div.sk-label input.sk-toggleable__control:checked~label.sk-toggleable__label {background-color: #d4ebff;}#sk-container-id-1 input.sk-hidden--visually {border: 0;clip: rect(1px 1px 1px 1px);clip: rect(1px, 1px, 1px, 1px);height: 1px;margin: -1px;overflow: hidden;padding: 0;position: absolute;width: 1px;}#sk-container-id-1 div.sk-estimator {font-family: monospace;background-color: #f0f8ff;border: 1px dotted black;border-radius: 0.25em;box-sizing: border-box;margin-bottom: 0.5em;}#sk-container-id-1 div.sk-estimator:hover {background-color: #d4ebff;}#sk-container-id-1 div.sk-parallel-item::after {content: \"\";width: 100%;border-bottom: 1px solid gray;flex-grow: 1;}#sk-container-id-1 div.sk-label:hover label.sk-toggleable__label {background-color: #d4ebff;}#sk-container-id-1 div.sk-serial::before {content: \"\";position: absolute;border-left: 1px solid gray;box-sizing: border-box;top: 0;bottom: 0;left: 50%;z-index: 0;}#sk-container-id-1 div.sk-serial {display: flex;flex-direction: column;align-items: center;background-color: white;padding-right: 0.2em;padding-left: 0.2em;position: relative;}#sk-container-id-1 div.sk-item {position: relative;z-index: 1;}#sk-container-id-1 div.sk-parallel {display: flex;align-items: stretch;justify-content: center;background-color: white;position: relative;}#sk-container-id-1 div.sk-item::before, #sk-container-id-1 div.sk-parallel-item::before {content: \"\";position: absolute;border-left: 1px solid gray;box-sizing: border-box;top: 0;bottom: 0;left: 50%;z-index: -1;}#sk-container-id-1 div.sk-parallel-item {display: flex;flex-direction: column;z-index: 1;position: relative;background-color: white;}#sk-container-id-1 div.sk-parallel-item:first-child::after {align-self: flex-end;width: 50%;}#sk-container-id-1 div.sk-parallel-item:last-child::after {align-self: flex-start;width: 50%;}#sk-container-id-1 div.sk-parallel-item:only-child::after {width: 0;}#sk-container-id-1 div.sk-dashed-wrapped {border: 1px dashed gray;margin: 0 0.4em 0.5em 0.4em;box-sizing: border-box;padding-bottom: 0.4em;background-color: white;}#sk-container-id-1 div.sk-label label {font-family: monospace;font-weight: bold;display: inline-block;line-height: 1.2em;}#sk-container-id-1 div.sk-label-container {text-align: center;}#sk-container-id-1 div.sk-container {/* jupyter's `normalize.less` sets `[hidden] { display: none; }` but bootstrap.min.css set `[hidden] { display: none !important; }` so we also need the `!important` here to be able to override the default hidden behavior on the sphinx rendered scikit-learn.org. See: https://github.com/scikit-learn/scikit-learn/issues/21755 */display: inline-block !important;position: relative;}#sk-container-id-1 div.sk-text-repr-fallback {display: none;}</style><div id=\"sk-container-id-1\" class=\"sk-top-container\"><div class=\"sk-text-repr-fallback\"><pre>DecisionTreeClassifier(max_depth=3, min_samples_leaf=100)</pre><b>In a Jupyter environment, please rerun this cell to show the HTML representation or trust the notebook. <br />On GitHub, the HTML representation is unable to render, please try loading this page with nbviewer.org.</b></div><div class=\"sk-container\" hidden><div class=\"sk-item\"><div class=\"sk-estimator sk-toggleable\"><input class=\"sk-toggleable__control sk-hidden--visually\" id=\"sk-estimator-id-1\" type=\"checkbox\" checked><label for=\"sk-estimator-id-1\" class=\"sk-toggleable__label sk-toggleable__label-arrow\">DecisionTreeClassifier</label><div class=\"sk-toggleable__content\"><pre>DecisionTreeClassifier(max_depth=3, min_samples_leaf=100)</pre></div></div></div></div></div>"
      ],
      "text/plain": [
       "DecisionTreeClassifier(max_depth=3, min_samples_leaf=100)"
      ]
     },
     "execution_count": null,
     "metadata": {},
     "output_type": "execute_result"
    }
   ],
   "source": []
  },
  {
   "attachments": {},
   "cell_type": "markdown",
   "id": "bf2722cf-d95f-423e-9bfe-bb126fe0ac6f",
   "metadata": {
    "papermill": {
     "duration": 0.002582,
     "end_time": "2024-05-10T12:01:22.993247",
     "exception": false,
     "start_time": "2024-05-10T12:01:22.990665",
     "status": "completed"
    },
    "tags": []
   },
   "source": [
    "### Predictions"
   ]
  },
  {
   "cell_type": "code",
   "execution_count": null,
   "id": "51613c4b-8ff8-42ca-912f-2e60bcb79e04",
   "metadata": {
    "papermill": {
     "duration": 0.006363,
     "end_time": "2024-05-10T12:01:23.002641",
     "exception": false,
     "start_time": "2024-05-10T12:01:22.996278",
     "status": "completed"
    },
    "tags": []
   },
   "outputs": [
    {
     "data": {
      "text/plain": [
       "array([[0.72277228, 0.27722772],\n",
       "       [0.72277228, 0.27722772],\n",
       "       [0.8203125 , 0.1796875 ],\n",
       "       [0.14814815, 0.85185185],\n",
       "       [0.8203125 , 0.1796875 ]])"
      ]
     },
     "execution_count": null,
     "metadata": {},
     "output_type": "execute_result"
    }
   ],
   "source": []
  },
  {
   "cell_type": "code",
   "execution_count": null,
   "id": "5545641a-fdba-40d9-bfeb-28c659857c4a",
   "metadata": {
    "papermill": {
     "duration": 0.005446,
     "end_time": "2024-05-10T12:01:23.010582",
     "exception": false,
     "start_time": "2024-05-10T12:01:23.005136",
     "status": "completed"
    },
    "tags": []
   },
   "outputs": [
    {
     "data": {
      "text/plain": [
       "array([0.27722772, 0.27722772, 0.1796875 , 0.85185185, 0.1796875 ,\n",
       "       0.45890411, 0.1796875 , 0.45890411, 0.1796875 , 0.45890411,\n",
       "       0.45890411, 0.85185185, 0.45890411, 0.45890411, 0.1796875 ,\n",
       "       0.45890411, 0.85185185, 0.27722772, 0.27722772, 0.1796875 ,\n",
       "       0.45890411, 0.1796875 , 0.1796875 , 0.27722772, 0.1796875 ,\n",
       "       0.1796875 , 0.85185185, 0.45890411, 0.1796875 , 0.27722772,\n",
       "       0.85185185, 0.85185185, 0.27722772, 0.1796875 , 0.1796875 ,\n",
       "       0.85185185, 0.85185185, 0.45890411, 0.85185185, 0.85185185,\n",
       "       0.1796875 , 0.45890411, 0.1796875 , 0.27722772, 0.85185185,\n",
       "       0.85185185, 0.27722772, 0.45890411, 0.1796875 , 0.1796875 ,\n",
       "       0.1796875 , 0.45890411, 0.1796875 , 0.45890411, 0.45890411,\n",
       "       0.1796875 , 0.85185185, 0.27722772, 0.45890411, 0.45890411,\n",
       "       0.45890411, 0.45890411, 0.85185185, 0.1796875 , 0.1796875 ,\n",
       "       0.27722772, 0.45890411, 0.85185185, 0.45890411, 0.45890411,\n",
       "       0.45890411, 0.85185185, 0.45890411, 0.45890411, 0.1796875 ,\n",
       "       0.45890411, 0.45890411, 0.27722772, 0.27722772, 0.1796875 ,\n",
       "       0.27722772, 0.27722772, 0.1796875 , 0.45890411, 0.85185185,\n",
       "       0.45890411, 0.45890411, 0.85185185, 0.45890411, 0.85185185,\n",
       "       0.45890411, 0.1796875 , 0.45890411, 0.85185185, 0.45890411,\n",
       "       0.1796875 , 0.85185185, 0.1796875 , 0.1796875 , 0.1796875 ,\n",
       "       0.1796875 , 0.45890411, 0.85185185, 0.1796875 , 0.85185185,\n",
       "       0.45890411, 0.1796875 , 0.85185185, 0.1796875 , 0.85185185,\n",
       "       0.1796875 , 0.85185185, 0.85185185, 0.45890411, 0.1796875 ,\n",
       "       0.45890411, 0.85185185, 0.27722772, 0.27722772, 0.85185185,\n",
       "       0.27722772, 0.27722772, 0.85185185, 0.85185185, 0.45890411,\n",
       "       0.45890411, 0.1796875 , 0.45890411, 0.45890411, 0.85185185,\n",
       "       0.45890411, 0.45890411, 0.1796875 , 0.85185185, 0.85185185,\n",
       "       0.1796875 , 0.45890411, 0.1796875 , 0.1796875 , 0.45890411,\n",
       "       0.1796875 , 0.45890411, 0.45890411, 0.45890411, 0.1796875 ,\n",
       "       0.27722772, 0.1796875 , 0.45890411, 0.1796875 , 0.45890411,\n",
       "       0.27722772, 0.45890411, 0.45890411, 0.85185185, 0.27722772,\n",
       "       0.45890411, 0.85185185, 0.1796875 , 0.1796875 , 0.27722772,\n",
       "       0.85185185, 0.27722772, 0.45890411, 0.1796875 , 0.45890411,\n",
       "       0.45890411, 0.1796875 , 0.85185185, 0.1796875 , 0.45890411,\n",
       "       0.45890411, 0.45890411, 0.45890411, 0.1796875 , 0.1796875 ,\n",
       "       0.45890411, 0.1796875 , 0.1796875 , 0.45890411, 0.1796875 ,\n",
       "       0.45890411, 0.45890411, 0.85185185, 0.45890411, 0.85185185,\n",
       "       0.45890411, 0.45890411, 0.27722772, 0.27722772, 0.85185185,\n",
       "       0.1796875 , 0.45890411, 0.1796875 , 0.27722772, 0.27722772,\n",
       "       0.1796875 , 0.45890411, 0.45890411, 0.27722772, 0.45890411,\n",
       "       0.27722772, 0.85185185, 0.1796875 , 0.85185185, 0.85185185,\n",
       "       0.27722772, 0.85185185])"
      ]
     },
     "execution_count": null,
     "metadata": {},
     "output_type": "execute_result"
    }
   ],
   "source": []
  },
  {
   "cell_type": "code",
   "execution_count": null,
   "id": "fdcc7058-654a-49c8-937a-6ef8b77009de",
   "metadata": {
    "papermill": {
     "duration": 0.005229,
     "end_time": "2024-05-10T12:01:23.018180",
     "exception": false,
     "start_time": "2024-05-10T12:01:23.012951",
     "status": "completed"
    },
    "tags": []
   },
   "outputs": [
    {
     "data": {
      "text/plain": [
       "array([0, 0, 0, 1, 0, 0, 0, 0, 0, 0, 0, 1, 0, 0, 0, 0, 1, 0, 0, 0, 0, 0,\n",
       "       0, 0, 0, 0, 1, 0, 0, 0, 1, 1, 0, 0, 0, 1, 1, 0, 1, 1, 0, 0, 0, 0,\n",
       "       1, 1, 0, 0, 0, 0, 0, 0, 0, 0, 0, 0, 1, 0, 0, 0, 0, 0, 1, 0, 0, 0,\n",
       "       0, 1, 0, 0, 0, 1, 0, 0, 0, 0, 0, 0, 0, 0, 0, 0, 0, 0, 1, 0, 0, 1,\n",
       "       0, 1, 0, 0, 0, 1, 0, 0, 1, 0, 0, 0, 0, 0, 1, 0, 1, 0, 0, 1, 0, 1,\n",
       "       0, 1, 1, 0, 0, 0, 1, 0, 0, 1, 0, 0, 1, 1, 0, 0, 0, 0, 0, 1, 0, 0,\n",
       "       0, 1, 1, 0, 0, 0, 0, 0, 0, 0, 0, 0, 0, 0, 0, 0, 0, 0, 0, 0, 0, 1,\n",
       "       0, 0, 1, 0, 0, 0, 1, 0, 0, 0, 0, 0, 0, 1, 0, 0, 0, 0, 0, 0, 0, 0,\n",
       "       0, 0, 0, 0, 0, 0, 1, 0, 1, 0, 0, 0, 0, 1, 0, 0, 0, 0, 0, 0, 0, 0,\n",
       "       0, 0, 0, 1, 0, 1, 1, 0, 1])"
      ]
     },
     "execution_count": null,
     "metadata": {},
     "output_type": "execute_result"
    }
   ],
   "source": []
  },
  {
   "cell_type": "code",
   "execution_count": null,
   "id": "7c1c8b21-023b-483b-a4ff-ae8b42da6b79",
   "metadata": {
    "papermill": {
     "duration": 0.006564,
     "end_time": "2024-05-10T12:01:23.027222",
     "exception": false,
     "start_time": "2024-05-10T12:01:23.020658",
     "status": "completed"
    },
    "tags": []
   },
   "outputs": [
    {
     "data": {
      "text/html": [
       "<div>\n",
       "<style scoped>\n",
       "    .dataframe tbody tr th:only-of-type {\n",
       "        vertical-align: middle;\n",
       "    }\n",
       "\n",
       "    .dataframe tbody tr th {\n",
       "        vertical-align: top;\n",
       "    }\n",
       "\n",
       "    .dataframe thead th {\n",
       "        text-align: right;\n",
       "    }\n",
       "</style>\n",
       "<table border=\"1\" class=\"dataframe\">\n",
       "  <thead>\n",
       "    <tr style=\"text-align: right;\">\n",
       "      <th></th>\n",
       "      <th>y_real</th>\n",
       "      <th>y_pred_proba</th>\n",
       "      <th>y_pred</th>\n",
       "    </tr>\n",
       "  </thead>\n",
       "  <tbody>\n",
       "    <tr>\n",
       "      <th>286</th>\n",
       "      <td>0</td>\n",
       "      <td>0.277228</td>\n",
       "      <td>0</td>\n",
       "    </tr>\n",
       "    <tr>\n",
       "      <th>511</th>\n",
       "      <td>1</td>\n",
       "      <td>0.277228</td>\n",
       "      <td>0</td>\n",
       "    </tr>\n",
       "    <tr>\n",
       "      <th>...</th>\n",
       "      <td>...</td>\n",
       "      <td>...</td>\n",
       "      <td>...</td>\n",
       "    </tr>\n",
       "    <tr>\n",
       "      <th>674</th>\n",
       "      <td>0</td>\n",
       "      <td>0.277228</td>\n",
       "      <td>0</td>\n",
       "    </tr>\n",
       "    <tr>\n",
       "      <th>559</th>\n",
       "      <td>1</td>\n",
       "      <td>0.851852</td>\n",
       "      <td>1</td>\n",
       "    </tr>\n",
       "  </tbody>\n",
       "</table>\n",
       "<p>207 rows × 3 columns</p>\n",
       "</div>"
      ],
      "text/plain": [
       "     y_real  y_pred_proba  y_pred\n",
       "286       0      0.277228       0\n",
       "511       1      0.277228       0\n",
       "..      ...           ...     ...\n",
       "674       0      0.277228       0\n",
       "559       1      0.851852       1\n",
       "\n",
       "[207 rows x 3 columns]"
      ]
     },
     "execution_count": null,
     "metadata": {},
     "output_type": "execute_result"
    }
   ],
   "source": []
  },
  {
   "cell_type": "code",
   "execution_count": null,
   "id": "17f76a30-0f24-4103-9b05-579845f02e39",
   "metadata": {},
   "outputs": [
    {
     "data": {
      "text/html": [
       "<div>\n",
       "<style scoped>\n",
       "    .dataframe tbody tr th:only-of-type {\n",
       "        vertical-align: middle;\n",
       "    }\n",
       "\n",
       "    .dataframe tbody tr th {\n",
       "        vertical-align: top;\n",
       "    }\n",
       "\n",
       "    .dataframe thead th {\n",
       "        text-align: right;\n",
       "    }\n",
       "</style>\n",
       "<table border=\"1\" class=\"dataframe\">\n",
       "  <thead>\n",
       "    <tr style=\"text-align: right;\">\n",
       "      <th></th>\n",
       "      <th>y_real</th>\n",
       "      <th>y_pred</th>\n",
       "    </tr>\n",
       "  </thead>\n",
       "  <tbody>\n",
       "    <tr>\n",
       "      <th>286</th>\n",
       "      <td>0</td>\n",
       "      <td>0</td>\n",
       "    </tr>\n",
       "    <tr>\n",
       "      <th>511</th>\n",
       "      <td>1</td>\n",
       "      <td>0</td>\n",
       "    </tr>\n",
       "    <tr>\n",
       "      <th>...</th>\n",
       "      <td>...</td>\n",
       "      <td>...</td>\n",
       "    </tr>\n",
       "    <tr>\n",
       "      <th>674</th>\n",
       "      <td>0</td>\n",
       "      <td>0</td>\n",
       "    </tr>\n",
       "    <tr>\n",
       "      <th>559</th>\n",
       "      <td>1</td>\n",
       "      <td>1</td>\n",
       "    </tr>\n",
       "  </tbody>\n",
       "</table>\n",
       "<p>207 rows × 2 columns</p>\n",
       "</div>"
      ],
      "text/plain": [
       "     y_real  y_pred\n",
       "286       0       0\n",
       "511       1       0\n",
       "..      ...     ...\n",
       "674       0       0\n",
       "559       1       1\n",
       "\n",
       "[207 rows x 2 columns]"
      ]
     },
     "execution_count": null,
     "metadata": {},
     "output_type": "execute_result"
    }
   ],
   "source": []
  },
  {
   "cell_type": "code",
   "execution_count": null,
   "id": "005ca92a-675d-459b-aa4d-4f1756611468",
   "metadata": {
    "papermill": {
     "duration": 0.00714,
     "end_time": "2024-05-10T12:01:23.036934",
     "exception": false,
     "start_time": "2024-05-10T12:01:23.029794",
     "status": "completed"
    },
    "tags": []
   },
   "outputs": [
    {
     "data": {
      "text/html": [
       "<div>\n",
       "<style scoped>\n",
       "    .dataframe tbody tr th:only-of-type {\n",
       "        vertical-align: middle;\n",
       "    }\n",
       "\n",
       "    .dataframe tbody tr th {\n",
       "        vertical-align: top;\n",
       "    }\n",
       "\n",
       "    .dataframe thead th {\n",
       "        text-align: right;\n",
       "    }\n",
       "</style>\n",
       "<table border=\"1\" class=\"dataframe\">\n",
       "  <thead>\n",
       "    <tr style=\"text-align: right;\">\n",
       "      <th></th>\n",
       "      <th>y_real</th>\n",
       "      <th>y_pred</th>\n",
       "      <th>comp</th>\n",
       "    </tr>\n",
       "  </thead>\n",
       "  <tbody>\n",
       "    <tr>\n",
       "      <th>286</th>\n",
       "      <td>0</td>\n",
       "      <td>0</td>\n",
       "      <td>True</td>\n",
       "    </tr>\n",
       "    <tr>\n",
       "      <th>511</th>\n",
       "      <td>1</td>\n",
       "      <td>0</td>\n",
       "      <td>False</td>\n",
       "    </tr>\n",
       "    <tr>\n",
       "      <th>...</th>\n",
       "      <td>...</td>\n",
       "      <td>...</td>\n",
       "      <td>...</td>\n",
       "    </tr>\n",
       "    <tr>\n",
       "      <th>674</th>\n",
       "      <td>0</td>\n",
       "      <td>0</td>\n",
       "      <td>True</td>\n",
       "    </tr>\n",
       "    <tr>\n",
       "      <th>559</th>\n",
       "      <td>1</td>\n",
       "      <td>1</td>\n",
       "      <td>True</td>\n",
       "    </tr>\n",
       "  </tbody>\n",
       "</table>\n",
       "<p>207 rows × 3 columns</p>\n",
       "</div>"
      ],
      "text/plain": [
       "     y_real  y_pred   comp\n",
       "286       0       0   True\n",
       "511       1       0  False\n",
       "..      ...     ...    ...\n",
       "674       0       0   True\n",
       "559       1       1   True\n",
       "\n",
       "[207 rows x 3 columns]"
      ]
     },
     "execution_count": null,
     "metadata": {},
     "output_type": "execute_result"
    }
   ],
   "source": []
  },
  {
   "attachments": {},
   "cell_type": "markdown",
   "id": "ba6c26e1-b83e-4713-89ea-a119780c5107",
   "metadata": {
    "papermill": {
     "duration": 0.002669,
     "end_time": "2024-05-10T12:01:23.042284",
     "exception": false,
     "start_time": "2024-05-10T12:01:23.039615",
     "status": "completed"
    },
    "tags": []
   },
   "source": [
    "### Metrics"
   ]
  },
  {
   "attachments": {},
   "cell_type": "markdown",
   "id": "f1232728-b91d-4d0b-aed8-86bf839d5f75",
   "metadata": {
    "papermill": {
     "duration": 0.003069,
     "end_time": "2024-05-10T12:01:23.048224",
     "exception": false,
     "start_time": "2024-05-10T12:01:23.045155",
     "status": "completed"
    },
    "tags": []
   },
   "source": [
    "#### Accuracy"
   ]
  },
  {
   "cell_type": "code",
   "execution_count": null,
   "id": "ab741f57-0a57-4786-958d-9d3132a3d2c8",
   "metadata": {
    "papermill": {
     "duration": 0.005878,
     "end_time": "2024-05-10T12:01:23.057361",
     "exception": false,
     "start_time": "2024-05-10T12:01:23.051483",
     "status": "completed"
    },
    "tags": []
   },
   "outputs": [
    {
     "data": {
      "text/plain": [
       "141"
      ]
     },
     "execution_count": null,
     "metadata": {},
     "output_type": "execute_result"
    }
   ],
   "source": []
  },
  {
   "cell_type": "code",
   "execution_count": null,
   "id": "0586cd70-06a5-4439-a332-b028a771fbe1",
   "metadata": {
    "papermill": {
     "duration": 0.005576,
     "end_time": "2024-05-10T12:01:23.065652",
     "exception": false,
     "start_time": "2024-05-10T12:01:23.060076",
     "status": "completed"
    },
    "tags": []
   },
   "outputs": [
    {
     "data": {
      "text/plain": [
       "207"
      ]
     },
     "execution_count": null,
     "metadata": {},
     "output_type": "execute_result"
    }
   ],
   "source": []
  },
  {
   "cell_type": "code",
   "execution_count": null,
   "id": "e99002da-c417-4278-8229-a29fb6ff05cc",
   "metadata": {
    "papermill": {
     "duration": 0.005547,
     "end_time": "2024-05-10T12:01:23.074334",
     "exception": false,
     "start_time": "2024-05-10T12:01:23.068787",
     "status": "completed"
    },
    "tags": []
   },
   "outputs": [
    {
     "data": {
      "text/plain": [
       "0.6811594202898551"
      ]
     },
     "execution_count": null,
     "metadata": {},
     "output_type": "execute_result"
    }
   ],
   "source": []
  },
  {
   "cell_type": "code",
   "execution_count": null,
   "id": "78888a04-7762-46cc-80fe-45661d5e65ca",
   "metadata": {
    "papermill": {
     "duration": 0.007031,
     "end_time": "2024-05-10T12:01:23.084152",
     "exception": false,
     "start_time": "2024-05-10T12:01:23.077121",
     "status": "completed"
    },
    "tags": []
   },
   "outputs": [
    {
     "data": {
      "text/plain": [
       "0.6811594202898551"
      ]
     },
     "execution_count": null,
     "metadata": {},
     "output_type": "execute_result"
    }
   ],
   "source": []
  },
  {
   "attachments": {},
   "cell_type": "markdown",
   "id": "a7e80b6c-6b72-48e3-9f97-7bc63262d52e",
   "metadata": {
    "papermill": {
     "duration": 0.002794,
     "end_time": "2024-05-10T12:01:23.089937",
     "exception": false,
     "start_time": "2024-05-10T12:01:23.087143",
     "status": "completed"
    },
    "tags": []
   },
   "source": [
    "#### Confusion matrix"
   ]
  },
  {
   "cell_type": "code",
   "execution_count": null,
   "id": "46db4584-76b7-4ab8-a461-0fb387215825",
   "metadata": {
    "papermill": {
     "duration": 0.264402,
     "end_time": "2024-05-10T12:01:23.358006",
     "exception": false,
     "start_time": "2024-05-10T12:01:23.093604",
     "status": "completed"
    },
    "tags": []
   },
   "outputs": [
    {
     "data": {
      "image/png": "[encoded data removed]",
      "text/plain": [
       "<Figure size 640x480 with 2 Axes>"
      ]
     },
     "execution_count": null,
     "metadata": {},
     "output_type": "display_data"
    }
   ],
   "source": []
  },
  {
   "attachments": {},
   "cell_type": "markdown",
   "id": "e91a3527-4da1-4944-a68a-a949b9c0ed59",
   "metadata": {
    "papermill": {
     "duration": 0.003348,
     "end_time": "2024-05-10T12:01:23.367669",
     "exception": false,
     "start_time": "2024-05-10T12:01:23.364321",
     "status": "completed"
    },
    "tags": []
   },
   "source": [
    "#### Classification report"
   ]
  },
  {
   "cell_type": "code",
   "execution_count": null,
   "id": "bc9d951d-b365-48c6-8b99-e711d0d0737b",
   "metadata": {
    "papermill": {
     "duration": 0.020997,
     "end_time": "2024-05-10T12:01:23.396788",
     "exception": false,
     "start_time": "2024-05-10T12:01:23.375791",
     "status": "completed"
    },
    "tags": []
   },
   "outputs": [
    {
     "data": {
      "text/html": [
       "<div>\n",
       "<style scoped>\n",
       "    .dataframe tbody tr th:only-of-type {\n",
       "        vertical-align: middle;\n",
       "    }\n",
       "\n",
       "    .dataframe tbody tr th {\n",
       "        vertical-align: top;\n",
       "    }\n",
       "\n",
       "    .dataframe thead th {\n",
       "        text-align: right;\n",
       "    }\n",
       "</style>\n",
       "<table border=\"1\" class=\"dataframe\">\n",
       "  <thead>\n",
       "    <tr style=\"text-align: right;\">\n",
       "      <th></th>\n",
       "      <th>0</th>\n",
       "      <th>1</th>\n",
       "      <th>accuracy</th>\n",
       "      <th>macro avg</th>\n",
       "      <th>weighted avg</th>\n",
       "    </tr>\n",
       "  </thead>\n",
       "  <tbody>\n",
       "    <tr>\n",
       "      <th>precision</th>\n",
       "      <td>0.635802</td>\n",
       "      <td>0.844444</td>\n",
       "      <td>0.681159</td>\n",
       "      <td>0.740123</td>\n",
       "      <td>0.733572</td>\n",
       "    </tr>\n",
       "    <tr>\n",
       "      <th>recall</th>\n",
       "      <td>0.936364</td>\n",
       "      <td>0.391753</td>\n",
       "      <td>0.681159</td>\n",
       "      <td>0.664058</td>\n",
       "      <td>0.681159</td>\n",
       "    </tr>\n",
       "    <tr>\n",
       "      <th>f1-score</th>\n",
       "      <td>0.757353</td>\n",
       "      <td>0.535211</td>\n",
       "      <td>0.681159</td>\n",
       "      <td>0.646282</td>\n",
       "      <td>0.653258</td>\n",
       "    </tr>\n",
       "    <tr>\n",
       "      <th>support</th>\n",
       "      <td>110.000000</td>\n",
       "      <td>97.000000</td>\n",
       "      <td>0.681159</td>\n",
       "      <td>207.000000</td>\n",
       "      <td>207.000000</td>\n",
       "    </tr>\n",
       "  </tbody>\n",
       "</table>\n",
       "</div>"
      ],
      "text/plain": [
       "                    0          1  accuracy   macro avg  weighted avg\n",
       "precision    0.635802   0.844444  0.681159    0.740123      0.733572\n",
       "recall       0.936364   0.391753  0.681159    0.664058      0.681159\n",
       "f1-score     0.757353   0.535211  0.681159    0.646282      0.653258\n",
       "support    110.000000  97.000000  0.681159  207.000000    207.000000"
      ]
     },
     "execution_count": null,
     "metadata": {},
     "output_type": "execute_result"
    }
   ],
   "source": []
  },
  {
   "attachments": {},
   "cell_type": "markdown",
   "id": "7c72cc5d-062c-4538-90a3-cf8770d1958e",
   "metadata": {
    "papermill": {
     "duration": 0.0038,
     "end_time": "2024-05-10T12:01:23.409150",
     "exception": false,
     "start_time": "2024-05-10T12:01:23.405350",
     "status": "completed"
    },
    "tags": []
   },
   "source": [
    "#### ROC Curve\n",
    "\n",
    "https://www.youtube.com/watch?v=4jRBRDbJemM"
   ]
  },
  {
   "cell_type": "code",
   "execution_count": null,
   "id": "92f99661-d8f1-480b-82b9-c7c2d93ced67",
   "metadata": {
    "papermill": {
     "duration": 0.079381,
     "end_time": "2024-05-10T12:01:23.491583",
     "exception": false,
     "start_time": "2024-05-10T12:01:23.412202",
     "status": "completed"
    },
    "tags": []
   },
   "outputs": [
    {
     "data": {
      "image/png": "[encoded data removed]",
      "text/plain": [
       "<Figure size 640x480 with 1 Axes>"
      ]
     },
     "execution_count": null,
     "metadata": {},
     "output_type": "display_data"
    }
   ],
   "source": []
  },
  {
   "attachments": {},
   "cell_type": "markdown",
   "id": "b98f64b4-9021-46e8-a7ff-43c6efa85c16",
   "metadata": {
    "papermill": {
     "duration": 0.008191,
     "end_time": "2024-05-10T12:01:23.503723",
     "exception": false,
     "start_time": "2024-05-10T12:01:23.495532",
     "status": "completed"
    },
    "tags": []
   },
   "source": [
    "## Regressors"
   ]
  },
  {
   "attachments": {},
   "cell_type": "markdown",
   "id": "df90193b-230c-4bd8-acb4-6c2108646fa0",
   "metadata": {
    "papermill": {
     "duration": 0.006106,
     "end_time": "2024-05-10T12:01:23.521809",
     "exception": false,
     "start_time": "2024-05-10T12:01:23.515703",
     "status": "completed"
    },
    "tags": []
   },
   "source": [
    "### Load data"
   ]
  },
  {
   "cell_type": "code",
   "execution_count": null,
   "id": "e0b22d53-cae5-45d3-aada-249a6440e18d",
   "metadata": {
    "papermill": {
     "duration": 0.025597,
     "end_time": "2024-05-10T12:01:23.552942",
     "exception": false,
     "start_time": "2024-05-10T12:01:23.527345",
     "status": "completed"
    },
    "tags": []
   },
   "outputs": [
    {
     "data": {
      "text/html": [
       "<div>\n",
       "<style scoped>\n",
       "    .dataframe tbody tr th:only-of-type {\n",
       "        vertical-align: middle;\n",
       "    }\n",
       "\n",
       "    .dataframe tbody tr th {\n",
       "        vertical-align: top;\n",
       "    }\n",
       "\n",
       "    .dataframe thead th {\n",
       "        text-align: right;\n",
       "    }\n",
       "</style>\n",
       "<table border=\"1\" class=\"dataframe\">\n",
       "  <thead>\n",
       "    <tr style=\"text-align: right;\">\n",
       "      <th></th>\n",
       "      <th>Price</th>\n",
       "      <th>Bedrooms</th>\n",
       "      <th>Bathrooms</th>\n",
       "      <th>Garage</th>\n",
       "      <th>Floor Area</th>\n",
       "      <th>Build Year</th>\n",
       "    </tr>\n",
       "    <tr>\n",
       "      <th>ADDRESS</th>\n",
       "      <th></th>\n",
       "      <th></th>\n",
       "      <th></th>\n",
       "      <th></th>\n",
       "      <th></th>\n",
       "      <th></th>\n",
       "    </tr>\n",
       "  </thead>\n",
       "  <tbody>\n",
       "    <tr>\n",
       "      <th>1 Datchet Turn</th>\n",
       "      <td>270000</td>\n",
       "      <td>3</td>\n",
       "      <td>2</td>\n",
       "      <td>2.0</td>\n",
       "      <td>109</td>\n",
       "      <td>2011.0</td>\n",
       "    </tr>\n",
       "    <tr>\n",
       "      <th>1 McKenzie Corner</th>\n",
       "      <td>470000</td>\n",
       "      <td>4</td>\n",
       "      <td>2</td>\n",
       "      <td>2.0</td>\n",
       "      <td>279</td>\n",
       "      <td>2005.0</td>\n",
       "    </tr>\n",
       "    <tr>\n",
       "      <th>...</th>\n",
       "      <td>...</td>\n",
       "      <td>...</td>\n",
       "      <td>...</td>\n",
       "      <td>...</td>\n",
       "      <td>...</td>\n",
       "      <td>...</td>\n",
       "    </tr>\n",
       "    <tr>\n",
       "      <th>93 Centennial Avenue</th>\n",
       "      <td>350000</td>\n",
       "      <td>4</td>\n",
       "      <td>2</td>\n",
       "      <td>2.0</td>\n",
       "      <td>177</td>\n",
       "      <td>2005.0</td>\n",
       "    </tr>\n",
       "    <tr>\n",
       "      <th>98 Centennial Avenue</th>\n",
       "      <td>441000</td>\n",
       "      <td>4</td>\n",
       "      <td>2</td>\n",
       "      <td>2.0</td>\n",
       "      <td>195</td>\n",
       "      <td>2004.0</td>\n",
       "    </tr>\n",
       "  </tbody>\n",
       "</table>\n",
       "<p>204 rows × 6 columns</p>\n",
       "</div>"
      ],
      "text/plain": [
       "                       Price  Bedrooms  Bathrooms  Garage  Floor Area  \\\n",
       "ADDRESS                                                                 \n",
       "1 Datchet Turn        270000         3          2     2.0         109   \n",
       "1 McKenzie Corner     470000         4          2     2.0         279   \n",
       "...                      ...       ...        ...     ...         ...   \n",
       "93 Centennial Avenue  350000         4          2     2.0         177   \n",
       "98 Centennial Avenue  441000         4          2     2.0         195   \n",
       "\n",
       "                      Build Year  \n",
       "ADDRESS                           \n",
       "1 Datchet Turn            2011.0  \n",
       "1 McKenzie Corner         2005.0  \n",
       "...                          ...  \n",
       "93 Centennial Avenue      2005.0  \n",
       "98 Centennial Avenue      2004.0  \n",
       "\n",
       "[204 rows x 6 columns]"
      ]
     },
     "execution_count": null,
     "metadata": {},
     "output_type": "execute_result"
    }
   ],
   "source": []
  },
  {
   "attachments": {},
   "cell_type": "markdown",
   "id": "284cf7ec-4090-4781-a511-ef86b16cf4a2",
   "metadata": {
    "papermill": {
     "duration": 0.003716,
     "end_time": "2024-05-10T12:01:23.561811",
     "exception": false,
     "start_time": "2024-05-10T12:01:23.558095",
     "status": "completed"
    },
    "tags": []
   },
   "source": [
    "### Feature selection"
   ]
  },
  {
   "cell_type": "code",
   "execution_count": null,
   "id": "14acd055-d144-4be9-bb97-8d3a1f1144b2",
   "metadata": {
    "papermill": {
     "duration": 0.006381,
     "end_time": "2024-05-10T12:01:23.571339",
     "exception": false,
     "start_time": "2024-05-10T12:01:23.564958",
     "status": "completed"
    },
    "tags": []
   },
   "outputs": [],
   "source": []
  },
  {
   "attachments": {},
   "cell_type": "markdown",
   "id": "c99eeb0f-da37-4f7f-9ec0-73765eaf032b",
   "metadata": {
    "papermill": {
     "duration": 0.003198,
     "end_time": "2024-05-10T12:01:23.577804",
     "exception": false,
     "start_time": "2024-05-10T12:01:23.574606",
     "status": "completed"
    },
    "tags": []
   },
   "source": [
    "### Train test split"
   ]
  },
  {
   "cell_type": "code",
   "execution_count": null,
   "id": "0b1aac61-3dd9-4c9a-b5ac-1ceb69f72b93",
   "metadata": {
    "papermill": {
     "duration": 0.006868,
     "end_time": "2024-05-10T12:01:23.587752",
     "exception": false,
     "start_time": "2024-05-10T12:01:23.580884",
     "status": "completed"
    },
    "tags": []
   },
   "outputs": [],
   "source": []
  },
  {
   "attachments": {},
   "cell_type": "markdown",
   "id": "cfbe7eb0-d548-4fc3-ae34-f973fb837b3b",
   "metadata": {
    "papermill": {
     "duration": 0.003243,
     "end_time": "2024-05-10T12:01:23.594736",
     "exception": false,
     "start_time": "2024-05-10T12:01:23.591493",
     "status": "completed"
    },
    "tags": []
   },
   "source": [
    "### Modelling"
   ]
  },
  {
   "cell_type": "code",
   "execution_count": null,
   "id": "6763b066-c25b-444e-baa7-b4bf48b87c2a",
   "metadata": {
    "papermill": {
     "duration": 0.007592,
     "end_time": "2024-05-10T12:01:23.605699",
     "exception": false,
     "start_time": "2024-05-10T12:01:23.598107",
     "status": "completed"
    },
    "tags": []
   },
   "outputs": [
    {
     "data": {
      "text/html": [
       "<style>#sk-container-id-2 {color: black;}#sk-container-id-2 pre{padding: 0;}#sk-container-id-2 div.sk-toggleable {background-color: white;}#sk-container-id-2 label.sk-toggleable__label {cursor: pointer;display: block;width: 100%;margin-bottom: 0;padding: 0.3em;box-sizing: border-box;text-align: center;}#sk-container-id-2 label.sk-toggleable__label-arrow:before {content: \"▸\";float: left;margin-right: 0.25em;color: #696969;}#sk-container-id-2 label.sk-toggleable__label-arrow:hover:before {color: black;}#sk-container-id-2 div.sk-estimator:hover label.sk-toggleable__label-arrow:before {color: black;}#sk-container-id-2 div.sk-toggleable__content {max-height: 0;max-width: 0;overflow: hidden;text-align: left;background-color: #f0f8ff;}#sk-container-id-2 div.sk-toggleable__content pre {margin: 0.2em;color: black;border-radius: 0.25em;background-color: #f0f8ff;}#sk-container-id-2 input.sk-toggleable__control:checked~div.sk-toggleable__content {max-height: 200px;max-width: 100%;overflow: auto;}#sk-container-id-2 input.sk-toggleable__control:checked~label.sk-toggleable__label-arrow:before {content: \"▾\";}#sk-container-id-2 div.sk-estimator input.sk-toggleable__control:checked~label.sk-toggleable__label {background-color: #d4ebff;}#sk-container-id-2 div.sk-label input.sk-toggleable__control:checked~label.sk-toggleable__label {background-color: #d4ebff;}#sk-container-id-2 input.sk-hidden--visually {border: 0;clip: rect(1px 1px 1px 1px);clip: rect(1px, 1px, 1px, 1px);height: 1px;margin: -1px;overflow: hidden;padding: 0;position: absolute;width: 1px;}#sk-container-id-2 div.sk-estimator {font-family: monospace;background-color: #f0f8ff;border: 1px dotted black;border-radius: 0.25em;box-sizing: border-box;margin-bottom: 0.5em;}#sk-container-id-2 div.sk-estimator:hover {background-color: #d4ebff;}#sk-container-id-2 div.sk-parallel-item::after {content: \"\";width: 100%;border-bottom: 1px solid gray;flex-grow: 1;}#sk-container-id-2 div.sk-label:hover label.sk-toggleable__label {background-color: #d4ebff;}#sk-container-id-2 div.sk-serial::before {content: \"\";position: absolute;border-left: 1px solid gray;box-sizing: border-box;top: 0;bottom: 0;left: 50%;z-index: 0;}#sk-container-id-2 div.sk-serial {display: flex;flex-direction: column;align-items: center;background-color: white;padding-right: 0.2em;padding-left: 0.2em;position: relative;}#sk-container-id-2 div.sk-item {position: relative;z-index: 1;}#sk-container-id-2 div.sk-parallel {display: flex;align-items: stretch;justify-content: center;background-color: white;position: relative;}#sk-container-id-2 div.sk-item::before, #sk-container-id-2 div.sk-parallel-item::before {content: \"\";position: absolute;border-left: 1px solid gray;box-sizing: border-box;top: 0;bottom: 0;left: 50%;z-index: -1;}#sk-container-id-2 div.sk-parallel-item {display: flex;flex-direction: column;z-index: 1;position: relative;background-color: white;}#sk-container-id-2 div.sk-parallel-item:first-child::after {align-self: flex-end;width: 50%;}#sk-container-id-2 div.sk-parallel-item:last-child::after {align-self: flex-start;width: 50%;}#sk-container-id-2 div.sk-parallel-item:only-child::after {width: 0;}#sk-container-id-2 div.sk-dashed-wrapped {border: 1px dashed gray;margin: 0 0.4em 0.5em 0.4em;box-sizing: border-box;padding-bottom: 0.4em;background-color: white;}#sk-container-id-2 div.sk-label label {font-family: monospace;font-weight: bold;display: inline-block;line-height: 1.2em;}#sk-container-id-2 div.sk-label-container {text-align: center;}#sk-container-id-2 div.sk-container {/* jupyter's `normalize.less` sets `[hidden] { display: none; }` but bootstrap.min.css set `[hidden] { display: none !important; }` so we also need the `!important` here to be able to override the default hidden behavior on the sphinx rendered scikit-learn.org. See: https://github.com/scikit-learn/scikit-learn/issues/21755 */display: inline-block !important;position: relative;}#sk-container-id-2 div.sk-text-repr-fallback {display: none;}</style><div id=\"sk-container-id-2\" class=\"sk-top-container\"><div class=\"sk-text-repr-fallback\"><pre>LinearRegression()</pre><b>In a Jupyter environment, please rerun this cell to show the HTML representation or trust the notebook. <br />On GitHub, the HTML representation is unable to render, please try loading this page with nbviewer.org.</b></div><div class=\"sk-container\" hidden><div class=\"sk-item\"><div class=\"sk-estimator sk-toggleable\"><input class=\"sk-toggleable__control sk-hidden--visually\" id=\"sk-estimator-id-2\" type=\"checkbox\" checked><label for=\"sk-estimator-id-2\" class=\"sk-toggleable__label sk-toggleable__label-arrow\">LinearRegression</label><div class=\"sk-toggleable__content\"><pre>LinearRegression()</pre></div></div></div></div></div>"
      ],
      "text/plain": [
       "LinearRegression()"
      ]
     },
     "execution_count": null,
     "metadata": {},
     "output_type": "execute_result"
    }
   ],
   "source": []
  },
  {
   "attachments": {},
   "cell_type": "markdown",
   "id": "ad790400-f5df-4a1b-b191-72d10aae064f",
   "metadata": {
    "papermill": {
     "duration": 0.003343,
     "end_time": "2024-05-10T12:01:23.612539",
     "exception": false,
     "start_time": "2024-05-10T12:01:23.609196",
     "status": "completed"
    },
    "tags": []
   },
   "source": [
    "### Predictions"
   ]
  },
  {
   "cell_type": "code",
   "execution_count": null,
   "id": "df4f18b4-2d06-44b8-b60a-4f941599209d",
   "metadata": {
    "papermill": {
     "duration": 0.008565,
     "end_time": "2024-05-10T12:01:23.624674",
     "exception": false,
     "start_time": "2024-05-10T12:01:23.616109",
     "status": "completed"
    },
    "tags": []
   },
   "outputs": [
    {
     "data": {
      "text/html": [
       "<div>\n",
       "<style scoped>\n",
       "    .dataframe tbody tr th:only-of-type {\n",
       "        vertical-align: middle;\n",
       "    }\n",
       "\n",
       "    .dataframe tbody tr th {\n",
       "        vertical-align: top;\n",
       "    }\n",
       "\n",
       "    .dataframe thead th {\n",
       "        text-align: right;\n",
       "    }\n",
       "</style>\n",
       "<table border=\"1\" class=\"dataframe\">\n",
       "  <thead>\n",
       "    <tr style=\"text-align: right;\">\n",
       "      <th></th>\n",
       "      <th>y_real</th>\n",
       "      <th>y_pred</th>\n",
       "    </tr>\n",
       "    <tr>\n",
       "      <th>ADDRESS</th>\n",
       "      <th></th>\n",
       "      <th></th>\n",
       "    </tr>\n",
       "  </thead>\n",
       "  <tbody>\n",
       "    <tr>\n",
       "      <th>117 Millbrook Avenue</th>\n",
       "      <td>305000</td>\n",
       "      <td>287306.988737</td>\n",
       "    </tr>\n",
       "    <tr>\n",
       "      <th>10 Yelka Way</th>\n",
       "      <td>460000</td>\n",
       "      <td>424269.757503</td>\n",
       "    </tr>\n",
       "    <tr>\n",
       "      <th>...</th>\n",
       "      <td>...</td>\n",
       "      <td>...</td>\n",
       "    </tr>\n",
       "    <tr>\n",
       "      <th>26 Keyham Street</th>\n",
       "      <td>400000</td>\n",
       "      <td>382523.037292</td>\n",
       "    </tr>\n",
       "    <tr>\n",
       "      <th>7 Millom Way</th>\n",
       "      <td>360000</td>\n",
       "      <td>288644.595117</td>\n",
       "    </tr>\n",
       "  </tbody>\n",
       "</table>\n",
       "<p>62 rows × 2 columns</p>\n",
       "</div>"
      ],
      "text/plain": [
       "                      y_real         y_pred\n",
       "ADDRESS                                    \n",
       "117 Millbrook Avenue  305000  287306.988737\n",
       "10 Yelka Way          460000  424269.757503\n",
       "...                      ...            ...\n",
       "26 Keyham Street      400000  382523.037292\n",
       "7 Millom Way          360000  288644.595117\n",
       "\n",
       "[62 rows x 2 columns]"
      ]
     },
     "execution_count": null,
     "metadata": {},
     "output_type": "execute_result"
    }
   ],
   "source": []
  },
  {
   "cell_type": "code",
   "execution_count": null,
   "id": "1d21b3b3-add0-4e23-bae2-ecb02740b6b7",
   "metadata": {
    "papermill": {
     "duration": 0.009445,
     "end_time": "2024-05-10T12:01:23.638189",
     "exception": false,
     "start_time": "2024-05-10T12:01:23.628744",
     "status": "completed"
    },
    "tags": []
   },
   "outputs": [
    {
     "data": {
      "text/html": [
       "<div>\n",
       "<style scoped>\n",
       "    .dataframe tbody tr th:only-of-type {\n",
       "        vertical-align: middle;\n",
       "    }\n",
       "\n",
       "    .dataframe tbody tr th {\n",
       "        vertical-align: top;\n",
       "    }\n",
       "\n",
       "    .dataframe thead th {\n",
       "        text-align: right;\n",
       "    }\n",
       "</style>\n",
       "<table border=\"1\" class=\"dataframe\">\n",
       "  <thead>\n",
       "    <tr style=\"text-align: right;\">\n",
       "      <th></th>\n",
       "      <th>y_real</th>\n",
       "      <th>y_pred</th>\n",
       "      <th>error</th>\n",
       "    </tr>\n",
       "    <tr>\n",
       "      <th>ADDRESS</th>\n",
       "      <th></th>\n",
       "      <th></th>\n",
       "      <th></th>\n",
       "    </tr>\n",
       "  </thead>\n",
       "  <tbody>\n",
       "    <tr>\n",
       "      <th>117 Millbrook Avenue</th>\n",
       "      <td>305000</td>\n",
       "      <td>287306.988737</td>\n",
       "      <td>17693.011263</td>\n",
       "    </tr>\n",
       "    <tr>\n",
       "      <th>10 Yelka Way</th>\n",
       "      <td>460000</td>\n",
       "      <td>424269.757503</td>\n",
       "      <td>35730.242497</td>\n",
       "    </tr>\n",
       "    <tr>\n",
       "      <th>...</th>\n",
       "      <td>...</td>\n",
       "      <td>...</td>\n",
       "      <td>...</td>\n",
       "    </tr>\n",
       "    <tr>\n",
       "      <th>26 Keyham Street</th>\n",
       "      <td>400000</td>\n",
       "      <td>382523.037292</td>\n",
       "      <td>17476.962708</td>\n",
       "    </tr>\n",
       "    <tr>\n",
       "      <th>7 Millom Way</th>\n",
       "      <td>360000</td>\n",
       "      <td>288644.595117</td>\n",
       "      <td>71355.404883</td>\n",
       "    </tr>\n",
       "  </tbody>\n",
       "</table>\n",
       "<p>62 rows × 3 columns</p>\n",
       "</div>"
      ],
      "text/plain": [
       "                      y_real         y_pred         error\n",
       "ADDRESS                                                  \n",
       "117 Millbrook Avenue  305000  287306.988737  17693.011263\n",
       "10 Yelka Way          460000  424269.757503  35730.242497\n",
       "...                      ...            ...           ...\n",
       "26 Keyham Street      400000  382523.037292  17476.962708\n",
       "7 Millom Way          360000  288644.595117  71355.404883\n",
       "\n",
       "[62 rows x 3 columns]"
      ]
     },
     "execution_count": null,
     "metadata": {},
     "output_type": "execute_result"
    }
   ],
   "source": []
  },
  {
   "cell_type": "code",
   "execution_count": null,
   "id": "731ad5bf-fabb-42de-9489-78719b256d49",
   "metadata": {
    "papermill": {
     "duration": 0.007867,
     "end_time": "2024-05-10T12:01:23.649694",
     "exception": false,
     "start_time": "2024-05-10T12:01:23.641827",
     "status": "completed"
    },
    "tags": []
   },
   "outputs": [
    {
     "data": {
      "text/html": [
       "<div>\n",
       "<style scoped>\n",
       "    .dataframe tbody tr th:only-of-type {\n",
       "        vertical-align: middle;\n",
       "    }\n",
       "\n",
       "    .dataframe tbody tr th {\n",
       "        vertical-align: top;\n",
       "    }\n",
       "\n",
       "    .dataframe thead th {\n",
       "        text-align: right;\n",
       "    }\n",
       "</style>\n",
       "<table border=\"1\" class=\"dataframe\">\n",
       "  <thead>\n",
       "    <tr style=\"text-align: right;\">\n",
       "      <th></th>\n",
       "      <th>y_real</th>\n",
       "      <th>y_pred</th>\n",
       "      <th>error</th>\n",
       "      <th>error2</th>\n",
       "    </tr>\n",
       "    <tr>\n",
       "      <th>ADDRESS</th>\n",
       "      <th></th>\n",
       "      <th></th>\n",
       "      <th></th>\n",
       "      <th></th>\n",
       "    </tr>\n",
       "  </thead>\n",
       "  <tbody>\n",
       "    <tr>\n",
       "      <th>117 Millbrook Avenue</th>\n",
       "      <td>305000</td>\n",
       "      <td>287306.988737</td>\n",
       "      <td>17693.011263</td>\n",
       "      <td>3.130426e+08</td>\n",
       "    </tr>\n",
       "    <tr>\n",
       "      <th>10 Yelka Way</th>\n",
       "      <td>460000</td>\n",
       "      <td>424269.757503</td>\n",
       "      <td>35730.242497</td>\n",
       "      <td>1.276650e+09</td>\n",
       "    </tr>\n",
       "    <tr>\n",
       "      <th>...</th>\n",
       "      <td>...</td>\n",
       "      <td>...</td>\n",
       "      <td>...</td>\n",
       "      <td>...</td>\n",
       "    </tr>\n",
       "    <tr>\n",
       "      <th>26 Keyham Street</th>\n",
       "      <td>400000</td>\n",
       "      <td>382523.037292</td>\n",
       "      <td>17476.962708</td>\n",
       "      <td>3.054442e+08</td>\n",
       "    </tr>\n",
       "    <tr>\n",
       "      <th>7 Millom Way</th>\n",
       "      <td>360000</td>\n",
       "      <td>288644.595117</td>\n",
       "      <td>71355.404883</td>\n",
       "      <td>5.091594e+09</td>\n",
       "    </tr>\n",
       "  </tbody>\n",
       "</table>\n",
       "<p>62 rows × 4 columns</p>\n",
       "</div>"
      ],
      "text/plain": [
       "                      y_real         y_pred         error        error2\n",
       "ADDRESS                                                                \n",
       "117 Millbrook Avenue  305000  287306.988737  17693.011263  3.130426e+08\n",
       "10 Yelka Way          460000  424269.757503  35730.242497  1.276650e+09\n",
       "...                      ...            ...           ...           ...\n",
       "26 Keyham Street      400000  382523.037292  17476.962708  3.054442e+08\n",
       "7 Millom Way          360000  288644.595117  71355.404883  5.091594e+09\n",
       "\n",
       "[62 rows x 4 columns]"
      ]
     },
     "execution_count": null,
     "metadata": {},
     "output_type": "execute_result"
    }
   ],
   "source": []
  },
  {
   "attachments": {},
   "cell_type": "markdown",
   "id": "19ff4f86-7a14-48f1-b92d-cec170a10a93",
   "metadata": {
    "papermill": {
     "duration": 0.003453,
     "end_time": "2024-05-10T12:01:23.656667",
     "exception": false,
     "start_time": "2024-05-10T12:01:23.653214",
     "status": "completed"
    },
    "tags": []
   },
   "source": [
    "### Metrics"
   ]
  },
  {
   "attachments": {},
   "cell_type": "markdown",
   "id": "2ecc2658-fc3c-48f4-8866-a7609a4fde51",
   "metadata": {
    "papermill": {
     "duration": 0.003468,
     "end_time": "2024-05-10T12:01:23.663733",
     "exception": false,
     "start_time": "2024-05-10T12:01:23.660265",
     "status": "completed"
    },
    "tags": []
   },
   "source": [
    "#### MSE: Mean Squared Error"
   ]
  },
  {
   "cell_type": "code",
   "execution_count": null,
   "id": "a4946a72-2e01-4356-ad56-99ae027c92c8",
   "metadata": {
    "papermill": {
     "duration": 0.006469,
     "end_time": "2024-05-10T12:01:23.673620",
     "exception": false,
     "start_time": "2024-05-10T12:01:23.667151",
     "status": "completed"
    },
    "tags": []
   },
   "outputs": [
    {
     "data": {
      "text/plain": [
       "1164969171.5051475"
      ]
     },
     "execution_count": null,
     "metadata": {},
     "output_type": "execute_result"
    }
   ],
   "source": []
  },
  {
   "cell_type": "code",
   "execution_count": null,
   "id": "0b0e91e6-aca4-4fbc-aad3-011f0664e82a",
   "metadata": {
    "papermill": {
     "duration": 0.006687,
     "end_time": "2024-05-10T12:01:23.683751",
     "exception": false,
     "start_time": "2024-05-10T12:01:23.677064",
     "status": "completed"
    },
    "tags": []
   },
   "outputs": [
    {
     "data": {
      "text/plain": [
       "1164969171.5051475"
      ]
     },
     "execution_count": null,
     "metadata": {},
     "output_type": "execute_result"
    }
   ],
   "source": []
  },
  {
   "attachments": {},
   "cell_type": "markdown",
   "id": "4a4e2acd-6eaf-4060-9c24-9f1795e7697b",
   "metadata": {
    "papermill": {
     "duration": 0.003524,
     "end_time": "2024-05-10T12:01:23.691484",
     "exception": false,
     "start_time": "2024-05-10T12:01:23.687960",
     "status": "completed"
    },
    "tags": []
   },
   "source": [
    "#### RMSE: Root Mean Squared Error"
   ]
  },
  {
   "cell_type": "code",
   "execution_count": null,
   "id": "5f4acc9b-7e0a-474b-aefb-a79a40d226bd",
   "metadata": {
    "papermill": {
     "duration": 0.006368,
     "end_time": "2024-05-10T12:01:23.701361",
     "exception": false,
     "start_time": "2024-05-10T12:01:23.694993",
     "status": "completed"
    },
    "tags": []
   },
   "outputs": [
    {
     "data": {
      "text/plain": [
       "34131.64472311798"
      ]
     },
     "execution_count": null,
     "metadata": {},
     "output_type": "execute_result"
    }
   ],
   "source": []
  },
  {
   "cell_type": "code",
   "execution_count": null,
   "id": "2faf54ed-6d0e-4711-8a6b-0152627f4227",
   "metadata": {
    "papermill": {
     "duration": 0.007212,
     "end_time": "2024-05-10T12:01:23.712171",
     "exception": false,
     "start_time": "2024-05-10T12:01:23.704959",
     "status": "completed"
    },
    "tags": []
   },
   "outputs": [
    {
     "data": {
      "text/plain": [
       "34131.64472311798"
      ]
     },
     "execution_count": null,
     "metadata": {},
     "output_type": "execute_result"
    }
   ],
   "source": []
  },
  {
   "attachments": {},
   "cell_type": "markdown",
   "id": "85ba9786-c2dd-4177-8558-9517866a903f",
   "metadata": {
    "papermill": {
     "duration": 0.003612,
     "end_time": "2024-05-10T12:01:23.719489",
     "exception": false,
     "start_time": "2024-05-10T12:01:23.715877",
     "status": "completed"
    },
    "tags": []
   },
   "source": [
    "#### R-Squared"
   ]
  },
  {
   "cell_type": "code",
   "execution_count": null,
   "id": "6d1ee56a-f371-4b18-af92-7c2a22818254",
   "metadata": {
    "papermill": {
     "duration": 0.007286,
     "end_time": "2024-05-10T12:01:23.730704",
     "exception": false,
     "start_time": "2024-05-10T12:01:23.723418",
     "status": "completed"
    },
    "tags": []
   },
   "outputs": [
    {
     "data": {
      "text/plain": [
       "ADDRESS\n",
       "117 Millbrook Avenue    6.147066e+09\n",
       "10 Yelka Way            5.867066e+09\n",
       "                            ...     \n",
       "26 Keyham Street        2.754529e+08\n",
       "7 Millom Way            5.477110e+08\n",
       "Name: Price, Length: 62, dtype: float64"
      ]
     },
     "execution_count": null,
     "metadata": {},
     "output_type": "execute_result"
    }
   ],
   "source": []
  },
  {
   "cell_type": "code",
   "execution_count": null,
   "id": "6de38aea-d1c7-44e4-a55e-c67685950aa4",
   "metadata": {
    "papermill": {
     "duration": 0.0069,
     "end_time": "2024-05-10T12:01:23.741481",
     "exception": false,
     "start_time": "2024-05-10T12:01:23.734581",
     "status": "completed"
    },
    "tags": []
   },
   "outputs": [
    {
     "data": {
      "text/plain": [
       "3047119667.0135283"
      ]
     },
     "execution_count": null,
     "metadata": {},
     "output_type": "execute_result"
    }
   ],
   "source": []
  },
  {
   "cell_type": "code",
   "execution_count": null,
   "id": "3e24a7ed-1453-4548-a657-9f784b4b706b",
   "metadata": {
    "papermill": {
     "duration": 0.006764,
     "end_time": "2024-05-10T12:01:23.752021",
     "exception": false,
     "start_time": "2024-05-10T12:01:23.745257",
     "status": "completed"
    },
    "tags": []
   },
   "outputs": [
    {
     "data": {
      "text/plain": [
       "0.3823181557706691"
      ]
     },
     "execution_count": null,
     "metadata": {},
     "output_type": "execute_result"
    }
   ],
   "source": []
  },
  {
   "cell_type": "code",
   "execution_count": null,
   "id": "00dedac8-23e3-49a0-bbbf-a28e71051a8a",
   "metadata": {
    "papermill": {
     "duration": 0.006715,
     "end_time": "2024-05-10T12:01:23.762602",
     "exception": false,
     "start_time": "2024-05-10T12:01:23.755887",
     "status": "completed"
    },
    "tags": []
   },
   "outputs": [
    {
     "data": {
      "text/plain": [
       "0.6176818442293309"
      ]
     },
     "execution_count": null,
     "metadata": {},
     "output_type": "execute_result"
    }
   ],
   "source": []
  },
  {
   "cell_type": "code",
   "execution_count": null,
   "id": "c94ece4b-c348-4bbd-aecb-cbfdb383ee34",
   "metadata": {
    "papermill": {
     "duration": 0.008034,
     "end_time": "2024-05-10T12:01:23.774418",
     "exception": false,
     "start_time": "2024-05-10T12:01:23.766384",
     "status": "completed"
    },
    "tags": []
   },
   "outputs": [
    {
     "data": {
      "text/plain": [
       "0.6176818442293309"
      ]
     },
     "execution_count": null,
     "metadata": {},
     "output_type": "execute_result"
    }
   ],
   "source": []
  },
  {
   "attachments": {},
   "cell_type": "markdown",
   "id": "3df4923c-0524-481b-b15c-85e4c69e6335",
   "metadata": {
    "papermill": {
     "duration": 0.00373,
     "end_time": "2024-05-10T12:01:23.782014",
     "exception": false,
     "start_time": "2024-05-10T12:01:23.778284",
     "status": "completed"
    },
    "tags": []
   },
   "source": [
    "#### MAE: Mean Absolute Error"
   ]
  },
  {
   "cell_type": "code",
   "execution_count": null,
   "id": "4d40c0e7-4b9d-47d2-942a-0da5b137e1fb",
   "metadata": {
    "papermill": {
     "duration": 0.006963,
     "end_time": "2024-05-10T12:01:23.792991",
     "exception": false,
     "start_time": "2024-05-10T12:01:23.786028",
     "status": "completed"
    },
    "tags": []
   },
   "outputs": [
    {
     "data": {
      "text/plain": [
       "25889.866006540437"
      ]
     },
     "execution_count": null,
     "metadata": {},
     "output_type": "execute_result"
    }
   ],
   "source": []
  },
  {
   "cell_type": "code",
   "execution_count": null,
   "id": "b3093bcf-e0c6-4be4-bf3c-513742166a6f",
   "metadata": {
    "papermill": {
     "duration": 0.006968,
     "end_time": "2024-05-10T12:01:23.803929",
     "exception": false,
     "start_time": "2024-05-10T12:01:23.796961",
     "status": "completed"
    },
    "tags": []
   },
   "outputs": [
    {
     "data": {
      "text/plain": [
       "25889.866006540437"
      ]
     },
     "execution_count": null,
     "metadata": {},
     "output_type": "execute_result"
    }
   ],
   "source": []
  }
 ],
 "metadata": {
  "kernelspec": {
   "display_name": "Python 3 (ipykernel)",
   "language": "python",
   "name": "python3"
  },
  "language_info": {
   "codemirror_mode": {
    "name": "ipython",
    "version": 3
   },
   "file_extension": ".py",
   "mimetype": "text/x-python",
   "name": "python",
   "nbconvert_exporter": "python",
   "pygments_lexer": "ipython3",
   "version": "3.10.12"
  },
  "papermill": {
   "default_parameters": {},
   "duration": 2.518909,
   "end_time": "2024-05-10T12:01:24.124771",
   "environment_variables": {},
   "exception": null,
   "input_path": "/Users/sota/Dropbox/2 Business/1 Datons/2 Areas/Courses/03 ML/materials/notebooks/30_ML Details/02_Evaluation/B.ipynb",
   "output_path": "/Users/sota/Dropbox/2 Business/1 Datons/2 Areas/Courses/03 ML/materials/notebooks/30_ML Details/02_Evaluation/B.ipynb",
   "parameters": {},
   "start_time": "2024-05-10T12:01:21.605862",
   "version": "2.5.0"
  }
 },
 "nbformat": 4,
 "nbformat_minor": 5
}
