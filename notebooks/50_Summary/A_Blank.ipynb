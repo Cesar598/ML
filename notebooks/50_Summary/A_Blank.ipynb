{
 "cells": [
  {
   "attachments": {},
   "cell_type": "markdown",
   "id": "0ffe6f69",
   "metadata": {
    "papermill": {
     "duration": 0.00612,
     "end_time": "2024-07-06T19:29:33.460430",
     "exception": false,
     "start_time": "2024-07-06T19:29:33.454310",
     "status": "completed"
    },
    "tags": []
   },
   "source": [
    "# Best Practice Steps"
   ]
  },
  {
   "attachments": {},
   "cell_type": "markdown",
   "id": "acd1f8c4",
   "metadata": {
    "papermill": {
     "duration": 0.006295,
     "end_time": "2024-07-06T19:29:33.472577",
     "exception": false,
     "start_time": "2024-07-06T19:29:33.466282",
     "status": "completed"
    },
    "tags": []
   },
   "source": [
    "## Load data"
   ]
  },
  {
   "cell_type": "code",
   "execution_count": null,
   "id": "112c5440",
   "metadata": {
    "execution": {
     "iopub.execute_input": "2024-07-06T19:29:33.526032Z",
     "iopub.status.busy": "2024-07-06T19:29:33.525700Z",
     "iopub.status.idle": "2024-07-06T19:29:34.281340Z",
     "shell.execute_reply": "2024-07-06T19:29:34.280678Z"
    },
    "papermill": {
     "duration": 0.786666,
     "end_time": "2024-07-06T19:29:34.284973",
     "exception": false,
     "start_time": "2024-07-06T19:29:33.498307",
     "status": "completed"
    },
    "tags": [
     "change-false"
    ]
   },
   "outputs": [],
   "source": []
  },
  {
   "attachments": {},
   "cell_type": "markdown",
   "id": "a2c6eac1",
   "metadata": {
    "papermill": {
     "duration": 0.008482,
     "end_time": "2024-07-06T19:29:34.303663",
     "exception": false,
     "start_time": "2024-07-06T19:29:34.295181",
     "status": "completed"
    },
    "tags": []
   },
   "source": [
    "## Feature selection"
   ]
  },
  {
   "cell_type": "code",
   "execution_count": null,
   "id": "dc1ac42b",
   "metadata": {
    "execution": {
     "iopub.execute_input": "2024-07-06T19:29:34.316640Z",
     "iopub.status.busy": "2024-07-06T19:29:34.316256Z",
     "iopub.status.idle": "2024-07-06T19:29:34.321598Z",
     "shell.execute_reply": "2024-07-06T19:29:34.320796Z"
    },
    "papermill": {
     "duration": 0.014304,
     "end_time": "2024-07-06T19:29:34.323765",
     "exception": false,
     "start_time": "2024-07-06T19:29:34.309461",
     "status": "completed"
    },
    "tags": [
     "change-false"
    ]
   },
   "outputs": [],
   "source": []
  },
  {
   "attachments": {},
   "cell_type": "markdown",
   "id": "ff48b3ac",
   "metadata": {
    "papermill": {
     "duration": 0.006129,
     "end_time": "2024-07-06T19:29:34.335204",
     "exception": false,
     "start_time": "2024-07-06T19:29:34.329075",
     "status": "completed"
    },
    "tags": []
   },
   "source": [
    "## Train test split"
   ]
  },
  {
   "cell_type": "code",
   "execution_count": null,
   "id": "57908e25",
   "metadata": {
    "execution": {
     "iopub.execute_input": "2024-07-06T19:29:34.355494Z",
     "iopub.status.busy": "2024-07-06T19:29:34.354470Z",
     "iopub.status.idle": "2024-07-06T19:29:35.760603Z",
     "shell.execute_reply": "2024-07-06T19:29:35.759915Z"
    },
    "papermill": {
     "duration": 1.420604,
     "end_time": "2024-07-06T19:29:35.762556",
     "exception": false,
     "start_time": "2024-07-06T19:29:34.341952",
     "status": "completed"
    },
    "tags": [
     "change-false"
    ]
   },
   "outputs": [],
   "source": []
  },
  {
   "attachments": {},
   "cell_type": "markdown",
   "id": "aaddf548",
   "metadata": {
    "papermill": {
     "duration": 0.006196,
     "end_time": "2024-07-06T19:29:35.774094",
     "exception": false,
     "start_time": "2024-07-06T19:29:35.767898",
     "status": "completed"
    },
    "tags": []
   },
   "source": [
    "## Data preprocessing"
   ]
  },
  {
   "cell_type": "code",
   "execution_count": null,
   "id": "d7191bc9",
   "metadata": {
    "execution": {
     "iopub.execute_input": "2024-07-06T19:29:35.800360Z",
     "iopub.status.busy": "2024-07-06T19:29:35.799956Z",
     "iopub.status.idle": "2024-07-06T19:29:35.806012Z",
     "shell.execute_reply": "2024-07-06T19:29:35.805387Z"
    },
    "papermill": {
     "duration": 0.014984,
     "end_time": "2024-07-06T19:29:35.807911",
     "exception": false,
     "start_time": "2024-07-06T19:29:35.792927",
     "status": "completed"
    },
    "tags": [
     "change-false"
    ]
   },
   "outputs": [],
   "source": []
  },
  {
   "cell_type": "code",
   "execution_count": null,
   "id": "c68ab203",
   "metadata": {
    "execution": {
     "iopub.execute_input": "2024-07-06T19:29:35.818865Z",
     "iopub.status.busy": "2024-07-06T19:29:35.818557Z",
     "iopub.status.idle": "2024-07-06T19:29:35.824581Z",
     "shell.execute_reply": "2024-07-06T19:29:35.823853Z"
    },
    "papermill": {
     "duration": 0.013527,
     "end_time": "2024-07-06T19:29:35.826403",
     "exception": false,
     "start_time": "2024-07-06T19:29:35.812876",
     "status": "completed"
    },
    "tags": []
   },
   "outputs": [],
   "source": []
  },
  {
   "cell_type": "code",
   "execution_count": null,
   "id": "5fa4e56a",
   "metadata": {
    "execution": {
     "iopub.execute_input": "2024-07-06T19:29:35.839431Z",
     "iopub.status.busy": "2024-07-06T19:29:35.839186Z",
     "iopub.status.idle": "2024-07-06T19:29:35.847514Z",
     "shell.execute_reply": "2024-07-06T19:29:35.846906Z"
    },
    "papermill": {
     "duration": 0.016594,
     "end_time": "2024-07-06T19:29:35.849086",
     "exception": false,
     "start_time": "2024-07-06T19:29:35.832492",
     "status": "completed"
    },
    "tags": []
   },
   "outputs": [],
   "source": []
  },
  {
   "cell_type": "markdown",
   "id": "5145d6f5",
   "metadata": {},
   "source": [
    "## Modelling multiple algorithms with grid search and pipelines"
   ]
  },
  {
   "cell_type": "markdown",
   "id": "b46a9e0d",
   "metadata": {},
   "source": [
    "### Parameters for grid search"
   ]
  },
  {
   "cell_type": "code",
   "execution_count": null,
   "id": "1e4dba91",
   "metadata": {},
   "outputs": [],
   "source": []
  },
  {
   "cell_type": "markdown",
   "id": "7b0af15c",
   "metadata": {},
   "source": [
    "### Iterating over the models"
   ]
  },
  {
   "cell_type": "code",
   "execution_count": null,
   "id": "797ef36a",
   "metadata": {},
   "outputs": [],
   "source": []
  },
  {
   "cell_type": "markdown",
   "id": "8f64a393",
   "metadata": {},
   "source": [
    "### Results evaluation"
   ]
  },
  {
   "cell_type": "code",
   "execution_count": null,
   "id": "4880f88c",
   "metadata": {},
   "outputs": [],
   "source": []
  },
  {
   "cell_type": "markdown",
   "id": "d4bef7d6",
   "metadata": {},
   "source": [
    "### Select best model"
   ]
  },
  {
   "cell_type": "code",
   "execution_count": null,
   "id": "613649c9",
   "metadata": {},
   "outputs": [],
   "source": []
  },
  {
   "cell_type": "code",
   "execution_count": null,
   "id": "52f3979b",
   "metadata": {},
   "outputs": [],
   "source": []
  },
  {
   "cell_type": "markdown",
   "id": "795e6e2e",
   "metadata": {},
   "source": [
    "## SHAP values"
   ]
  },
  {
   "cell_type": "markdown",
   "id": "fb4168a5",
   "metadata": {},
   "source": [
    "### Downsample to optimize computation at permutation"
   ]
  },
  {
   "cell_type": "code",
   "execution_count": null,
   "id": "db4750a7",
   "metadata": {},
   "outputs": [],
   "source": []
  },
  {
   "cell_type": "markdown",
   "id": "b046d182",
   "metadata": {},
   "source": [
    "### Helper function for explainer"
   ]
  },
  {
   "cell_type": "code",
   "execution_count": null,
   "id": "67583534",
   "metadata": {},
   "outputs": [],
   "source": []
  },
  {
   "cell_type": "markdown",
   "id": "3f009b43",
   "metadata": {},
   "source": [
    "### Explainer"
   ]
  },
  {
   "cell_type": "code",
   "execution_count": null,
   "id": "2f86e09b",
   "metadata": {},
   "outputs": [],
   "source": []
  },
  {
   "cell_type": "markdown",
   "id": "b75f2761",
   "metadata": {},
   "source": [
    "### SHAP values"
   ]
  },
  {
   "cell_type": "code",
   "execution_count": null,
   "id": "8b6e9051",
   "metadata": {},
   "outputs": [],
   "source": []
  },
  {
   "cell_type": "markdown",
   "id": "c355e932",
   "metadata": {},
   "source": [
    "### Plots"
   ]
  },
  {
   "cell_type": "markdown",
   "id": "050707cc",
   "metadata": {},
   "source": [
    "#### Summary: Bar"
   ]
  },
  {
   "cell_type": "code",
   "execution_count": null,
   "id": "4e51f907",
   "metadata": {},
   "outputs": [],
   "source": []
  },
  {
   "cell_type": "markdown",
   "id": "9fc8f440",
   "metadata": {},
   "source": [
    "#### Summary: Dot"
   ]
  },
  {
   "cell_type": "code",
   "execution_count": null,
   "id": "6d40b1fd",
   "metadata": {},
   "outputs": [],
   "source": []
  },
  {
   "cell_type": "markdown",
   "id": "eb827eaf",
   "metadata": {},
   "source": [
    "#### Force"
   ]
  },
  {
   "cell_type": "code",
   "execution_count": null,
   "id": "f1424a87",
   "metadata": {},
   "outputs": [],
   "source": []
  },
  {
   "cell_type": "code",
   "execution_count": null,
   "id": "15b97fdc",
   "metadata": {},
   "outputs": [],
   "source": []
  },
  {
   "cell_type": "markdown",
   "id": "fde464d6",
   "metadata": {},
   "source": [
    "#### Decision"
   ]
  },
  {
   "cell_type": "code",
   "execution_count": null,
   "id": "523a72f6",
   "metadata": {},
   "outputs": [],
   "source": []
  },
  {
   "cell_type": "markdown",
   "id": "bdcea579",
   "metadata": {},
   "source": [
    "#### Force Individual"
   ]
  },
  {
   "cell_type": "code",
   "execution_count": null,
   "id": "9df3256e",
   "metadata": {},
   "outputs": [],
   "source": []
  }
 ],
 "metadata": {
  "kernelspec": {
   "display_name": "Python 3 (ipykernel)",
   "language": "python",
   "name": "python3"
  },
  "language_info": {
   "codemirror_mode": {
    "name": "ipython",
    "version": 3
   },
   "file_extension": ".py",
   "mimetype": "text/x-python",
   "name": "python",
   "nbconvert_exporter": "python",
   "pygments_lexer": "ipython3",
   "version": "3.12.3"
  },
  "papermill": {
   "default_parameters": {},
   "duration": 10.318245,
   "end_time": "2024-07-06T19:29:41.410934",
   "environment_variables": {},
   "exception": null,
   "input_path": "/Users/sota/Dropbox/2 Business/1 Datons/2 Areas/Courses/3 Catalogue/20 ML/1 Materials/ML/notebooks/40_Data Preprocessing/3_Steps/B_Solution.ipynb",
   "output_path": "/Users/sota/Dropbox/2 Business/1 Datons/2 Areas/Courses/3 Catalogue/20 ML/1 Materials/ML/notebooks/40_Data Preprocessing/3_Steps/B_Solution.ipynb",
   "parameters": {},
   "start_time": "2024-07-06T19:29:31.092689",
   "version": "2.5.0"
  }
 },
 "nbformat": 4,
 "nbformat_minor": 5
}
